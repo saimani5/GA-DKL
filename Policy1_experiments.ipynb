{
 "cells": [
  {
   "cell_type": "code",
   "execution_count": 1,
   "id": "b63641c8-bb98-47d1-9a0e-35a3f4d4b8cf",
   "metadata": {},
   "outputs": [
    {
     "name": "stderr",
     "output_type": "stream",
     "text": [
      "/nfs/home/svalleti/anaconda3/envs/ferrosim/lib/python3.9/site-packages/tqdm/auto.py:21: TqdmWarning: IProgress not found. Please update jupyter and ipywidgets. See https://ipywidgets.readthedocs.io/en/stable/user_install.html\n",
      "  from .autonotebook import tqdm as notebook_tqdm\n"
     ]
    }
   ],
   "source": [
    "import numpy as np\n",
    "import matplotlib.pyplot as plt\n",
    "from ferrosim import Ferro2DSim\n",
    "# import torch\n",
    "import joblib\n",
    "from joblib import Parallel, delayed, parallel_backend\n",
    "import time\n",
    "np.random.seed(512)\n",
    "import pandas as pd\n",
    "# from sklearn.model_selection import train_test_split\n",
    "from scipy.stats import halfnorm, norm\n",
    "import pickle\n",
    "\n",
    "import gpax\n",
    "import jax.numpy as jnp\n",
    "gpax.utils.enable_x64()"
   ]
  },
  {
   "cell_type": "code",
   "execution_count": 2,
   "id": "d184f45d-931c-4250-a6a4-10092653ad9d",
   "metadata": {},
   "outputs": [],
   "source": [
    "import haiku as hk\n",
    "\n",
    "class customMLP(hk.Module):\n",
    "    \"\"\"Simple MLP\"\"\"\n",
    "    def __init__(self, embedim=2):\n",
    "        super().__init__()\n",
    "        self._embedim = embedim\n",
    "\n",
    "    def __call__(self, x):\n",
    "        x = hk.Linear(128)(x)\n",
    "        x = jax.nn.relu(x)\n",
    "        x = hk.Linear(128)(x)\n",
    "        x = jax.nn.relu(x)\n",
    "        x = hk.Linear(self._embedim)(x)\n",
    "        return x"
   ]
  },
  {
   "cell_type": "code",
   "execution_count": 3,
   "id": "09456afa-4ada-4f88-adc6-65c7eb92e503",
   "metadata": {},
   "outputs": [],
   "source": [
    "class CustomCNN(hk.Module):\n",
    "    def __init__(self, embedim = 2, name=None):\n",
    "        super().__init__(name=name)\n",
    "        self._embedim = embedim\n",
    "\n",
    "    def __call__(self, x):\n",
    "        # x shape should be (batch_size, 900, 1) where 1 is the number of channels\n",
    "        x = hk.Conv1D(output_channels=8, kernel_shape=3, stride=1, padding='SAME')(x)\n",
    "        x = jax.nn.relu(x)\n",
    "        x = hk.MaxPool(window_shape=2, strides=2, padding='VALID')(x)\n",
    "        \n",
    "        x = hk.Conv1D(output_channels=16, kernel_shape=3, stride=1, padding='SAME')(x)\n",
    "        x = jax.nn.relu(x)\n",
    "        x = hk.MaxPool(window_shape=2, strides=2, padding='VALID')(x)\n",
    "        \n",
    "        x = hk.Conv1D(output_channels=32, kernel_shape=3, stride=1, padding='SAME')(x)\n",
    "        x = jax.nn.relu(x)\n",
    "        x = hk.MaxPool(window_shape=2, strides=2, padding='VALID')(x)\n",
    "        \n",
    "        # Flatten the output\n",
    "        x = hk.Flatten()(x)\n",
    "        \n",
    "        # Fully connected layer to the desired number of output neurons\n",
    "        # x = hk.Linear(32)(x)\n",
    "        # Fully connected layer to the desired number of output neurons\n",
    "        x = hk.Linear(self._embedim)(x)\n",
    "        return x"
   ]
  },
  {
   "cell_type": "code",
   "execution_count": 4,
   "id": "5c7e225e-da8c-4fef-b911-8e2f14684d65",
   "metadata": {},
   "outputs": [],
   "source": [
    "def runferrosim(i, X, fmul = 150):\n",
    "    applied_field = np.zeros([len(t_vec_ext),2])\n",
    "    applied_field[0:900,0] = fmul*X[i]\n",
    "    applied_field[900::,0] = applied_field[899, 0]\n",
    "    sim = Ferro2DSim(n=20, time_vec = t_vec_ext, appliedE= applied_field,\n",
    "                 defects=defect_list, \n",
    "                 mode = 'tetragonal', init = 'pr', k=100.0, dep_alpha = 0.3)\n",
    "    sim.runSim()\n",
    "    curl = np.sum(np.abs(sim.calc_curl(sim.getPmat(time_step = -1))))\n",
    "    # pmat = sim.getPmat(time_step = -1)\n",
    "    # np.sum(np.abs(sim.calc_curl(pmats_total[i])))\n",
    "    \n",
    "    del sim\n",
    "    return curl"
   ]
  },
  {
   "cell_type": "code",
   "execution_count": 5,
   "id": "c72bd1f3-bbf2-4108-a191-2344f8863ef3",
   "metadata": {},
   "outputs": [],
   "source": [
    "dataset = np.load('dataset.npy')   # 7,500 electric fields, the generation of these will be discussed below\n",
    "curls = np.load('curls.npy')   # Polarization matrices at the end of FerroSIM simulations for the electric fields downloaded\n",
    "defects = np.load('defect_list_seed.npy')   # Defects used in ferroSIM simulations\n",
    "defect_list = list(defects)\n",
    "with open('allgens_data_take2.pickle', 'rb') as handle:\n",
    "    data_gens = pickle.load(handle)\n",
    "\n",
    "t_vec_dummy = np.linspace(0,4,1200)\n",
    "t_vec = t_vec_dummy[0:900]  #Time used in rvae  \n",
    "t_vec_ext = t_vec_dummy[0:950]    #Time used in ferrosim"
   ]
  },
  {
   "cell_type": "code",
   "execution_count": 12,
   "id": "dd9f213e-65f4-400e-bc61-24b152a4df6d",
   "metadata": {},
   "outputs": [
    {
     "name": "stdout",
     "output_type": "stream",
     "text": [
      "(1003, 900)\n"
     ]
    }
   ],
   "source": [
    "# Let's obtain the ground truth target function for all the inputs in one generation (say 10)\n",
    "print(data_gens[10]['X'].shape)   # We have 1003 inputs associated with generation 10\n",
    "\n",
    "X_input_10thgen = data_gens[10]['X']"
   ]
  },
  {
   "cell_type": "code",
   "execution_count": 13,
   "id": "6b87c58b-8055-4a51-84a7-a03cc4a187be",
   "metadata": {},
   "outputs": [
    {
     "name": "stdout",
     "output_type": "stream",
     "text": [
      "---Performing simulation---\n",
      "---Performing simulation---\n",
      "---Performing simulation---\n",
      "---Performing simulation---\n",
      "---Performing simulation---\n",
      "---Performing simulation---\n",
      "---Performing simulation---\n",
      "---Performing simulation---\n",
      "---Performing simulation---\n",
      "---Performing simulation---\n",
      "---Performing simulation---\n",
      "---Performing simulation---\n",
      "---Performing simulation---\n",
      "---Performing simulation---\n",
      "---Performing simulation---\n",
      "---Performing simulation---\n",
      "---Performing simulation---\n",
      "---Performing simulation---\n",
      "---Performing simulation---\n",
      "---Performing simulation---\n",
      "---Performing simulation---\n",
      "---Performing simulation---\n",
      "---Performing simulation---\n",
      "---Performing simulation---\n",
      "---Performing simulation---\n",
      "---Performing simulation---\n",
      "---Performing simulation---\n",
      "---Performing simulation---\n",
      "---Performing simulation---\n",
      "---Performing simulation---\n",
      "---Performing simulation---\n",
      "---Performing simulation---\n"
     ]
    },
    {
     "name": "stderr",
     "output_type": "stream",
     "text": [
      "100%|██████████| 948/948 [00:15<00:00, 60.87it/s]]\n",
      "100%|██████████| 948/948 [00:15<00:00, 60.76it/s]\n",
      "100%|██████████| 948/948 [00:15<00:00, 60.33it/s]\n",
      "100%|██████████| 948/948 [00:15<00:00, 60.28it/s]\n",
      "100%|██████████| 948/948 [00:15<00:00, 60.23it/s]\n",
      "100%|██████████| 948/948 [00:15<00:00, 60.26it/s]\n",
      "100%|██████████| 948/948 [00:15<00:00, 59.97it/s]\n",
      "100%|██████████| 948/948 [00:15<00:00, 59.65it/s]\n",
      "100%|██████████| 948/948 [00:15<00:00, 59.56it/s]\n",
      "100%|██████████| 948/948 [00:15<00:00, 59.51it/s]\n",
      "100%|██████████| 948/948 [00:15<00:00, 59.41it/s]\n",
      "100%|██████████| 948/948 [00:15<00:00, 59.36it/s]\n",
      "100%|██████████| 948/948 [00:16<00:00, 59.14it/s]\n",
      "100%|██████████| 948/948 [00:16<00:00, 59.06it/s]\n",
      "100%|██████████| 948/948 [00:16<00:00, 59.00it/s]\n",
      "100%|██████████| 948/948 [00:16<00:00, 58.88it/s]\n",
      "100%|██████████| 948/948 [00:16<00:00, 58.79it/s]\n",
      "100%|██████████| 948/948 [00:16<00:00, 58.53it/s]\n",
      "100%|██████████| 948/948 [00:16<00:00, 58.63it/s]\n",
      " 96%|█████████▌| 908/948 [00:16<00:00, 57.61it/s]"
     ]
    },
    {
     "name": "stdout",
     "output_type": "stream",
     "text": [
      "---Performing simulation---\n",
      "---Performing simulation---\n",
      "---Performing simulation---\n",
      "---Performing simulation---\n"
     ]
    },
    {
     "name": "stderr",
     "output_type": "stream",
     "text": [
      "100%|██████████| 948/948 [00:16<00:00, 58.15it/s]\n",
      "100%|██████████| 948/948 [00:16<00:00, 58.09it/s]\n",
      "100%|██████████| 948/948 [00:16<00:00, 58.04it/s]\n",
      "100%|██████████| 948/948 [00:16<00:00, 57.91it/s]\n",
      " 98%|█████████▊| 926/948 [00:16<00:00, 57.06it/s]"
     ]
    },
    {
     "name": "stdout",
     "output_type": "stream",
     "text": [
      "---Performing simulation---\n",
      "---Performing simulation---\n",
      "---Performing simulation---\n",
      "---Performing simulation---\n",
      "---Performing simulation---\n",
      "---Performing simulation---\n"
     ]
    },
    {
     "name": "stderr",
     "output_type": "stream",
     "text": [
      "100%|██████████| 948/948 [00:16<00:00, 57.07it/s]\n",
      " 98%|█████████▊| 932/948 [00:16<00:00, 58.00it/s]"
     ]
    },
    {
     "name": "stdout",
     "output_type": "stream",
     "text": [
      "---Performing simulation---\n",
      "---Performing simulation---\n",
      "---Performing simulation---\n",
      "---Performing simulation---\n",
      "---Performing simulation---\n",
      "---Performing simulation---\n",
      "---Performing simulation---\n"
     ]
    },
    {
     "name": "stderr",
     "output_type": "stream",
     "text": [
      "100%|██████████| 948/948 [00:16<00:00, 56.83it/s]\n",
      "100%|██████████| 948/948 [00:16<00:00, 56.76it/s]\n",
      "100%|██████████| 948/948 [00:16<00:00, 56.25it/s]\n",
      "  4%|▍         | 39/948 [00:00<00:15, 59.49it/s]]"
     ]
    },
    {
     "name": "stdout",
     "output_type": "stream",
     "text": [
      "---Performing simulation---\n",
      "---Performing simulation---\n",
      "---Performing simulation---\n",
      "---Performing simulation---\n",
      "---Performing simulation---\n",
      "---Performing simulation---\n"
     ]
    },
    {
     "name": "stderr",
     "output_type": "stream",
     "text": [
      "100%|██████████| 948/948 [00:16<00:00, 56.16it/s]\n",
      "100%|██████████| 948/948 [00:17<00:00, 55.47it/s]\n",
      "100%|██████████| 948/948 [00:17<00:00, 55.39it/s]\n",
      "  2%|▏         | 18/948 [00:00<00:15, 58.22it/s]"
     ]
    },
    {
     "name": "stdout",
     "output_type": "stream",
     "text": [
      "---Performing simulation---\n",
      "---Performing simulation---\n",
      "---Performing simulation---\n",
      "---Performing simulation---\n"
     ]
    },
    {
     "name": "stderr",
     "output_type": "stream",
     "text": [
      "100%|██████████| 948/948 [00:17<00:00, 55.36it/s]\n",
      "100%|██████████| 948/948 [00:17<00:00, 54.85it/s]\n",
      "  8%|▊         | 73/948 [00:01<00:14, 58.54it/s]"
     ]
    },
    {
     "name": "stdout",
     "output_type": "stream",
     "text": [
      "---Performing simulation---\n",
      "---Performing simulation---\n"
     ]
    },
    {
     "name": "stderr",
     "output_type": "stream",
     "text": [
      "  6%|▌         | 54/948 [00:00<00:16, 55.38it/s]"
     ]
    },
    {
     "name": "stdout",
     "output_type": "stream",
     "text": [
      "---Performing simulation---\n",
      "---Performing simulation---\n",
      "---Performing simulation---\n"
     ]
    },
    {
     "name": "stderr",
     "output_type": "stream",
     "text": [
      "100%|██████████| 948/948 [00:15<00:00, 62.84it/s]\n",
      "100%|██████████| 948/948 [00:15<00:00, 62.72it/s]\n",
      "100%|██████████| 948/948 [00:15<00:00, 63.05it/s]\n",
      "100%|██████████| 948/948 [00:15<00:00, 62.91it/s]\n",
      " 96%|█████████▋| 913/948 [00:14<00:00, 61.57it/s]"
     ]
    },
    {
     "name": "stdout",
     "output_type": "stream",
     "text": [
      "---Performing simulation---\n",
      "---Performing simulation---\n",
      "---Performing simulation---\n",
      "---Performing simulation---\n"
     ]
    },
    {
     "name": "stderr",
     "output_type": "stream",
     "text": [
      "100%|██████████| 948/948 [00:15<00:00, 62.55it/s]\n",
      "100%|██████████| 948/948 [00:15<00:00, 62.11it/s]\n",
      "100%|██████████| 948/948 [00:15<00:00, 63.03it/s]\n",
      "100%|██████████| 948/948 [00:15<00:00, 62.20it/s]\n",
      "100%|██████████| 948/948 [00:15<00:00, 62.46it/s]\n",
      " 98%|█████████▊| 930/948 [00:14<00:00, 62.93it/s]"
     ]
    },
    {
     "name": "stdout",
     "output_type": "stream",
     "text": [
      "---Performing simulation---\n",
      "---Performing simulation---\n",
      "---Performing simulation---\n",
      "---Performing simulation---\n",
      "---Performing simulation---\n"
     ]
    },
    {
     "name": "stderr",
     "output_type": "stream",
     "text": [
      "100%|██████████| 948/948 [00:15<00:00, 62.51it/s]\n",
      "100%|██████████| 948/948 [00:15<00:00, 62.65it/s]\n",
      "100%|██████████| 948/948 [00:15<00:00, 62.43it/s]\n",
      "100%|██████████| 948/948 [00:15<00:00, 62.53it/s]\n",
      "100%|██████████| 948/948 [00:15<00:00, 63.02it/s]\n",
      "100%|██████████| 948/948 [00:15<00:00, 63.03it/s]\n",
      "100%|██████████| 948/948 [00:15<00:00, 61.35it/s]\n",
      "  2%|▏         | 21/948 [00:00<00:14, 62.82it/s]]"
     ]
    },
    {
     "name": "stdout",
     "output_type": "stream",
     "text": [
      "---Performing simulation---\n",
      "---Performing simulation---\n",
      "---Performing simulation---\n",
      "---Performing simulation---\n",
      "---Performing simulation---\n",
      "---Performing simulation---\n",
      "---Performing simulation---\n",
      "---Performing simulation---\n"
     ]
    },
    {
     "name": "stderr",
     "output_type": "stream",
     "text": [
      "100%|██████████| 948/948 [00:15<00:00, 61.79it/s]\n",
      "100%|██████████| 948/948 [00:15<00:00, 62.57it/s]\n",
      "100%|██████████| 948/948 [00:15<00:00, 61.42it/s]\n",
      " 91%|█████████ | 862/948 [00:14<00:01, 55.62it/s]"
     ]
    },
    {
     "name": "stdout",
     "output_type": "stream",
     "text": [
      "---Performing simulation---\n",
      "---Performing simulation---\n"
     ]
    },
    {
     "name": "stderr",
     "output_type": "stream",
     "text": [
      "100%|██████████| 948/948 [00:15<00:00, 61.73it/s]\n",
      "100%|██████████| 948/948 [00:15<00:00, 61.89it/s]\n",
      "  1%|▏         | 14/948 [00:00<00:15, 60.39it/s]]"
     ]
    },
    {
     "name": "stdout",
     "output_type": "stream",
     "text": [
      "---Performing simulation---\n",
      "---Performing simulation---\n"
     ]
    },
    {
     "name": "stderr",
     "output_type": "stream",
     "text": [
      "100%|██████████| 948/948 [00:15<00:00, 60.01it/s]\n",
      "100%|██████████| 948/948 [00:14<00:00, 63.32it/s]\n",
      "  6%|▌         | 56/948 [00:00<00:13, 63.80it/s]]"
     ]
    },
    {
     "name": "stdout",
     "output_type": "stream",
     "text": [
      "---Performing simulation---\n",
      "---Performing simulation---\n"
     ]
    },
    {
     "name": "stderr",
     "output_type": "stream",
     "text": [
      "100%|██████████| 948/948 [00:15<00:00, 62.22it/s]\n",
      "  0%|          | 0/948 [00:00<?, ?it/s]2.27it/s]]"
     ]
    },
    {
     "name": "stdout",
     "output_type": "stream",
     "text": [
      "---Performing simulation---\n",
      "---Performing simulation---\n",
      "---Performing simulation---\n"
     ]
    },
    {
     "name": "stderr",
     "output_type": "stream",
     "text": [
      "100%|██████████| 948/948 [00:15<00:00, 59.66it/s]\n",
      "100%|██████████| 948/948 [00:15<00:00, 59.85it/s]\n",
      "100%|██████████| 948/948 [00:15<00:00, 59.67it/s]\n",
      "  3%|▎         | 28/948 [00:00<00:14, 62.70it/s]]"
     ]
    },
    {
     "name": "stdout",
     "output_type": "stream",
     "text": [
      "---Performing simulation---\n"
     ]
    },
    {
     "name": "stderr",
     "output_type": "stream",
     "text": [
      "100%|██████████| 948/948 [00:15<00:00, 59.28it/s]\n",
      "100%|██████████| 948/948 [00:16<00:00, 57.98it/s]\n",
      "100%|██████████| 948/948 [00:15<00:00, 59.45it/s]\n",
      " 12%|█▏        | 112/948 [00:01<00:13, 60.66it/s]"
     ]
    },
    {
     "name": "stdout",
     "output_type": "stream",
     "text": [
      "---Performing simulation---\n",
      "---Performing simulation---\n",
      "---Performing simulation---\n"
     ]
    },
    {
     "name": "stderr",
     "output_type": "stream",
     "text": [
      "100%|██████████| 948/948 [00:17<00:00, 54.80it/s]\n",
      " 12%|█▏        | 110/948 [00:02<00:16, 52.31it/s]"
     ]
    },
    {
     "name": "stdout",
     "output_type": "stream",
     "text": [
      "---Performing simulation---\n"
     ]
    },
    {
     "name": "stderr",
     "output_type": "stream",
     "text": [
      "100%|██████████| 948/948 [00:16<00:00, 56.84it/s]\n",
      " 20%|█▉        | 186/948 [00:03<00:12, 61.83it/s]"
     ]
    },
    {
     "name": "stdout",
     "output_type": "stream",
     "text": [
      "---Performing simulation---\n"
     ]
    },
    {
     "name": "stderr",
     "output_type": "stream",
     "text": [
      "100%|██████████| 948/948 [00:15<00:00, 62.24it/s]s]\n",
      "100%|██████████| 948/948 [00:15<00:00, 62.53it/s]\n",
      " 86%|████████▋ | 818/948 [00:13<00:02, 61.67it/s]"
     ]
    },
    {
     "name": "stdout",
     "output_type": "stream",
     "text": [
      "---Performing simulation---\n",
      "---Performing simulation---\n",
      "---Performing simulation---\n"
     ]
    },
    {
     "name": "stderr",
     "output_type": "stream",
     "text": [
      "100%|██████████| 948/948 [00:15<00:00, 62.82it/s]\n",
      "100%|██████████| 948/948 [00:15<00:00, 61.64it/s]\n",
      "100%|██████████| 948/948 [00:15<00:00, 60.98it/s]\n",
      "100%|██████████| 948/948 [00:14<00:00, 63.34it/s]\n",
      "100%|██████████| 948/948 [00:15<00:00, 62.93it/s]\n",
      "100%|██████████| 948/948 [00:15<00:00, 61.37it/s]\n",
      " 96%|█████████▌| 910/948 [00:14<00:00, 61.63it/s]"
     ]
    },
    {
     "name": "stdout",
     "output_type": "stream",
     "text": [
      "---Performing simulation---\n",
      "---Performing simulation---\n",
      "---Performing simulation---\n",
      "---Performing simulation---\n",
      "---Performing simulation---\n",
      "---Performing simulation---\n"
     ]
    },
    {
     "name": "stderr",
     "output_type": "stream",
     "text": [
      "100%|██████████| 948/948 [00:15<00:00, 61.26it/s]\n",
      "100%|██████████| 948/948 [00:15<00:00, 61.87it/s]\n",
      "100%|██████████| 948/948 [00:15<00:00, 61.51it/s]\n",
      "100%|██████████| 948/948 [00:15<00:00, 61.75it/s]\n",
      " 86%|████████▋ | 818/948 [00:13<00:02, 60.55it/s]"
     ]
    },
    {
     "name": "stdout",
     "output_type": "stream",
     "text": [
      "---Performing simulation---\n",
      "---Performing simulation---\n",
      "---Performing simulation---\n"
     ]
    },
    {
     "name": "stderr",
     "output_type": "stream",
     "text": [
      "100%|██████████| 948/948 [00:15<00:00, 61.99it/s]\n",
      "100%|██████████| 948/948 [00:15<00:00, 61.51it/s]\n",
      "100%|██████████| 948/948 [00:15<00:00, 60.92it/s]\n",
      "  3%|▎         | 28/948 [00:00<00:14, 63.83it/s]]"
     ]
    },
    {
     "name": "stdout",
     "output_type": "stream",
     "text": [
      "---Performing simulation---\n",
      "---Performing simulation---\n",
      "---Performing simulation---\n"
     ]
    },
    {
     "name": "stderr",
     "output_type": "stream",
     "text": [
      "100%|██████████| 948/948 [00:15<00:00, 61.35it/s]\n",
      "100%|██████████| 948/948 [00:15<00:00, 61.25it/s]\n",
      "100%|██████████| 948/948 [00:15<00:00, 60.53it/s]\n",
      "100%|██████████| 948/948 [00:15<00:00, 61.91it/s]\n",
      "  4%|▍         | 42/948 [00:00<00:14, 63.71it/s]]"
     ]
    },
    {
     "name": "stdout",
     "output_type": "stream",
     "text": [
      "---Performing simulation---\n",
      "---Performing simulation---\n",
      "---Performing simulation---\n",
      "---Performing simulation---\n"
     ]
    },
    {
     "name": "stderr",
     "output_type": "stream",
     "text": [
      "100%|██████████| 948/948 [00:15<00:00, 61.52it/s]\n",
      "100%|██████████| 948/948 [00:15<00:00, 62.58it/s]\n"
     ]
    },
    {
     "name": "stdout",
     "output_type": "stream",
     "text": [
      "---Performing simulation---\n"
     ]
    },
    {
     "name": "stderr",
     "output_type": "stream",
     "text": [
      " 82%|████████▏ | 774/948 [00:13<00:02, 58.48it/s]"
     ]
    },
    {
     "name": "stdout",
     "output_type": "stream",
     "text": [
      "---Performing simulation---\n"
     ]
    },
    {
     "name": "stderr",
     "output_type": "stream",
     "text": [
      "100%|██████████| 948/948 [00:16<00:00, 57.66it/s]\n",
      " 11%|█         | 106/948 [00:01<00:13, 64.10it/s]"
     ]
    },
    {
     "name": "stdout",
     "output_type": "stream",
     "text": [
      "---Performing simulation---\n"
     ]
    },
    {
     "name": "stderr",
     "output_type": "stream",
     "text": [
      "100%|██████████| 948/948 [00:15<00:00, 60.58it/s]\n",
      "100%|██████████| 948/948 [00:15<00:00, 59.35it/s]\n",
      " 14%|█▍        | 133/948 [00:02<00:13, 62.41it/s]"
     ]
    },
    {
     "name": "stdout",
     "output_type": "stream",
     "text": [
      "---Performing simulation---\n",
      "---Performing simulation---\n"
     ]
    },
    {
     "name": "stderr",
     "output_type": "stream",
     "text": [
      "100%|██████████| 948/948 [00:14<00:00, 63.20it/s]\n",
      "100%|██████████| 948/948 [00:16<00:00, 59.13it/s]\n",
      " 99%|█████████▉| 939/948 [00:15<00:00, 60.82it/s]"
     ]
    },
    {
     "name": "stdout",
     "output_type": "stream",
     "text": [
      "---Performing simulation---\n",
      "---Performing simulation---\n"
     ]
    },
    {
     "name": "stderr",
     "output_type": "stream",
     "text": [
      "100%|██████████| 948/948 [00:15<00:00, 59.80it/s]\n",
      "100%|██████████| 948/948 [00:16<00:00, 58.89it/s]\n",
      " 17%|█▋        | 159/948 [00:02<00:12, 64.48it/s]"
     ]
    },
    {
     "name": "stdout",
     "output_type": "stream",
     "text": [
      "---Performing simulation---\n",
      "---Performing simulation---\n"
     ]
    },
    {
     "name": "stderr",
     "output_type": "stream",
     "text": [
      "100%|██████████| 948/948 [00:16<00:00, 58.64it/s]\n",
      "  7%|▋         | 66/948 [00:01<00:14, 60.12it/s]]"
     ]
    },
    {
     "name": "stdout",
     "output_type": "stream",
     "text": [
      "---Performing simulation---\n"
     ]
    },
    {
     "name": "stderr",
     "output_type": "stream",
     "text": [
      "100%|██████████| 948/948 [00:16<00:00, 57.74it/s]\n",
      "  1%|▏         | 14/948 [00:00<00:15, 61.83it/s]]"
     ]
    },
    {
     "name": "stdout",
     "output_type": "stream",
     "text": [
      "---Performing simulation---\n"
     ]
    },
    {
     "name": "stderr",
     "output_type": "stream",
     "text": [
      "100%|██████████| 948/948 [00:17<00:00, 54.77it/s]\n",
      " 19%|█▉        | 181/948 [00:02<00:12, 63.65it/s]"
     ]
    },
    {
     "name": "stdout",
     "output_type": "stream",
     "text": [
      "---Performing simulation---\n"
     ]
    },
    {
     "name": "stderr",
     "output_type": "stream",
     "text": [
      "100%|██████████| 948/948 [00:16<00:00, 57.21it/s]\n",
      " 25%|██▌       | 237/948 [00:03<00:11, 63.74it/s]"
     ]
    },
    {
     "name": "stdout",
     "output_type": "stream",
     "text": [
      "---Performing simulation---\n"
     ]
    },
    {
     "name": "stderr",
     "output_type": "stream",
     "text": [
      "100%|██████████| 948/948 [00:14<00:00, 63.58it/s]\n",
      "100%|██████████| 948/948 [00:14<00:00, 63.82it/s]\n",
      " 97%|█████████▋| 917/948 [00:14<00:00, 62.81it/s]"
     ]
    },
    {
     "name": "stdout",
     "output_type": "stream",
     "text": [
      "---Performing simulation---\n",
      "---Performing simulation---\n",
      "---Performing simulation---\n"
     ]
    },
    {
     "name": "stderr",
     "output_type": "stream",
     "text": [
      "100%|██████████| 948/948 [00:14<00:00, 63.51it/s]\n",
      "100%|██████████| 948/948 [00:14<00:00, 63.97it/s]\n",
      "100%|██████████| 948/948 [00:14<00:00, 63.92it/s]\n",
      " 97%|█████████▋| 917/948 [00:14<00:00, 62.76it/s]"
     ]
    },
    {
     "name": "stdout",
     "output_type": "stream",
     "text": [
      "---Performing simulation---\n",
      "---Performing simulation---\n"
     ]
    },
    {
     "name": "stderr",
     "output_type": "stream",
     "text": [
      "100%|██████████| 948/948 [00:15<00:00, 62.53it/s]\n",
      "100%|██████████| 948/948 [00:15<00:00, 63.13it/s]\n",
      "100%|██████████| 948/948 [00:15<00:00, 62.21it/s]\n",
      "100%|██████████| 948/948 [00:14<00:00, 63.87it/s]\n",
      "100%|██████████| 948/948 [00:15<00:00, 62.46it/s]\n",
      " 85%|████████▍ | 802/948 [00:14<00:02, 54.14it/s]"
     ]
    },
    {
     "name": "stdout",
     "output_type": "stream",
     "text": [
      "---Performing simulation---\n",
      "---Performing simulation---\n",
      "---Performing simulation---\n",
      "---Performing simulation---\n",
      "---Performing simulation---\n"
     ]
    },
    {
     "name": "stderr",
     "output_type": "stream",
     "text": [
      "100%|██████████| 948/948 [00:15<00:00, 62.48it/s]\n",
      "100%|██████████| 948/948 [00:15<00:00, 63.16it/s]\n",
      "100%|██████████| 948/948 [00:15<00:00, 62.11it/s]\n",
      "100%|██████████| 948/948 [00:15<00:00, 62.39it/s]\n",
      "100%|██████████| 948/948 [00:14<00:00, 63.47it/s]\n",
      " 77%|███████▋  | 728/948 [00:12<00:03, 58.90it/s]"
     ]
    },
    {
     "name": "stdout",
     "output_type": "stream",
     "text": [
      "---Performing simulation---\n",
      "---Performing simulation---\n",
      "---Performing simulation---\n",
      "---Performing simulation---\n",
      "---Performing simulation---\n"
     ]
    },
    {
     "name": "stderr",
     "output_type": "stream",
     "text": [
      "100%|██████████| 948/948 [00:15<00:00, 62.79it/s]\n",
      "100%|██████████| 948/948 [00:15<00:00, 63.13it/s]\n",
      "100%|██████████| 948/948 [00:15<00:00, 62.69it/s]\n",
      " 84%|████████▍ | 796/948 [00:12<00:02, 60.20it/s]"
     ]
    },
    {
     "name": "stdout",
     "output_type": "stream",
     "text": [
      "---Performing simulation---\n",
      "---Performing simulation---\n",
      "---Performing simulation---\n"
     ]
    },
    {
     "name": "stderr",
     "output_type": "stream",
     "text": [
      "100%|██████████| 948/948 [00:15<00:00, 62.13it/s]\n",
      "  9%|▉         | 84/948 [00:01<00:13, 64.46it/s]]"
     ]
    },
    {
     "name": "stdout",
     "output_type": "stream",
     "text": [
      "---Performing simulation---\n",
      "---Performing simulation---\n",
      "---Performing simulation---\n"
     ]
    },
    {
     "name": "stderr",
     "output_type": "stream",
     "text": [
      "100%|██████████| 948/948 [00:15<00:00, 61.28it/s]\n",
      "100%|██████████| 948/948 [00:14<00:00, 64.00it/s]\n",
      "100%|██████████| 948/948 [00:15<00:00, 62.94it/s]\n",
      "  6%|▌         | 56/948 [00:00<00:14, 62.85it/s]]"
     ]
    },
    {
     "name": "stdout",
     "output_type": "stream",
     "text": [
      "---Performing simulation---\n"
     ]
    },
    {
     "name": "stderr",
     "output_type": "stream",
     "text": [
      "100%|██████████| 948/948 [00:14<00:00, 63.42it/s]\n",
      " 16%|█▌        | 154/948 [00:02<00:12, 64.62it/s]"
     ]
    },
    {
     "name": "stdout",
     "output_type": "stream",
     "text": [
      "---Performing simulation---\n"
     ]
    },
    {
     "name": "stderr",
     "output_type": "stream",
     "text": [
      "100%|██████████| 948/948 [00:15<00:00, 60.07it/s]\n",
      " 15%|█▍        | 139/948 [00:02<00:12, 64.76it/s]"
     ]
    },
    {
     "name": "stdout",
     "output_type": "stream",
     "text": [
      "---Performing simulation---\n"
     ]
    },
    {
     "name": "stderr",
     "output_type": "stream",
     "text": [
      "100%|██████████| 948/948 [00:16<00:00, 56.07it/s]\n",
      "100%|██████████| 948/948 [00:15<00:00, 60.24it/s]\n",
      "100%|██████████| 948/948 [00:15<00:00, 60.40it/s]\n"
     ]
    },
    {
     "name": "stdout",
     "output_type": "stream",
     "text": [
      "---Performing simulation---\n",
      "---Performing simulation---\n"
     ]
    },
    {
     "name": "stderr",
     "output_type": "stream",
     "text": [
      "100%|██████████| 948/948 [00:15<00:00, 61.38it/s]\n",
      " 10%|█         | 98/948 [00:01<00:13, 63.31it/s]]"
     ]
    },
    {
     "name": "stdout",
     "output_type": "stream",
     "text": [
      "---Performing simulation---\n",
      "---Performing simulation---\n"
     ]
    },
    {
     "name": "stderr",
     "output_type": "stream",
     "text": [
      "100%|██████████| 948/948 [00:15<00:00, 59.55it/s]\n",
      "  4%|▎         | 34/948 [00:00<00:15, 60.14it/s]]"
     ]
    },
    {
     "name": "stdout",
     "output_type": "stream",
     "text": [
      "---Performing simulation---\n"
     ]
    },
    {
     "name": "stderr",
     "output_type": "stream",
     "text": [
      "100%|██████████| 948/948 [00:15<00:00, 61.48it/s]\n",
      "100%|██████████| 948/948 [00:16<00:00, 59.13it/s]\n",
      " 27%|██▋       | 259/948 [00:04<00:10, 65.25it/s]"
     ]
    },
    {
     "name": "stdout",
     "output_type": "stream",
     "text": [
      "---Performing simulation---\n",
      "---Performing simulation---\n"
     ]
    },
    {
     "name": "stderr",
     "output_type": "stream",
     "text": [
      "100%|██████████| 948/948 [00:16<00:00, 58.04it/s]\n",
      " 35%|███▌      | 335/948 [00:05<00:09, 64.47it/s]"
     ]
    },
    {
     "name": "stdout",
     "output_type": "stream",
     "text": [
      "---Performing simulation---\n"
     ]
    },
    {
     "name": "stderr",
     "output_type": "stream",
     "text": [
      "100%|██████████| 948/948 [00:14<00:00, 64.10it/s]\n",
      " 94%|█████████▍| 895/948 [00:14<00:00, 62.02it/s]"
     ]
    },
    {
     "name": "stdout",
     "output_type": "stream",
     "text": [
      "---Performing simulation---\n"
     ]
    },
    {
     "name": "stderr",
     "output_type": "stream",
     "text": [
      "100%|██████████| 948/948 [00:15<00:00, 63.04it/s]\n",
      "100%|██████████| 948/948 [00:14<00:00, 64.11it/s]\n",
      "100%|██████████| 948/948 [00:14<00:00, 63.26it/s]\n",
      "100%|██████████| 948/948 [00:14<00:00, 63.97it/s]\n",
      "  0%|          | 0/948 [00:00<?, ?it/s]64.21it/s]"
     ]
    },
    {
     "name": "stdout",
     "output_type": "stream",
     "text": [
      "---Performing simulation---\n",
      "---Performing simulation---\n",
      "---Performing simulation---\n",
      "---Performing simulation---\n"
     ]
    },
    {
     "name": "stderr",
     "output_type": "stream",
     "text": [
      "100%|██████████| 948/948 [00:14<00:00, 63.52it/s]\n",
      "100%|██████████| 948/948 [00:14<00:00, 63.31it/s]\n",
      "100%|██████████| 948/948 [00:14<00:00, 63.75it/s]\n",
      "100%|██████████| 948/948 [00:14<00:00, 63.46it/s]\n",
      "100%|██████████| 948/948 [00:14<00:00, 63.21it/s]\n",
      "  4%|▎         | 35/948 [00:00<00:14, 64.20it/s]]"
     ]
    },
    {
     "name": "stdout",
     "output_type": "stream",
     "text": [
      "---Performing simulation---\n",
      "---Performing simulation---\n",
      "---Performing simulation---\n",
      "---Performing simulation---\n",
      "---Performing simulation---\n",
      "---Performing simulation---\n"
     ]
    },
    {
     "name": "stderr",
     "output_type": "stream",
     "text": [
      "100%|██████████| 948/948 [00:14<00:00, 63.72it/s]\n",
      "100%|██████████| 948/948 [00:14<00:00, 63.77it/s]\n",
      "100%|██████████| 948/948 [00:14<00:00, 63.89it/s]\n",
      "100%|██████████| 948/948 [00:14<00:00, 63.62it/s]\n",
      "  1%|          | 7/948 [00:00<00:14, 63.48it/s]]]"
     ]
    },
    {
     "name": "stdout",
     "output_type": "stream",
     "text": [
      "---Performing simulation---\n",
      "---Performing simulation---\n",
      "---Performing simulation---\n"
     ]
    },
    {
     "name": "stderr",
     "output_type": "stream",
     "text": [
      "100%|██████████| 948/948 [00:15<00:00, 62.71it/s]\n",
      "100%|██████████| 948/948 [00:14<00:00, 63.23it/s]\n",
      "100%|██████████| 948/948 [00:15<00:00, 63.02it/s]\n",
      "100%|██████████| 948/948 [00:15<00:00, 63.08it/s]\n"
     ]
    },
    {
     "name": "stdout",
     "output_type": "stream",
     "text": [
      "---Performing simulation---\n",
      "---Performing simulation---\n",
      "---Performing simulation---\n"
     ]
    },
    {
     "name": "stderr",
     "output_type": "stream",
     "text": [
      "  6%|▌         | 56/948 [00:00<00:14, 61.14it/s]]"
     ]
    },
    {
     "name": "stdout",
     "output_type": "stream",
     "text": [
      "---Performing simulation---\n"
     ]
    },
    {
     "name": "stderr",
     "output_type": "stream",
     "text": [
      "100%|██████████| 948/948 [00:14<00:00, 63.29it/s]\n",
      "  7%|▋         | 70/948 [00:01<00:14, 61.88it/s]]"
     ]
    },
    {
     "name": "stdout",
     "output_type": "stream",
     "text": [
      "---Performing simulation---\n",
      "---Performing simulation---\n",
      "---Performing simulation---\n"
     ]
    },
    {
     "name": "stderr",
     "output_type": "stream",
     "text": [
      "100%|██████████| 948/948 [00:15<00:00, 61.73it/s]\n",
      "100%|██████████| 948/948 [00:15<00:00, 62.11it/s]\n",
      "100%|██████████| 948/948 [00:15<00:00, 62.71it/s]\n",
      " 85%|████████▍ | 805/948 [00:13<00:02, 58.26it/s]"
     ]
    },
    {
     "name": "stdout",
     "output_type": "stream",
     "text": [
      "---Performing simulation---\n",
      "---Performing simulation---\n"
     ]
    },
    {
     "name": "stderr",
     "output_type": "stream",
     "text": [
      "100%|██████████| 948/948 [00:14<00:00, 63.45it/s]\n",
      "100%|██████████| 948/948 [00:15<00:00, 60.96it/s]\n",
      " 19%|█▉        | 182/948 [00:02<00:11, 64.11it/s]"
     ]
    },
    {
     "name": "stdout",
     "output_type": "stream",
     "text": [
      "---Performing simulation---\n"
     ]
    },
    {
     "name": "stderr",
     "output_type": "stream",
     "text": [
      "100%|██████████| 948/948 [00:15<00:00, 60.76it/s]\n",
      " 10%|█         | 98/948 [00:01<00:13, 61.63it/s]]"
     ]
    },
    {
     "name": "stdout",
     "output_type": "stream",
     "text": [
      "---Performing simulation---\n"
     ]
    },
    {
     "name": "stderr",
     "output_type": "stream",
     "text": [
      "100%|██████████| 948/948 [00:15<00:00, 61.25it/s]\n",
      "100%|██████████| 948/948 [00:15<00:00, 60.49it/s]\n",
      " 24%|██▎       | 224/948 [00:03<00:11, 64.23it/s]"
     ]
    },
    {
     "name": "stdout",
     "output_type": "stream",
     "text": [
      "---Performing simulation---\n",
      "---Performing simulation---\n"
     ]
    },
    {
     "name": "stderr",
     "output_type": "stream",
     "text": [
      "100%|██████████| 948/948 [00:15<00:00, 59.52it/s]\n",
      "100%|██████████| 948/948 [00:15<00:00, 60.87it/s]\n"
     ]
    },
    {
     "name": "stdout",
     "output_type": "stream",
     "text": [
      "---Performing simulation---\n"
     ]
    },
    {
     "name": "stderr",
     "output_type": "stream",
     "text": [
      "  7%|▋         | 70/948 [00:01<00:14, 61.46it/s]]"
     ]
    },
    {
     "name": "stdout",
     "output_type": "stream",
     "text": [
      "---Performing simulation---\n"
     ]
    },
    {
     "name": "stderr",
     "output_type": "stream",
     "text": [
      "100%|██████████| 948/948 [00:16<00:00, 59.08it/s]\n",
      "100%|██████████| 948/948 [00:17<00:00, 54.77it/s]\n",
      " 12%|█▏        | 112/948 [00:01<00:13, 60.36it/s]"
     ]
    },
    {
     "name": "stdout",
     "output_type": "stream",
     "text": [
      "---Performing simulation---\n",
      "---Performing simulation---\n"
     ]
    },
    {
     "name": "stderr",
     "output_type": "stream",
     "text": [
      "100%|██████████| 948/948 [00:16<00:00, 57.74it/s]\n",
      " 11%|█         | 105/948 [00:01<00:13, 60.24it/s]"
     ]
    },
    {
     "name": "stdout",
     "output_type": "stream",
     "text": [
      "---Performing simulation---\n"
     ]
    },
    {
     "name": "stderr",
     "output_type": "stream",
     "text": [
      "100%|██████████| 948/948 [00:14<00:00, 63.63it/s]\n",
      " 84%|████████▍ | 794/948 [00:12<00:02, 62.97it/s]"
     ]
    },
    {
     "name": "stdout",
     "output_type": "stream",
     "text": [
      "---Performing simulation---\n",
      "---Performing simulation---\n"
     ]
    },
    {
     "name": "stderr",
     "output_type": "stream",
     "text": [
      "100%|██████████| 948/948 [00:14<00:00, 63.95it/s]\n",
      "100%|██████████| 948/948 [00:14<00:00, 63.82it/s]\n",
      "100%|██████████| 948/948 [00:14<00:00, 63.42it/s]\n",
      "100%|██████████| 948/948 [00:14<00:00, 63.54it/s]\n",
      " 62%|██████▏   | 588/948 [00:09<00:05, 64.27it/s]"
     ]
    },
    {
     "name": "stdout",
     "output_type": "stream",
     "text": [
      "---Performing simulation---\n",
      "---Performing simulation---\n",
      "---Performing simulation---\n"
     ]
    },
    {
     "name": "stderr",
     "output_type": "stream",
     "text": [
      "100%|██████████| 948/948 [00:14<00:00, 63.63it/s]\n",
      "100%|██████████| 948/948 [00:15<00:00, 63.14it/s]\n",
      "100%|██████████| 948/948 [00:14<00:00, 63.20it/s]\n",
      "100%|██████████| 948/948 [00:14<00:00, 63.42it/s]\n",
      "  4%|▎         | 35/948 [00:00<00:14, 64.86it/s]]"
     ]
    },
    {
     "name": "stdout",
     "output_type": "stream",
     "text": [
      "---Performing simulation---\n",
      "---Performing simulation---\n",
      "---Performing simulation---\n",
      "---Performing simulation---\n",
      "---Performing simulation---\n",
      "---Performing simulation---\n"
     ]
    },
    {
     "name": "stderr",
     "output_type": "stream",
     "text": [
      "100%|██████████| 948/948 [00:14<00:00, 63.79it/s]\n",
      "100%|██████████| 948/948 [00:15<00:00, 63.02it/s]\n",
      "100%|██████████| 948/948 [00:14<00:00, 63.36it/s]\n",
      "100%|██████████| 948/948 [00:15<00:00, 62.92it/s]\n",
      "  0%|          | 0/948 [00:00<?, ?it/s]60.76it/s]"
     ]
    },
    {
     "name": "stdout",
     "output_type": "stream",
     "text": [
      "---Performing simulation---\n",
      "---Performing simulation---\n"
     ]
    },
    {
     "name": "stderr",
     "output_type": "stream",
     "text": [
      "100%|██████████| 948/948 [00:15<00:00, 62.44it/s]\n",
      " 98%|█████████▊| 925/948 [00:14<00:00, 62.88it/s]"
     ]
    },
    {
     "name": "stdout",
     "output_type": "stream",
     "text": [
      "---Performing simulation---\n",
      "---Performing simulation---\n"
     ]
    },
    {
     "name": "stderr",
     "output_type": "stream",
     "text": [
      "100%|██████████| 948/948 [00:15<00:00, 62.76it/s]\n",
      "100%|██████████| 948/948 [00:15<00:00, 62.45it/s]\n",
      "100%|██████████| 948/948 [00:15<00:00, 62.40it/s]\n",
      "  4%|▍         | 42/948 [00:00<00:14, 64.33it/s]]"
     ]
    },
    {
     "name": "stdout",
     "output_type": "stream",
     "text": [
      "---Performing simulation---\n",
      "---Performing simulation---\n",
      "---Performing simulation---\n"
     ]
    },
    {
     "name": "stderr",
     "output_type": "stream",
     "text": [
      "100%|██████████| 948/948 [00:15<00:00, 62.38it/s]\n",
      "100%|██████████| 948/948 [00:15<00:00, 62.89it/s]\n",
      "  6%|▌         | 56/948 [00:00<00:13, 64.64it/s]]"
     ]
    },
    {
     "name": "stdout",
     "output_type": "stream",
     "text": [
      "---Performing simulation---\n"
     ]
    },
    {
     "name": "stderr",
     "output_type": "stream",
     "text": [
      "100%|██████████| 948/948 [00:15<00:00, 62.07it/s]\n",
      "100%|██████████| 948/948 [00:15<00:00, 61.96it/s]\n",
      " 10%|█         | 98/948 [00:01<00:13, 63.99it/s]]"
     ]
    },
    {
     "name": "stdout",
     "output_type": "stream",
     "text": [
      "---Performing simulation---\n",
      "---Performing simulation---\n",
      "---Performing simulation---\n"
     ]
    },
    {
     "name": "stderr",
     "output_type": "stream",
     "text": [
      "100%|██████████| 948/948 [00:15<00:00, 63.13it/s]\n",
      "100%|██████████| 948/948 [00:14<00:00, 63.35it/s]\n",
      " 17%|█▋        | 161/948 [00:02<00:12, 64.37it/s]"
     ]
    },
    {
     "name": "stdout",
     "output_type": "stream",
     "text": [
      "---Performing simulation---\n"
     ]
    },
    {
     "name": "stderr",
     "output_type": "stream",
     "text": [
      "100%|██████████| 948/948 [00:15<00:00, 60.35it/s]\n",
      " 21%|██        | 196/948 [00:03<00:11, 63.49it/s]"
     ]
    },
    {
     "name": "stdout",
     "output_type": "stream",
     "text": [
      "---Performing simulation---\n"
     ]
    },
    {
     "name": "stderr",
     "output_type": "stream",
     "text": [
      "100%|██████████| 948/948 [00:15<00:00, 60.69it/s]\n",
      " 75%|███████▌  | 714/948 [00:12<00:04, 56.35it/s]"
     ]
    },
    {
     "name": "stdout",
     "output_type": "stream",
     "text": [
      "---Performing simulation---\n",
      "---Performing simulation---\n"
     ]
    },
    {
     "name": "stderr",
     "output_type": "stream",
     "text": [
      "100%|██████████| 948/948 [00:15<00:00, 61.08it/s]\n",
      "100%|██████████| 948/948 [00:15<00:00, 60.06it/s]\n",
      " 30%|██▉       | 280/948 [00:04<00:10, 64.43it/s]"
     ]
    },
    {
     "name": "stdout",
     "output_type": "stream",
     "text": [
      "---Performing simulation---\n"
     ]
    },
    {
     "name": "stderr",
     "output_type": "stream",
     "text": [
      "100%|██████████| 948/948 [00:15<00:00, 59.77it/s]\n",
      "100%|██████████| 948/948 [00:15<00:00, 62.89it/s]\n",
      " 28%|██▊       | 265/948 [00:04<00:10, 62.68it/s]"
     ]
    },
    {
     "name": "stdout",
     "output_type": "stream",
     "text": [
      "---Performing simulation---\n",
      "---Performing simulation---\n"
     ]
    },
    {
     "name": "stderr",
     "output_type": "stream",
     "text": [
      "100%|██████████| 948/948 [00:16<00:00, 59.06it/s]\n",
      " 38%|███▊      | 357/948 [00:05<00:09, 63.31it/s]"
     ]
    },
    {
     "name": "stdout",
     "output_type": "stream",
     "text": [
      "---Performing simulation---\n"
     ]
    },
    {
     "name": "stderr",
     "output_type": "stream",
     "text": [
      "100%|██████████| 948/948 [00:17<00:00, 53.91it/s]\n",
      " 47%|████▋     | 448/948 [00:07<00:08, 60.00it/s]"
     ]
    },
    {
     "name": "stdout",
     "output_type": "stream",
     "text": [
      "---Performing simulation---\n"
     ]
    },
    {
     "name": "stderr",
     "output_type": "stream",
     "text": [
      "100%|██████████| 948/948 [00:16<00:00, 58.25it/s]\n",
      " 57%|█████▋    | 539/948 [00:08<00:06, 64.02it/s]"
     ]
    },
    {
     "name": "stdout",
     "output_type": "stream",
     "text": [
      "---Performing simulation---\n"
     ]
    },
    {
     "name": "stderr",
     "output_type": "stream",
     "text": [
      "100%|██████████| 948/948 [00:14<00:00, 63.92it/s]\n",
      "100%|██████████| 948/948 [00:15<00:00, 62.72it/s]\n",
      "100%|██████████| 948/948 [00:14<00:00, 64.15it/s]\n",
      " 34%|███▍      | 320/948 [00:06<00:11, 54.98it/s]"
     ]
    },
    {
     "name": "stdout",
     "output_type": "stream",
     "text": [
      "---Performing simulation---\n",
      "---Performing simulation---\n",
      "---Performing simulation---\n"
     ]
    },
    {
     "name": "stderr",
     "output_type": "stream",
     "text": [
      "100%|██████████| 948/948 [00:14<00:00, 63.77it/s]\n",
      "100%|██████████| 948/948 [00:14<00:00, 63.30it/s]\n",
      " 91%|█████████ | 860/948 [00:13<00:01, 62.84it/s]"
     ]
    },
    {
     "name": "stdout",
     "output_type": "stream",
     "text": [
      "---Performing simulation---\n",
      "---Performing simulation---\n"
     ]
    },
    {
     "name": "stderr",
     "output_type": "stream",
     "text": [
      "100%|██████████| 948/948 [00:14<00:00, 63.49it/s]\n",
      "100%|██████████| 948/948 [00:14<00:00, 63.44it/s]\n",
      "100%|██████████| 948/948 [00:14<00:00, 63.25it/s]\n",
      "100%|██████████| 948/948 [00:15<00:00, 63.05it/s]\n",
      " 88%|████████▊ | 831/948 [00:13<00:01, 63.05it/s]"
     ]
    },
    {
     "name": "stdout",
     "output_type": "stream",
     "text": [
      "---Performing simulation---\n",
      "---Performing simulation---\n",
      "---Performing simulation---\n",
      "---Performing simulation---\n"
     ]
    },
    {
     "name": "stderr",
     "output_type": "stream",
     "text": [
      "100%|██████████| 948/948 [00:15<00:00, 62.89it/s]\n",
      "100%|██████████| 948/948 [00:14<00:00, 63.30it/s]\n",
      "100%|██████████| 948/948 [00:14<00:00, 64.05it/s]\n",
      "100%|██████████| 948/948 [00:15<00:00, 63.11it/s]\n",
      "100%|██████████| 948/948 [00:15<00:00, 62.28it/s]\n",
      " 97%|█████████▋| 916/948 [00:14<00:00, 63.46it/s]"
     ]
    },
    {
     "name": "stdout",
     "output_type": "stream",
     "text": [
      "---Performing simulation---\n",
      "---Performing simulation---\n",
      "---Performing simulation---\n",
      "---Performing simulation---\n",
      "---Performing simulation---\n"
     ]
    },
    {
     "name": "stderr",
     "output_type": "stream",
     "text": [
      "100%|██████████| 948/948 [00:15<00:00, 62.62it/s]\n",
      " 67%|██████▋   | 639/948 [00:11<00:05, 53.28it/s]"
     ]
    },
    {
     "name": "stdout",
     "output_type": "stream",
     "text": [
      "---Performing simulation---\n",
      "---Performing simulation---\n",
      "---Performing simulation---\n"
     ]
    },
    {
     "name": "stderr",
     "output_type": "stream",
     "text": [
      "100%|██████████| 948/948 [00:15<00:00, 63.14it/s]\n",
      "100%|██████████| 948/948 [00:15<00:00, 63.02it/s]\n",
      "100%|██████████| 948/948 [00:15<00:00, 62.83it/s]\n",
      "100%|██████████| 948/948 [00:14<00:00, 63.25it/s]\n",
      "  7%|▋         | 63/948 [00:00<00:13, 64.27it/s]]"
     ]
    },
    {
     "name": "stdout",
     "output_type": "stream",
     "text": [
      "---Performing simulation---\n",
      "---Performing simulation---\n"
     ]
    },
    {
     "name": "stderr",
     "output_type": "stream",
     "text": [
      "100%|██████████| 948/948 [00:15<00:00, 62.38it/s]\n",
      " 50%|█████     | 476/948 [00:08<00:08, 58.60it/s]"
     ]
    },
    {
     "name": "stdout",
     "output_type": "stream",
     "text": [
      "---Performing simulation---\n",
      "---Performing simulation---\n",
      "---Performing simulation---\n"
     ]
    },
    {
     "name": "stderr",
     "output_type": "stream",
     "text": [
      "100%|██████████| 948/948 [00:15<00:00, 62.56it/s]\n",
      "100%|██████████| 948/948 [00:15<00:00, 62.96it/s]\n",
      "100%|██████████| 948/948 [00:15<00:00, 60.98it/s]\n",
      " 14%|█▍        | 133/948 [00:02<00:12, 64.20it/s]"
     ]
    },
    {
     "name": "stdout",
     "output_type": "stream",
     "text": [
      "---Performing simulation---\n"
     ]
    },
    {
     "name": "stderr",
     "output_type": "stream",
     "text": [
      "100%|██████████| 948/948 [00:15<00:00, 59.56it/s]\n",
      "100%|██████████| 948/948 [00:15<00:00, 60.18it/s]\n",
      " 30%|███       | 289/948 [00:04<00:10, 60.99it/s]"
     ]
    },
    {
     "name": "stdout",
     "output_type": "stream",
     "text": [
      "---Performing simulation---\n",
      "---Performing simulation---\n"
     ]
    },
    {
     "name": "stderr",
     "output_type": "stream",
     "text": [
      "100%|██████████| 948/948 [00:15<00:00, 63.06it/s]\n",
      "100%|██████████| 948/948 [00:15<00:00, 60.35it/s]\n",
      " 28%|██▊       | 262/948 [00:04<00:10, 64.17it/s]"
     ]
    },
    {
     "name": "stdout",
     "output_type": "stream",
     "text": [
      "---Performing simulation---\n",
      "---Performing simulation---\n"
     ]
    },
    {
     "name": "stderr",
     "output_type": "stream",
     "text": [
      "100%|██████████| 948/948 [00:15<00:00, 59.41it/s]\n",
      " 41%|████      | 385/948 [00:06<00:09, 61.51it/s]"
     ]
    },
    {
     "name": "stdout",
     "output_type": "stream",
     "text": [
      "---Performing simulation---\n"
     ]
    },
    {
     "name": "stderr",
     "output_type": "stream",
     "text": [
      "100%|██████████| 948/948 [00:17<00:00, 54.51it/s]\n",
      " 49%|████▉     | 466/948 [00:07<00:07, 64.04it/s]"
     ]
    },
    {
     "name": "stdout",
     "output_type": "stream",
     "text": [
      "---Performing simulation---\n"
     ]
    },
    {
     "name": "stderr",
     "output_type": "stream",
     "text": [
      "100%|██████████| 948/948 [00:16<00:00, 58.04it/s]\n",
      " 56%|█████▌    | 531/948 [00:08<00:06, 64.25it/s]"
     ]
    },
    {
     "name": "stdout",
     "output_type": "stream",
     "text": [
      "---Performing simulation---\n"
     ]
    },
    {
     "name": "stderr",
     "output_type": "stream",
     "text": [
      "100%|██████████| 948/948 [00:16<00:00, 58.07it/s]\n",
      " 24%|██▎       | 223/948 [00:03<00:11, 60.67it/s]"
     ]
    },
    {
     "name": "stdout",
     "output_type": "stream",
     "text": [
      "---Performing simulation---\n"
     ]
    },
    {
     "name": "stderr",
     "output_type": "stream",
     "text": [
      "100%|██████████| 948/948 [00:16<00:00, 56.16it/s]\n",
      " 55%|█████▍    | 518/948 [00:08<00:06, 64.00it/s]"
     ]
    },
    {
     "name": "stdout",
     "output_type": "stream",
     "text": [
      "---Performing simulation---\n"
     ]
    },
    {
     "name": "stderr",
     "output_type": "stream",
     "text": [
      "100%|██████████| 948/948 [00:14<00:00, 63.71it/s]]\n",
      "100%|██████████| 948/948 [00:14<00:00, 64.15it/s]\n",
      " 93%|█████████▎| 880/948 [00:14<00:01, 62.25it/s]"
     ]
    },
    {
     "name": "stdout",
     "output_type": "stream",
     "text": [
      "---Performing simulation---\n",
      "---Performing simulation---\n"
     ]
    },
    {
     "name": "stderr",
     "output_type": "stream",
     "text": [
      "100%|██████████| 948/948 [00:15<00:00, 63.17it/s]\n",
      "100%|██████████| 948/948 [00:14<00:00, 63.58it/s]\n",
      " 94%|█████████▍| 894/948 [00:14<00:00, 62.59it/s]"
     ]
    },
    {
     "name": "stdout",
     "output_type": "stream",
     "text": [
      "---Performing simulation---\n",
      "---Performing simulation---\n",
      "---Performing simulation---\n"
     ]
    },
    {
     "name": "stderr",
     "output_type": "stream",
     "text": [
      "100%|██████████| 948/948 [00:14<00:00, 63.49it/s]\n",
      "100%|██████████| 948/948 [00:14<00:00, 64.40it/s]\n",
      "100%|██████████| 948/948 [00:14<00:00, 63.74it/s]\n",
      " 99%|█████████▊| 936/948 [00:14<00:00, 62.97it/s]"
     ]
    },
    {
     "name": "stdout",
     "output_type": "stream",
     "text": [
      "---Performing simulation---\n",
      "---Performing simulation---\n"
     ]
    },
    {
     "name": "stderr",
     "output_type": "stream",
     "text": [
      "100%|██████████| 948/948 [00:14<00:00, 63.92it/s]\n",
      "100%|██████████| 948/948 [00:15<00:00, 63.15it/s]\n",
      "100%|██████████| 948/948 [00:15<00:00, 62.64it/s]\n",
      " 67%|██████▋   | 637/948 [00:09<00:04, 64.16it/s]"
     ]
    },
    {
     "name": "stdout",
     "output_type": "stream",
     "text": [
      "---Performing simulation---\n",
      "---Performing simulation---\n",
      "---Performing simulation---\n"
     ]
    },
    {
     "name": "stderr",
     "output_type": "stream",
     "text": [
      "100%|██████████| 948/948 [00:15<00:00, 62.78it/s]\n",
      " 94%|█████████▎| 887/948 [00:14<00:00, 61.16it/s]"
     ]
    },
    {
     "name": "stdout",
     "output_type": "stream",
     "text": [
      "---Performing simulation---\n",
      "---Performing simulation---\n",
      "---Performing simulation---\n",
      "---Performing simulation---\n"
     ]
    },
    {
     "name": "stderr",
     "output_type": "stream",
     "text": [
      "100%|██████████| 948/948 [00:15<00:00, 62.34it/s]\n",
      "100%|██████████| 948/948 [00:15<00:00, 62.53it/s]\n",
      "100%|██████████| 948/948 [00:15<00:00, 62.42it/s]\n",
      "100%|██████████| 948/948 [00:14<00:00, 63.32it/s]\n",
      "100%|██████████| 948/948 [00:15<00:00, 62.92it/s]\n",
      " 11%|█         | 105/948 [00:01<00:13, 64.64it/s]"
     ]
    },
    {
     "name": "stdout",
     "output_type": "stream",
     "text": [
      "---Performing simulation---\n",
      "---Performing simulation---\n"
     ]
    },
    {
     "name": "stderr",
     "output_type": "stream",
     "text": [
      "100%|██████████| 948/948 [00:15<00:00, 61.76it/s]\n",
      "100%|██████████| 948/948 [00:15<00:00, 62.98it/s]\n",
      " 96%|█████████▌| 910/948 [00:14<00:00, 63.82it/s]"
     ]
    },
    {
     "name": "stdout",
     "output_type": "stream",
     "text": [
      "---Performing simulation---\n",
      "---Performing simulation---\n"
     ]
    },
    {
     "name": "stderr",
     "output_type": "stream",
     "text": [
      "100%|██████████| 948/948 [00:15<00:00, 61.39it/s]\n",
      " 78%|███████▊  | 735/948 [00:11<00:03, 64.22it/s]"
     ]
    },
    {
     "name": "stdout",
     "output_type": "stream",
     "text": [
      "---Performing simulation---\n"
     ]
    },
    {
     "name": "stderr",
     "output_type": "stream",
     "text": [
      "100%|██████████| 948/948 [00:14<00:00, 63.72it/s]\n",
      "100%|██████████| 948/948 [00:14<00:00, 63.40it/s]\n",
      " 79%|███████▉  | 749/948 [00:11<00:03, 64.24it/s]"
     ]
    },
    {
     "name": "stdout",
     "output_type": "stream",
     "text": [
      "---Performing simulation---\n",
      "---Performing simulation---\n"
     ]
    },
    {
     "name": "stderr",
     "output_type": "stream",
     "text": [
      "100%|██████████| 948/948 [00:15<00:00, 61.82it/s]\n",
      " 80%|███████▉  | 758/948 [00:12<00:03, 60.14it/s]"
     ]
    },
    {
     "name": "stdout",
     "output_type": "stream",
     "text": [
      "---Performing simulation---\n"
     ]
    },
    {
     "name": "stderr",
     "output_type": "stream",
     "text": [
      "100%|██████████| 948/948 [00:15<00:00, 62.11it/s]\n",
      " 22%|██▏       | 210/948 [00:03<00:11, 64.31it/s]"
     ]
    },
    {
     "name": "stdout",
     "output_type": "stream",
     "text": [
      "---Performing simulation---\n"
     ]
    },
    {
     "name": "stderr",
     "output_type": "stream",
     "text": [
      "100%|██████████| 948/948 [00:14<00:00, 64.18it/s]\n",
      " 28%|██▊       | 266/948 [00:04<00:10, 64.12it/s]"
     ]
    },
    {
     "name": "stdout",
     "output_type": "stream",
     "text": [
      "---Performing simulation---\n"
     ]
    },
    {
     "name": "stderr",
     "output_type": "stream",
     "text": [
      "100%|██████████| 948/948 [00:15<00:00, 59.92it/s]\n",
      "100%|██████████| 948/948 [00:15<00:00, 59.97it/s]\n",
      " 80%|███████▉  | 754/948 [00:12<00:03, 58.50it/s]"
     ]
    },
    {
     "name": "stdout",
     "output_type": "stream",
     "text": [
      "---Performing simulation---\n",
      "---Performing simulation---\n"
     ]
    },
    {
     "name": "stderr",
     "output_type": "stream",
     "text": [
      "100%|██████████| 948/948 [00:15<00:00, 60.02it/s]\n",
      " 38%|███▊      | 364/948 [00:05<00:09, 63.13it/s]"
     ]
    },
    {
     "name": "stdout",
     "output_type": "stream",
     "text": [
      "---Performing simulation---\n"
     ]
    },
    {
     "name": "stderr",
     "output_type": "stream",
     "text": [
      "100%|██████████| 948/948 [00:16<00:00, 59.19it/s]\n",
      " 47%|████▋     | 441/948 [00:06<00:07, 63.42it/s]"
     ]
    },
    {
     "name": "stdout",
     "output_type": "stream",
     "text": [
      "---Performing simulation---\n"
     ]
    },
    {
     "name": "stderr",
     "output_type": "stream",
     "text": [
      "100%|██████████| 948/948 [00:16<00:00, 59.23it/s]\n",
      " 84%|████████▎ | 792/948 [00:13<00:02, 57.24it/s]"
     ]
    },
    {
     "name": "stdout",
     "output_type": "stream",
     "text": [
      "---Performing simulation---\n"
     ]
    },
    {
     "name": "stderr",
     "output_type": "stream",
     "text": [
      "100%|██████████| 948/948 [00:15<00:00, 60.99it/s]\n",
      " 18%|█▊        | 174/948 [00:02<00:12, 61.54it/s]"
     ]
    },
    {
     "name": "stdout",
     "output_type": "stream",
     "text": [
      "---Performing simulation---\n"
     ]
    },
    {
     "name": "stderr",
     "output_type": "stream",
     "text": [
      "100%|██████████| 948/948 [00:17<00:00, 52.98it/s]\n",
      " 89%|████████▊ | 840/948 [00:14<00:01, 57.64it/s]"
     ]
    },
    {
     "name": "stdout",
     "output_type": "stream",
     "text": [
      "---Performing simulation---\n"
     ]
    },
    {
     "name": "stderr",
     "output_type": "stream",
     "text": [
      "100%|██████████| 948/948 [00:16<00:00, 57.74it/s]\n",
      " 76%|███████▌  | 720/948 [00:11<00:03, 63.79it/s]"
     ]
    },
    {
     "name": "stdout",
     "output_type": "stream",
     "text": [
      "---Performing simulation---\n"
     ]
    },
    {
     "name": "stderr",
     "output_type": "stream",
     "text": [
      "100%|██████████| 948/948 [00:14<00:00, 64.15it/s]\n",
      "100%|██████████| 948/948 [00:14<00:00, 64.16it/s]\n",
      "100%|██████████| 948/948 [00:14<00:00, 64.77it/s]\n",
      " 53%|█████▎    | 501/948 [00:08<00:07, 60.12it/s]"
     ]
    },
    {
     "name": "stdout",
     "output_type": "stream",
     "text": [
      "---Performing simulation---\n",
      "---Performing simulation---\n",
      "---Performing simulation---\n"
     ]
    },
    {
     "name": "stderr",
     "output_type": "stream",
     "text": [
      "100%|██████████| 948/948 [00:14<00:00, 63.59it/s]\n",
      "100%|██████████| 948/948 [00:14<00:00, 64.08it/s]\n",
      "  0%|          | 0/948 [00:00<?, ?it/s]5.10it/s]]"
     ]
    },
    {
     "name": "stdout",
     "output_type": "stream",
     "text": [
      "---Performing simulation---\n",
      "---Performing simulation---\n"
     ]
    },
    {
     "name": "stderr",
     "output_type": "stream",
     "text": [
      "100%|██████████| 948/948 [00:14<00:00, 64.35it/s]\n",
      "100%|██████████| 948/948 [00:14<00:00, 64.22it/s]\n",
      "  3%|▎         | 28/948 [00:00<00:14, 64.84it/s]]"
     ]
    },
    {
     "name": "stdout",
     "output_type": "stream",
     "text": [
      "---Performing simulation---\n",
      "---Performing simulation---\n"
     ]
    },
    {
     "name": "stderr",
     "output_type": "stream",
     "text": [
      "100%|██████████| 948/948 [00:14<00:00, 64.49it/s]\n",
      " 88%|████████▊ | 833/948 [00:13<00:01, 63.27it/s]"
     ]
    },
    {
     "name": "stdout",
     "output_type": "stream",
     "text": [
      "---Performing simulation---\n"
     ]
    },
    {
     "name": "stderr",
     "output_type": "stream",
     "text": [
      "100%|██████████| 948/948 [00:15<00:00, 63.19it/s]\n",
      "100%|██████████| 948/948 [00:14<00:00, 63.29it/s]\n",
      " 86%|████████▋ | 819/948 [00:13<00:02, 62.92it/s]"
     ]
    },
    {
     "name": "stdout",
     "output_type": "stream",
     "text": [
      "---Performing simulation---\n",
      "---Performing simulation---\n"
     ]
    },
    {
     "name": "stderr",
     "output_type": "stream",
     "text": [
      "100%|██████████| 948/948 [00:15<00:00, 63.00it/s]\n",
      "100%|██████████| 948/948 [00:15<00:00, 63.16it/s]\n",
      "100%|██████████| 948/948 [00:15<00:00, 62.88it/s]\n",
      "100%|██████████| 948/948 [00:15<00:00, 62.92it/s]\n",
      " 34%|███▎      | 318/948 [00:05<00:11, 52.52it/s]"
     ]
    },
    {
     "name": "stdout",
     "output_type": "stream",
     "text": [
      "---Performing simulation---\n",
      "---Performing simulation---\n",
      "---Performing simulation---\n",
      "---Performing simulation---\n"
     ]
    },
    {
     "name": "stderr",
     "output_type": "stream",
     "text": [
      "100%|██████████| 948/948 [00:14<00:00, 63.33it/s]\n",
      "100%|██████████| 948/948 [00:14<00:00, 63.49it/s]\n",
      " 13%|█▎        | 126/948 [00:01<00:12, 64.37it/s]"
     ]
    },
    {
     "name": "stdout",
     "output_type": "stream",
     "text": [
      "---Performing simulation---\n",
      "---Performing simulation---\n",
      "---Performing simulation---\n"
     ]
    },
    {
     "name": "stderr",
     "output_type": "stream",
     "text": [
      "100%|██████████| 948/948 [00:14<00:00, 64.22it/s]\n",
      "100%|██████████| 948/948 [00:15<00:00, 61.91it/s]\n",
      " 18%|█▊        | 168/948 [00:02<00:12, 64.81it/s]"
     ]
    },
    {
     "name": "stdout",
     "output_type": "stream",
     "text": [
      "---Performing simulation---\n"
     ]
    },
    {
     "name": "stderr",
     "output_type": "stream",
     "text": [
      "100%|██████████| 948/948 [00:15<00:00, 62.63it/s]\n",
      "100%|██████████| 948/948 [00:14<00:00, 63.89it/s]\n",
      " 97%|█████████▋| 917/948 [00:14<00:00, 62.90it/s]"
     ]
    },
    {
     "name": "stdout",
     "output_type": "stream",
     "text": [
      "---Performing simulation---\n",
      "---Performing simulation---\n",
      "---Performing simulation---\n"
     ]
    },
    {
     "name": "stderr",
     "output_type": "stream",
     "text": [
      "100%|██████████| 948/948 [00:14<00:00, 63.62it/s]\n",
      "100%|██████████| 948/948 [00:15<00:00, 62.68it/s]\n",
      " 84%|████████▍ | 798/948 [00:12<00:02, 63.88it/s]"
     ]
    },
    {
     "name": "stdout",
     "output_type": "stream",
     "text": [
      "---Performing simulation---\n"
     ]
    },
    {
     "name": "stderr",
     "output_type": "stream",
     "text": [
      "100%|██████████| 948/948 [00:15<00:00, 62.83it/s]\n",
      " 26%|██▌       | 245/948 [00:03<00:10, 64.58it/s]"
     ]
    },
    {
     "name": "stdout",
     "output_type": "stream",
     "text": [
      "---Performing simulation---\n"
     ]
    },
    {
     "name": "stderr",
     "output_type": "stream",
     "text": [
      "100%|██████████| 948/948 [00:14<00:00, 64.36it/s]\n",
      " 41%|████▏     | 392/948 [00:06<00:08, 65.02it/s]"
     ]
    },
    {
     "name": "stdout",
     "output_type": "stream",
     "text": [
      "---Performing simulation---\n"
     ]
    },
    {
     "name": "stderr",
     "output_type": "stream",
     "text": [
      "100%|██████████| 948/948 [00:15<00:00, 60.10it/s]\n",
      "100%|██████████| 948/948 [00:15<00:00, 60.52it/s]\n",
      " 27%|██▋       | 252/948 [00:04<00:11, 62.71it/s]"
     ]
    },
    {
     "name": "stdout",
     "output_type": "stream",
     "text": [
      "---Performing simulation---\n",
      "---Performing simulation---\n"
     ]
    },
    {
     "name": "stderr",
     "output_type": "stream",
     "text": [
      "100%|██████████| 948/948 [00:15<00:00, 61.07it/s]\n",
      " 30%|██▉       | 280/948 [00:04<00:10, 62.80it/s]"
     ]
    },
    {
     "name": "stdout",
     "output_type": "stream",
     "text": [
      "---Performing simulation---\n"
     ]
    },
    {
     "name": "stderr",
     "output_type": "stream",
     "text": [
      "100%|██████████| 948/948 [00:15<00:00, 60.15it/s]\n",
      " 49%|████▊     | 462/948 [00:07<00:07, 63.94it/s]"
     ]
    },
    {
     "name": "stdout",
     "output_type": "stream",
     "text": [
      "---Performing simulation---\n"
     ]
    },
    {
     "name": "stderr",
     "output_type": "stream",
     "text": [
      "100%|██████████| 948/948 [00:15<00:00, 61.83it/s]\n",
      " 69%|██████▉   | 658/948 [00:10<00:04, 63.93it/s]"
     ]
    },
    {
     "name": "stdout",
     "output_type": "stream",
     "text": [
      "---Performing simulation---\n"
     ]
    },
    {
     "name": "stderr",
     "output_type": "stream",
     "text": [
      "100%|██████████| 948/948 [00:16<00:00, 58.82it/s]\n",
      " 21%|██        | 196/948 [00:03<00:12, 61.92it/s]"
     ]
    },
    {
     "name": "stdout",
     "output_type": "stream",
     "text": [
      "---Performing simulation---\n"
     ]
    },
    {
     "name": "stderr",
     "output_type": "stream",
     "text": [
      "100%|██████████| 948/948 [00:17<00:00, 53.39it/s]\n",
      " 88%|████████▊ | 833/948 [00:12<00:01, 64.73it/s]"
     ]
    },
    {
     "name": "stdout",
     "output_type": "stream",
     "text": [
      "---Performing simulation---\n"
     ]
    },
    {
     "name": "stderr",
     "output_type": "stream",
     "text": [
      "100%|██████████| 948/948 [00:16<00:00, 57.87it/s]\n",
      "  1%|          | 6/948 [00:00<00:16, 58.22it/s]s]"
     ]
    },
    {
     "name": "stdout",
     "output_type": "stream",
     "text": [
      "---Performing simulation---\n"
     ]
    },
    {
     "name": "stderr",
     "output_type": "stream",
     "text": [
      "100%|██████████| 948/948 [00:14<00:00, 64.93it/s]\n",
      " 99%|█████████▉| 938/948 [00:14<00:00, 64.39it/s]"
     ]
    },
    {
     "name": "stdout",
     "output_type": "stream",
     "text": [
      "---Performing simulation---\n"
     ]
    },
    {
     "name": "stderr",
     "output_type": "stream",
     "text": [
      "100%|██████████| 948/948 [00:14<00:00, 64.08it/s]\n",
      "100%|██████████| 948/948 [00:14<00:00, 64.32it/s]\n",
      " 80%|████████  | 763/948 [00:12<00:02, 62.50it/s]"
     ]
    },
    {
     "name": "stdout",
     "output_type": "stream",
     "text": [
      "---Performing simulation---\n",
      "---Performing simulation---\n"
     ]
    },
    {
     "name": "stderr",
     "output_type": "stream",
     "text": [
      "100%|██████████| 948/948 [00:14<00:00, 64.33it/s]\n",
      " 91%|█████████ | 861/948 [00:13<00:01, 62.50it/s]"
     ]
    },
    {
     "name": "stdout",
     "output_type": "stream",
     "text": [
      "---Performing simulation---\n"
     ]
    },
    {
     "name": "stderr",
     "output_type": "stream",
     "text": [
      "100%|██████████| 948/948 [00:14<00:00, 63.36it/s]\n",
      "100%|██████████| 948/948 [00:14<00:00, 64.63it/s]\n",
      " 65%|██████▍   | 616/948 [00:09<00:05, 64.37it/s]"
     ]
    },
    {
     "name": "stdout",
     "output_type": "stream",
     "text": [
      "---Performing simulation---\n",
      "---Performing simulation---\n",
      "---Performing simulation---\n"
     ]
    },
    {
     "name": "stderr",
     "output_type": "stream",
     "text": [
      "100%|██████████| 948/948 [00:14<00:00, 64.19it/s]\n",
      "100%|██████████| 948/948 [00:14<00:00, 64.27it/s]\n",
      "  1%|▏         | 14/948 [00:00<00:14, 65.11it/s]]"
     ]
    },
    {
     "name": "stdout",
     "output_type": "stream",
     "text": [
      "---Performing simulation---\n"
     ]
    },
    {
     "name": "stderr",
     "output_type": "stream",
     "text": [
      "100%|██████████| 948/948 [00:15<00:00, 62.99it/s]\n",
      "100%|██████████| 948/948 [00:15<00:00, 62.86it/s]\n"
     ]
    },
    {
     "name": "stdout",
     "output_type": "stream",
     "text": [
      "---Performing simulation---\n",
      "---Performing simulation---\n"
     ]
    },
    {
     "name": "stderr",
     "output_type": "stream",
     "text": [
      "100%|██████████| 948/948 [00:15<00:00, 62.87it/s]\n",
      "100%|██████████| 948/948 [00:15<00:00, 62.83it/s]\n",
      "100%|██████████| 948/948 [00:15<00:00, 63.02it/s]\n",
      "100%|██████████| 948/948 [00:15<00:00, 62.62it/s]\n",
      " 59%|█████▉    | 557/948 [00:09<00:06, 58.89it/s]"
     ]
    },
    {
     "name": "stdout",
     "output_type": "stream",
     "text": [
      "---Performing simulation---\n",
      "---Performing simulation---\n",
      "---Performing simulation---\n"
     ]
    },
    {
     "name": "stderr",
     "output_type": "stream",
     "text": [
      "100%|██████████| 948/948 [00:14<00:00, 63.75it/s]\n",
      "100%|██████████| 948/948 [00:14<00:00, 63.50it/s]\n",
      "100%|██████████| 948/948 [00:14<00:00, 64.00it/s]\n",
      " 13%|█▎        | 126/948 [00:01<00:12, 64.28it/s]"
     ]
    },
    {
     "name": "stdout",
     "output_type": "stream",
     "text": [
      "---Performing simulation---\n",
      "---Performing simulation---\n",
      "---Performing simulation---\n",
      "---Performing simulation---\n"
     ]
    },
    {
     "name": "stderr",
     "output_type": "stream",
     "text": [
      "100%|██████████| 948/948 [00:14<00:00, 64.39it/s]\n",
      " 13%|█▎        | 126/948 [00:01<00:12, 64.11it/s]"
     ]
    },
    {
     "name": "stdout",
     "output_type": "stream",
     "text": [
      "---Performing simulation---\n",
      "---Performing simulation---\n"
     ]
    },
    {
     "name": "stderr",
     "output_type": "stream",
     "text": [
      "100%|██████████| 948/948 [00:15<00:00, 62.48it/s]\n",
      "100%|██████████| 948/948 [00:14<00:00, 63.60it/s]\n",
      " 18%|█▊        | 175/948 [00:02<00:12, 64.15it/s]"
     ]
    },
    {
     "name": "stdout",
     "output_type": "stream",
     "text": [
      "---Performing simulation---\n",
      "---Performing simulation---\n"
     ]
    },
    {
     "name": "stderr",
     "output_type": "stream",
     "text": [
      "100%|██████████| 948/948 [00:15<00:00, 62.11it/s]\n",
      "100%|██████████| 948/948 [00:15<00:00, 62.53it/s]\n",
      " 23%|██▎       | 217/948 [00:03<00:11, 65.11it/s]"
     ]
    },
    {
     "name": "stdout",
     "output_type": "stream",
     "text": [
      "---Performing simulation---\n",
      "---Performing simulation---\n"
     ]
    },
    {
     "name": "stderr",
     "output_type": "stream",
     "text": [
      "100%|██████████| 948/948 [00:15<00:00, 62.86it/s]\n",
      "100%|██████████| 948/948 [00:14<00:00, 64.83it/s]\n",
      " 38%|███▊      | 357/948 [00:05<00:09, 64.43it/s]"
     ]
    },
    {
     "name": "stdout",
     "output_type": "stream",
     "text": [
      "---Performing simulation---\n"
     ]
    },
    {
     "name": "stderr",
     "output_type": "stream",
     "text": [
      "100%|██████████| 948/948 [00:15<00:00, 60.71it/s]\n",
      " 36%|███▌      | 343/948 [00:05<00:09, 61.92it/s]"
     ]
    },
    {
     "name": "stdout",
     "output_type": "stream",
     "text": [
      "---Performing simulation---\n"
     ]
    },
    {
     "name": "stderr",
     "output_type": "stream",
     "text": [
      "100%|██████████| 948/948 [00:15<00:00, 61.17it/s]\n",
      "100%|██████████| 948/948 [00:15<00:00, 60.06it/s]\n",
      " 55%|█████▌    | 525/948 [00:08<00:06, 63.12it/s]"
     ]
    },
    {
     "name": "stdout",
     "output_type": "stream",
     "text": [
      "---Performing simulation---\n",
      "---Performing simulation---\n"
     ]
    },
    {
     "name": "stderr",
     "output_type": "stream",
     "text": [
      "100%|██████████| 948/948 [00:15<00:00, 60.07it/s]\n",
      " 55%|█████▌    | 525/948 [00:08<00:06, 65.13it/s]"
     ]
    },
    {
     "name": "stdout",
     "output_type": "stream",
     "text": [
      "---Performing simulation---\n"
     ]
    },
    {
     "name": "stderr",
     "output_type": "stream",
     "text": [
      "100%|██████████| 948/948 [00:15<00:00, 61.69it/s]\n",
      " 48%|████▊     | 455/948 [00:07<00:07, 63.13it/s]"
     ]
    },
    {
     "name": "stdout",
     "output_type": "stream",
     "text": [
      "---Performing simulation---\n"
     ]
    },
    {
     "name": "stderr",
     "output_type": "stream",
     "text": [
      "100%|██████████| 948/948 [00:16<00:00, 58.82it/s]\n",
      " 71%|███████   | 672/948 [00:10<00:04, 65.35it/s]"
     ]
    },
    {
     "name": "stdout",
     "output_type": "stream",
     "text": [
      "---Performing simulation---\n"
     ]
    },
    {
     "name": "stderr",
     "output_type": "stream",
     "text": [
      "100%|██████████| 948/948 [00:14<00:00, 64.51it/s]\n",
      " 83%|████████▎ | 791/948 [00:12<00:02, 62.71it/s]"
     ]
    },
    {
     "name": "stdout",
     "output_type": "stream",
     "text": [
      "---Performing simulation---\n"
     ]
    },
    {
     "name": "stderr",
     "output_type": "stream",
     "text": [
      "100%|██████████| 948/948 [00:14<00:00, 64.52it/s]\n",
      "100%|██████████| 948/948 [00:14<00:00, 64.53it/s]\n",
      " 87%|████████▋ | 826/948 [00:12<00:01, 61.78it/s]"
     ]
    },
    {
     "name": "stdout",
     "output_type": "stream",
     "text": [
      "---Performing simulation---\n",
      "---Performing simulation---\n"
     ]
    },
    {
     "name": "stderr",
     "output_type": "stream",
     "text": [
      "100%|██████████| 948/948 [00:14<00:00, 64.43it/s]\n",
      " 89%|████████▊ | 840/948 [00:13<00:01, 61.48it/s]"
     ]
    },
    {
     "name": "stdout",
     "output_type": "stream",
     "text": [
      "---Performing simulation---\n"
     ]
    },
    {
     "name": "stderr",
     "output_type": "stream",
     "text": [
      "100%|██████████| 948/948 [00:14<00:00, 64.28it/s]\n",
      "100%|██████████| 948/948 [00:14<00:00, 64.37it/s]\n",
      "100%|██████████| 948/948 [00:14<00:00, 64.39it/s]\n",
      " 21%|██        | 196/948 [00:03<00:13, 57.05it/s]"
     ]
    },
    {
     "name": "stdout",
     "output_type": "stream",
     "text": [
      "---Performing simulation---\n",
      "---Performing simulation---\n",
      "---Performing simulation---\n"
     ]
    },
    {
     "name": "stderr",
     "output_type": "stream",
     "text": [
      "100%|██████████| 948/948 [00:16<00:00, 58.24it/s]\n",
      "100%|██████████| 948/948 [00:14<00:00, 64.10it/s]\n",
      " 84%|████████▍ | 798/948 [00:12<00:02, 63.59it/s]"
     ]
    },
    {
     "name": "stdout",
     "output_type": "stream",
     "text": [
      "---Performing simulation---\n",
      "---Performing simulation---\n"
     ]
    },
    {
     "name": "stderr",
     "output_type": "stream",
     "text": [
      "100%|██████████| 948/948 [00:14<00:00, 63.85it/s]\n",
      "100%|██████████| 948/948 [00:17<00:00, 53.11it/s]\n",
      "100%|██████████| 948/948 [00:14<00:00, 63.57it/s]\n",
      "  6%|▌         | 56/948 [00:00<00:13, 64.17it/s]]"
     ]
    },
    {
     "name": "stdout",
     "output_type": "stream",
     "text": [
      "---Performing simulation---\n",
      "---Performing simulation---\n",
      "---Performing simulation---\n"
     ]
    },
    {
     "name": "stderr",
     "output_type": "stream",
     "text": [
      "100%|██████████| 948/948 [00:14<00:00, 63.65it/s]\n",
      "100%|██████████| 948/948 [00:14<00:00, 63.59it/s]\n",
      "100%|██████████| 948/948 [00:14<00:00, 63.68it/s]\n",
      " 16%|█▌        | 147/948 [00:02<00:12, 64.45it/s]"
     ]
    },
    {
     "name": "stdout",
     "output_type": "stream",
     "text": [
      "---Performing simulation---\n",
      "---Performing simulation---\n",
      "---Performing simulation---\n"
     ]
    },
    {
     "name": "stderr",
     "output_type": "stream",
     "text": [
      "100%|██████████| 948/948 [00:14<00:00, 63.58it/s]\n",
      "  3%|▎         | 28/948 [00:00<00:14, 63.33it/s]]"
     ]
    },
    {
     "name": "stdout",
     "output_type": "stream",
     "text": [
      "---Performing simulation---\n",
      "---Performing simulation---\n",
      "---Performing simulation---\n",
      "---Performing simulation---\n"
     ]
    },
    {
     "name": "stderr",
     "output_type": "stream",
     "text": [
      "100%|██████████| 948/948 [00:15<00:00, 62.78it/s]\n",
      "100%|██████████| 948/948 [00:14<00:00, 63.60it/s]\n",
      "100%|██████████| 948/948 [00:15<00:00, 63.16it/s]\n",
      "100%|██████████| 948/948 [00:14<00:00, 64.15it/s]\n",
      " 13%|█▎        | 126/948 [00:01<00:12, 64.19it/s]"
     ]
    },
    {
     "name": "stdout",
     "output_type": "stream",
     "text": [
      "---Performing simulation---\n"
     ]
    },
    {
     "name": "stderr",
     "output_type": "stream",
     "text": [
      "100%|██████████| 948/948 [00:15<00:00, 62.99it/s]\n",
      "100%|██████████| 948/948 [00:14<00:00, 63.47it/s]\n",
      " 37%|███▋      | 349/948 [00:05<00:10, 56.97it/s]"
     ]
    },
    {
     "name": "stdout",
     "output_type": "stream",
     "text": [
      "---Performing simulation---\n",
      "---Performing simulation---\n"
     ]
    },
    {
     "name": "stderr",
     "output_type": "stream",
     "text": [
      "100%|██████████| 948/948 [00:15<00:00, 62.82it/s]\n",
      " 11%|█         | 105/948 [00:01<00:13, 62.95it/s]"
     ]
    },
    {
     "name": "stdout",
     "output_type": "stream",
     "text": [
      "---Performing simulation---\n"
     ]
    },
    {
     "name": "stderr",
     "output_type": "stream",
     "text": [
      "100%|██████████| 948/948 [00:15<00:00, 63.09it/s]\n",
      " 20%|██        | 192/948 [00:03<00:13, 57.74it/s]"
     ]
    },
    {
     "name": "stdout",
     "output_type": "stream",
     "text": [
      "---Performing simulation---\n",
      "---Performing simulation---\n"
     ]
    },
    {
     "name": "stderr",
     "output_type": "stream",
     "text": [
      "100%|██████████| 948/948 [00:15<00:00, 63.01it/s]\n",
      "100%|██████████| 948/948 [00:14<00:00, 64.26it/s]\n",
      " 34%|███▍      | 322/948 [00:04<00:09, 64.61it/s]"
     ]
    },
    {
     "name": "stdout",
     "output_type": "stream",
     "text": [
      "---Performing simulation---\n"
     ]
    },
    {
     "name": "stderr",
     "output_type": "stream",
     "text": [
      "100%|██████████| 948/948 [00:15<00:00, 61.34it/s]\n",
      " 42%|████▏     | 396/948 [00:07<00:10, 50.65it/s]"
     ]
    },
    {
     "name": "stdout",
     "output_type": "stream",
     "text": [
      "---Performing simulation---\n"
     ]
    },
    {
     "name": "stderr",
     "output_type": "stream",
     "text": [
      "100%|██████████| 948/948 [00:15<00:00, 61.16it/s]\n",
      " 44%|████▍     | 420/948 [00:06<00:08, 63.48it/s]"
     ]
    },
    {
     "name": "stdout",
     "output_type": "stream",
     "text": [
      "---Performing simulation---\n",
      "---Performing simulation---\n"
     ]
    },
    {
     "name": "stderr",
     "output_type": "stream",
     "text": [
      "100%|██████████| 948/948 [00:15<00:00, 60.33it/s]\n",
      "100%|██████████| 948/948 [00:15<00:00, 60.33it/s]\n",
      " 97%|█████████▋| 917/948 [00:14<00:00, 61.60it/s]"
     ]
    },
    {
     "name": "stdout",
     "output_type": "stream",
     "text": [
      "---Performing simulation---\n"
     ]
    },
    {
     "name": "stderr",
     "output_type": "stream",
     "text": [
      "100%|██████████| 948/948 [00:15<00:00, 61.76it/s]\n",
      " 57%|█████▋    | 539/948 [00:08<00:06, 64.06it/s]"
     ]
    },
    {
     "name": "stdout",
     "output_type": "stream",
     "text": [
      "---Performing simulation---\n"
     ]
    },
    {
     "name": "stderr",
     "output_type": "stream",
     "text": [
      "100%|██████████| 948/948 [00:15<00:00, 59.50it/s]\n",
      " 12%|█▏        | 112/948 [00:01<00:13, 62.69it/s]"
     ]
    },
    {
     "name": "stdout",
     "output_type": "stream",
     "text": [
      "---Performing simulation---\n"
     ]
    },
    {
     "name": "stderr",
     "output_type": "stream",
     "text": [
      "100%|██████████| 948/948 [00:14<00:00, 64.24it/s]\n",
      "100%|██████████| 948/948 [00:14<00:00, 64.36it/s]\n",
      " 83%|████████▎ | 783/948 [00:12<00:02, 64.05it/s]"
     ]
    },
    {
     "name": "stdout",
     "output_type": "stream",
     "text": [
      "---Performing simulation---\n"
     ]
    },
    {
     "name": "stderr",
     "output_type": "stream",
     "text": [
      "100%|██████████| 948/948 [00:14<00:00, 64.40it/s]\n",
      " 62%|██████▏   | 588/948 [00:09<00:05, 64.75it/s]"
     ]
    },
    {
     "name": "stdout",
     "output_type": "stream",
     "text": [
      "---Performing simulation---\n",
      "---Performing simulation---\n"
     ]
    },
    {
     "name": "stderr",
     "output_type": "stream",
     "text": [
      "100%|██████████| 948/948 [00:14<00:00, 64.50it/s]\n",
      " 88%|████████▊ | 833/948 [00:13<00:01, 64.49it/s]"
     ]
    },
    {
     "name": "stdout",
     "output_type": "stream",
     "text": [
      "---Performing simulation---\n"
     ]
    },
    {
     "name": "stderr",
     "output_type": "stream",
     "text": [
      "100%|██████████| 948/948 [00:14<00:00, 64.71it/s]\n",
      "100%|██████████| 948/948 [00:14<00:00, 63.94it/s]\n",
      " 88%|████████▊ | 833/948 [00:12<00:01, 64.50it/s]"
     ]
    },
    {
     "name": "stdout",
     "output_type": "stream",
     "text": [
      "---Performing simulation---\n",
      "---Performing simulation---\n"
     ]
    },
    {
     "name": "stderr",
     "output_type": "stream",
     "text": [
      "100%|██████████| 948/948 [00:14<00:00, 64.37it/s]\n",
      "  6%|▌         | 56/948 [00:00<00:13, 65.52it/s]]"
     ]
    },
    {
     "name": "stdout",
     "output_type": "stream",
     "text": [
      "---Performing simulation---\n"
     ]
    },
    {
     "name": "stderr",
     "output_type": "stream",
     "text": [
      "100%|██████████| 948/948 [00:14<00:00, 64.33it/s]\n",
      "  9%|▉         | 84/948 [00:01<00:13, 65.39it/s]]"
     ]
    },
    {
     "name": "stdout",
     "output_type": "stream",
     "text": [
      "---Performing simulation---\n"
     ]
    },
    {
     "name": "stderr",
     "output_type": "stream",
     "text": [
      "100%|██████████| 948/948 [00:14<00:00, 64.21it/s]\n",
      " 13%|█▎        | 126/948 [00:01<00:12, 65.30it/s]"
     ]
    },
    {
     "name": "stdout",
     "output_type": "stream",
     "text": [
      "---Performing simulation---\n"
     ]
    },
    {
     "name": "stderr",
     "output_type": "stream",
     "text": [
      "100%|██████████| 948/948 [00:14<00:00, 64.11it/s]\n",
      " 47%|████▋     | 441/948 [00:07<00:08, 61.39it/s]"
     ]
    },
    {
     "name": "stdout",
     "output_type": "stream",
     "text": [
      "---Performing simulation---\n",
      "---Performing simulation---\n"
     ]
    },
    {
     "name": "stderr",
     "output_type": "stream",
     "text": [
      "100%|██████████| 948/948 [00:14<00:00, 63.97it/s]\n",
      "100%|██████████| 948/948 [00:14<00:00, 63.83it/s]\n",
      "100%|██████████| 948/948 [00:14<00:00, 63.71it/s]\n",
      "100%|██████████| 948/948 [00:14<00:00, 63.99it/s]\n",
      "100%|██████████| 948/948 [00:16<00:00, 58.26it/s]\n",
      " 11%|█         | 105/948 [00:01<00:12, 64.93it/s]"
     ]
    },
    {
     "name": "stdout",
     "output_type": "stream",
     "text": [
      "---Performing simulation---\n",
      "---Performing simulation---\n",
      "---Performing simulation---\n"
     ]
    },
    {
     "name": "stderr",
     "output_type": "stream",
     "text": [
      "100%|██████████| 948/948 [00:14<00:00, 64.20it/s]\n",
      "100%|██████████| 948/948 [00:14<00:00, 63.76it/s]\n",
      " 78%|███████▊  | 742/948 [00:11<00:03, 64.79it/s]"
     ]
    },
    {
     "name": "stdout",
     "output_type": "stream",
     "text": [
      "---Performing simulation---\n",
      "---Performing simulation---\n",
      "---Performing simulation---\n"
     ]
    },
    {
     "name": "stderr",
     "output_type": "stream",
     "text": [
      "100%|██████████| 948/948 [00:14<00:00, 63.34it/s]\n",
      "  4%|▎         | 35/948 [00:00<00:14, 63.72it/s]]"
     ]
    },
    {
     "name": "stdout",
     "output_type": "stream",
     "text": [
      "---Performing simulation---\n"
     ]
    },
    {
     "name": "stderr",
     "output_type": "stream",
     "text": [
      "100%|██████████| 948/948 [00:14<00:00, 64.23it/s]\n",
      "  5%|▌         | 49/948 [00:00<00:14, 62.38it/s]]"
     ]
    },
    {
     "name": "stdout",
     "output_type": "stream",
     "text": [
      "---Performing simulation---\n"
     ]
    },
    {
     "name": "stderr",
     "output_type": "stream",
     "text": [
      "100%|██████████| 948/948 [00:16<00:00, 58.16it/s]\n",
      "100%|██████████| 948/948 [00:14<00:00, 63.89it/s]\n",
      " 20%|█▉        | 189/948 [00:02<00:11, 65.18it/s]"
     ]
    },
    {
     "name": "stdout",
     "output_type": "stream",
     "text": [
      "---Performing simulation---\n",
      "---Performing simulation---\n",
      "---Performing simulation---\n"
     ]
    },
    {
     "name": "stderr",
     "output_type": "stream",
     "text": [
      "100%|██████████| 948/948 [00:14<00:00, 63.60it/s]\n",
      "100%|██████████| 948/948 [00:14<00:00, 63.63it/s]\n",
      " 27%|██▋       | 252/948 [00:03<00:10, 65.10it/s]"
     ]
    },
    {
     "name": "stdout",
     "output_type": "stream",
     "text": [
      "---Performing simulation---\n"
     ]
    },
    {
     "name": "stderr",
     "output_type": "stream",
     "text": [
      "100%|██████████| 948/948 [00:14<00:00, 63.57it/s]\n",
      "  7%|▋         | 68/948 [00:01<00:14, 62.17it/s]]"
     ]
    },
    {
     "name": "stdout",
     "output_type": "stream",
     "text": [
      "---Performing simulation---\n"
     ]
    },
    {
     "name": "stderr",
     "output_type": "stream",
     "text": [
      "100%|██████████| 948/948 [00:14<00:00, 64.66it/s]\n",
      " 71%|███████▏  | 677/948 [00:11<00:04, 61.01it/s]"
     ]
    },
    {
     "name": "stdout",
     "output_type": "stream",
     "text": [
      "---Performing simulation---\n"
     ]
    },
    {
     "name": "stderr",
     "output_type": "stream",
     "text": [
      "100%|██████████| 948/948 [00:16<00:00, 56.95it/s]\n",
      " 42%|████▏     | 399/948 [00:06<00:08, 63.87it/s]"
     ]
    },
    {
     "name": "stdout",
     "output_type": "stream",
     "text": [
      "---Performing simulation---\n"
     ]
    },
    {
     "name": "stderr",
     "output_type": "stream",
     "text": [
      "100%|██████████| 948/948 [00:15<00:00, 61.04it/s]\n",
      " 64%|██████▍   | 609/948 [00:09<00:05, 64.68it/s]"
     ]
    },
    {
     "name": "stdout",
     "output_type": "stream",
     "text": [
      "---Performing simulation---\n"
     ]
    },
    {
     "name": "stderr",
     "output_type": "stream",
     "text": [
      "100%|██████████| 948/948 [00:15<00:00, 60.81it/s]\n",
      "100%|██████████| 948/948 [00:15<00:00, 61.06it/s]\n",
      " 46%|████▌     | 434/948 [00:06<00:08, 63.99it/s]"
     ]
    },
    {
     "name": "stdout",
     "output_type": "stream",
     "text": [
      "---Performing simulation---\n",
      "---Performing simulation---\n"
     ]
    },
    {
     "name": "stderr",
     "output_type": "stream",
     "text": [
      "100%|██████████| 948/948 [00:15<00:00, 60.26it/s]\n",
      " 66%|██████▌   | 621/948 [00:09<00:05, 64.54it/s]"
     ]
    },
    {
     "name": "stdout",
     "output_type": "stream",
     "text": [
      "---Performing simulation---\n",
      "---Performing simulation---\n"
     ]
    },
    {
     "name": "stderr",
     "output_type": "stream",
     "text": [
      "100%|██████████| 948/948 [00:15<00:00, 61.97it/s]\n",
      "100%|██████████| 948/948 [00:14<00:00, 64.44it/s]\n",
      " 16%|█▌        | 147/948 [00:02<00:13, 59.88it/s]"
     ]
    },
    {
     "name": "stdout",
     "output_type": "stream",
     "text": [
      "---Performing simulation---\n",
      "---Performing simulation---\n"
     ]
    },
    {
     "name": "stderr",
     "output_type": "stream",
     "text": [
      "100%|██████████| 948/948 [00:14<00:00, 64.73it/s]\n",
      "100%|██████████| 948/948 [00:14<00:00, 64.23it/s]\n",
      "100%|██████████| 948/948 [00:16<00:00, 58.68it/s]\n",
      " 81%|████████▏ | 772/948 [00:12<00:02, 64.53it/s]"
     ]
    },
    {
     "name": "stdout",
     "output_type": "stream",
     "text": [
      "---Performing simulation---\n",
      "---Performing simulation---\n"
     ]
    },
    {
     "name": "stderr",
     "output_type": "stream",
     "text": [
      "100%|██████████| 948/948 [00:14<00:00, 63.86it/s]\n",
      "100%|██████████| 948/948 [00:14<00:00, 64.51it/s]\n",
      " 98%|█████████▊| 931/948 [00:14<00:00, 62.58it/s]"
     ]
    },
    {
     "name": "stdout",
     "output_type": "stream",
     "text": [
      "---Performing simulation---\n",
      "---Performing simulation---\n"
     ]
    },
    {
     "name": "stderr",
     "output_type": "stream",
     "text": [
      "100%|██████████| 948/948 [00:14<00:00, 63.98it/s]\n",
      "100%|██████████| 948/948 [00:14<00:00, 63.70it/s]\n",
      "100%|██████████| 948/948 [00:14<00:00, 64.41it/s]\n"
     ]
    },
    {
     "name": "stdout",
     "output_type": "stream",
     "text": [
      "---Performing simulation---\n",
      "---Performing simulation---\n",
      "---Performing simulation---\n"
     ]
    },
    {
     "name": "stderr",
     "output_type": "stream",
     "text": [
      "100%|██████████| 948/948 [00:14<00:00, 63.45it/s]\n",
      " 45%|████▌     | 427/948 [00:06<00:08, 62.09it/s]"
     ]
    },
    {
     "name": "stdout",
     "output_type": "stream",
     "text": [
      "---Performing simulation---\n",
      "---Performing simulation---\n"
     ]
    },
    {
     "name": "stderr",
     "output_type": "stream",
     "text": [
      "100%|██████████| 948/948 [00:14<00:00, 63.72it/s]\n",
      "100%|██████████| 948/948 [00:15<00:00, 62.95it/s]\n",
      "100%|██████████| 948/948 [00:14<00:00, 63.49it/s]\n",
      "100%|██████████| 948/948 [00:14<00:00, 63.63it/s]\n",
      "100%|██████████| 948/948 [00:15<00:00, 62.98it/s]\n",
      "100%|██████████| 948/948 [00:14<00:00, 63.85it/s]\n",
      "  4%|▎         | 35/948 [00:00<00:14, 64.12it/s]]"
     ]
    },
    {
     "name": "stdout",
     "output_type": "stream",
     "text": [
      "---Performing simulation---\n",
      "---Performing simulation---\n",
      "---Performing simulation---\n",
      "---Performing simulation---\n",
      "---Performing simulation---\n"
     ]
    },
    {
     "name": "stderr",
     "output_type": "stream",
     "text": [
      "100%|██████████| 948/948 [00:14<00:00, 63.82it/s]\n",
      "  1%|▏         | 14/948 [00:00<00:14, 64.80it/s]]"
     ]
    },
    {
     "name": "stdout",
     "output_type": "stream",
     "text": [
      "---Performing simulation---\n"
     ]
    },
    {
     "name": "stderr",
     "output_type": "stream",
     "text": [
      "100%|██████████| 948/948 [00:14<00:00, 63.21it/s]\n",
      "100%|██████████| 948/948 [00:14<00:00, 63.83it/s]\n",
      " 94%|█████████▍| 894/948 [00:15<00:00, 59.23it/s]"
     ]
    },
    {
     "name": "stdout",
     "output_type": "stream",
     "text": [
      "---Performing simulation---\n",
      "---Performing simulation---\n"
     ]
    },
    {
     "name": "stderr",
     "output_type": "stream",
     "text": [
      "100%|██████████| 948/948 [00:14<00:00, 63.47it/s]\n",
      " 18%|█▊        | 175/948 [00:02<00:12, 63.88it/s]"
     ]
    },
    {
     "name": "stdout",
     "output_type": "stream",
     "text": [
      "---Performing simulation---\n",
      "---Performing simulation---\n"
     ]
    },
    {
     "name": "stderr",
     "output_type": "stream",
     "text": [
      "100%|██████████| 948/948 [00:14<00:00, 63.26it/s]\n",
      "100%|██████████| 948/948 [00:16<00:00, 58.14it/s]\n",
      "100%|██████████| 948/948 [00:15<00:00, 61.80it/s]\n",
      "  1%|          | 6/948 [00:00<00:16, 55.96it/s]s]"
     ]
    },
    {
     "name": "stdout",
     "output_type": "stream",
     "text": [
      "---Performing simulation---\n",
      "---Performing simulation---\n"
     ]
    },
    {
     "name": "stderr",
     "output_type": "stream",
     "text": [
      "100%|██████████| 948/948 [00:15<00:00, 62.67it/s]\n",
      " 73%|███████▎  | 696/948 [00:12<00:04, 55.04it/s]"
     ]
    },
    {
     "name": "stdout",
     "output_type": "stream",
     "text": [
      "---Performing simulation---\n"
     ]
    },
    {
     "name": "stderr",
     "output_type": "stream",
     "text": [
      "100%|██████████| 948/948 [00:15<00:00, 62.83it/s]\n",
      " 15%|█▍        | 140/948 [00:02<00:12, 64.65it/s]"
     ]
    },
    {
     "name": "stdout",
     "output_type": "stream",
     "text": [
      "---Performing simulation---\n"
     ]
    },
    {
     "name": "stderr",
     "output_type": "stream",
     "text": [
      "100%|██████████| 948/948 [00:14<00:00, 64.00it/s]\n",
      "  0%|          | 0/948 [00:00<?, ?it/s]58.72it/s]"
     ]
    },
    {
     "name": "stdout",
     "output_type": "stream",
     "text": [
      "---Performing simulation---\n"
     ]
    },
    {
     "name": "stderr",
     "output_type": "stream",
     "text": [
      "100%|██████████| 948/948 [00:17<00:00, 54.50it/s]\n",
      " 87%|████████▋ | 822/948 [00:13<00:02, 61.43it/s]"
     ]
    },
    {
     "name": "stdout",
     "output_type": "stream",
     "text": [
      "---Performing simulation---\n"
     ]
    },
    {
     "name": "stderr",
     "output_type": "stream",
     "text": [
      "100%|██████████| 948/948 [00:15<00:00, 61.45it/s]\n",
      " 86%|████████▌ | 812/948 [00:13<00:02, 62.14it/s]"
     ]
    },
    {
     "name": "stdout",
     "output_type": "stream",
     "text": [
      "---Performing simulation---\n"
     ]
    },
    {
     "name": "stderr",
     "output_type": "stream",
     "text": [
      "100%|██████████| 948/948 [00:15<00:00, 61.36it/s]\n",
      " 72%|███████▏  | 678/948 [00:10<00:04, 64.78it/s]"
     ]
    },
    {
     "name": "stdout",
     "output_type": "stream",
     "text": [
      "---Performing simulation---\n"
     ]
    },
    {
     "name": "stderr",
     "output_type": "stream",
     "text": [
      "100%|██████████| 948/948 [00:15<00:00, 60.73it/s]\n",
      " 73%|███████▎  | 692/948 [00:10<00:03, 64.32it/s]"
     ]
    },
    {
     "name": "stdout",
     "output_type": "stream",
     "text": [
      "---Performing simulation---\n"
     ]
    },
    {
     "name": "stderr",
     "output_type": "stream",
     "text": [
      "100%|██████████| 948/948 [00:15<00:00, 61.87it/s]\n",
      "100%|██████████| 948/948 [00:15<00:00, 61.11it/s]\n",
      " 63%|██████▎   | 595/948 [00:09<00:05, 63.73it/s]"
     ]
    },
    {
     "name": "stdout",
     "output_type": "stream",
     "text": [
      "---Performing simulation---\n",
      "---Performing simulation---\n"
     ]
    },
    {
     "name": "stderr",
     "output_type": "stream",
     "text": [
      "100%|██████████| 948/948 [00:14<00:00, 64.77it/s]\n",
      " 81%|████████  | 770/948 [00:11<00:02, 64.54it/s]"
     ]
    },
    {
     "name": "stdout",
     "output_type": "stream",
     "text": [
      "---Performing simulation---\n",
      "---Performing simulation---\n"
     ]
    },
    {
     "name": "stderr",
     "output_type": "stream",
     "text": [
      "100%|██████████| 948/948 [00:14<00:00, 64.77it/s]\n",
      "100%|██████████| 948/948 [00:14<00:00, 64.87it/s]\n",
      " 75%|███████▍  | 707/948 [00:11<00:03, 62.70it/s]"
     ]
    },
    {
     "name": "stdout",
     "output_type": "stream",
     "text": [
      "---Performing simulation---\n"
     ]
    },
    {
     "name": "stderr",
     "output_type": "stream",
     "text": [
      "100%|██████████| 948/948 [00:14<00:00, 64.82it/s]\n",
      " 74%|███████▎  | 698/948 [00:11<00:03, 62.52it/s]"
     ]
    },
    {
     "name": "stdout",
     "output_type": "stream",
     "text": [
      "---Performing simulation---\n",
      "---Performing simulation---\n"
     ]
    },
    {
     "name": "stderr",
     "output_type": "stream",
     "text": [
      "100%|██████████| 948/948 [00:14<00:00, 63.76it/s]\n",
      "100%|██████████| 948/948 [00:14<00:00, 64.21it/s]\n",
      "100%|██████████| 948/948 [00:14<00:00, 64.07it/s]\n",
      "  0%|          | 0/948 [00:00<?, ?it/s]64.82it/s]"
     ]
    },
    {
     "name": "stdout",
     "output_type": "stream",
     "text": [
      "---Performing simulation---\n",
      "---Performing simulation---\n",
      "---Performing simulation---\n"
     ]
    },
    {
     "name": "stderr",
     "output_type": "stream",
     "text": [
      "100%|██████████| 948/948 [00:14<00:00, 64.47it/s]\n",
      "100%|██████████| 948/948 [00:16<00:00, 59.00it/s]\n",
      " 89%|████████▉ | 847/948 [00:13<00:01, 64.93it/s]"
     ]
    },
    {
     "name": "stdout",
     "output_type": "stream",
     "text": [
      "---Performing simulation---\n"
     ]
    },
    {
     "name": "stderr",
     "output_type": "stream",
     "text": [
      "100%|██████████| 948/948 [00:14<00:00, 63.95it/s]\n",
      "100%|██████████| 948/948 [00:14<00:00, 63.85it/s]\n",
      " 95%|█████████▌| 903/948 [00:14<00:00, 64.09it/s]"
     ]
    },
    {
     "name": "stdout",
     "output_type": "stream",
     "text": [
      "---Performing simulation---\n",
      "---Performing simulation---\n"
     ]
    },
    {
     "name": "stderr",
     "output_type": "stream",
     "text": [
      "100%|██████████| 948/948 [00:14<00:00, 63.91it/s]\n",
      "100%|██████████| 948/948 [00:14<00:00, 63.65it/s]\n",
      "100%|██████████| 948/948 [00:14<00:00, 64.46it/s]\n",
      " 18%|█▊        | 175/948 [00:02<00:12, 63.50it/s]"
     ]
    },
    {
     "name": "stdout",
     "output_type": "stream",
     "text": [
      "---Performing simulation---\n",
      "---Performing simulation---\n",
      "---Performing simulation---\n",
      "---Performing simulation---\n",
      "---Performing simulation---\n"
     ]
    },
    {
     "name": "stderr",
     "output_type": "stream",
     "text": [
      "100%|██████████| 948/948 [00:14<00:00, 63.88it/s]\n",
      "100%|██████████| 948/948 [00:14<00:00, 63.70it/s]\n",
      "100%|██████████| 948/948 [00:14<00:00, 63.54it/s]\n",
      " 94%|█████████▍| 889/948 [00:13<00:00, 64.22it/s]"
     ]
    },
    {
     "name": "stdout",
     "output_type": "stream",
     "text": [
      "---Performing simulation---\n"
     ]
    },
    {
     "name": "stderr",
     "output_type": "stream",
     "text": [
      "100%|██████████| 948/948 [00:14<00:00, 63.93it/s]\n",
      "100%|██████████| 948/948 [00:14<00:00, 63.41it/s]\n",
      " 92%|█████████▏| 868/948 [00:13<00:01, 63.40it/s]"
     ]
    },
    {
     "name": "stdout",
     "output_type": "stream",
     "text": [
      "---Performing simulation---\n",
      "---Performing simulation---\n"
     ]
    },
    {
     "name": "stderr",
     "output_type": "stream",
     "text": [
      "100%|██████████| 948/948 [00:14<00:00, 63.60it/s]\n",
      "  9%|▉         | 84/948 [00:01<00:13, 63.99it/s]]"
     ]
    },
    {
     "name": "stdout",
     "output_type": "stream",
     "text": [
      "---Performing simulation---\n",
      "---Performing simulation---\n"
     ]
    },
    {
     "name": "stderr",
     "output_type": "stream",
     "text": [
      "100%|██████████| 948/948 [00:14<00:00, 63.57it/s]\n",
      "100%|██████████| 948/948 [00:15<00:00, 62.35it/s]\n",
      "100%|██████████| 948/948 [00:15<00:00, 63.10it/s]\n",
      " 13%|█▎        | 126/948 [00:01<00:12, 64.68it/s]"
     ]
    },
    {
     "name": "stdout",
     "output_type": "stream",
     "text": [
      "---Performing simulation---\n",
      "---Performing simulation---\n"
     ]
    },
    {
     "name": "stderr",
     "output_type": "stream",
     "text": [
      "100%|██████████| 948/948 [00:15<00:00, 62.89it/s]\n",
      " 18%|█▊        | 168/948 [00:02<00:12, 64.72it/s]"
     ]
    },
    {
     "name": "stdout",
     "output_type": "stream",
     "text": [
      "---Performing simulation---\n"
     ]
    },
    {
     "name": "stderr",
     "output_type": "stream",
     "text": [
      "100%|██████████| 948/948 [00:16<00:00, 58.52it/s]\n",
      " 21%|██        | 196/948 [00:03<00:11, 63.70it/s]"
     ]
    },
    {
     "name": "stdout",
     "output_type": "stream",
     "text": [
      "---Performing simulation---\n"
     ]
    },
    {
     "name": "stderr",
     "output_type": "stream",
     "text": [
      "100%|██████████| 948/948 [00:14<00:00, 64.65it/s]\n",
      " 22%|██▏       | 210/948 [00:03<00:11, 63.74it/s]"
     ]
    },
    {
     "name": "stdout",
     "output_type": "stream",
     "text": [
      "---Performing simulation---\n"
     ]
    },
    {
     "name": "stderr",
     "output_type": "stream",
     "text": [
      "100%|██████████| 948/948 [00:15<00:00, 61.55it/s]\n",
      "  0%|          | 0/948 [00:00<?, ?it/s]59.71it/s]"
     ]
    },
    {
     "name": "stdout",
     "output_type": "stream",
     "text": [
      "---Performing simulation---\n"
     ]
    },
    {
     "name": "stderr",
     "output_type": "stream",
     "text": [
      "100%|██████████| 948/948 [00:17<00:00, 54.48it/s]\n",
      "100%|██████████| 948/948 [00:15<00:00, 61.22it/s]\n",
      " 61%|██████    | 574/948 [00:09<00:05, 64.17it/s]"
     ]
    },
    {
     "name": "stdout",
     "output_type": "stream",
     "text": [
      "---Performing simulation---\n",
      "---Performing simulation---\n"
     ]
    },
    {
     "name": "stderr",
     "output_type": "stream",
     "text": [
      "100%|██████████| 948/948 [00:15<00:00, 61.23it/s]\n",
      "  6%|▌         | 56/948 [00:00<00:14, 62.60it/s]]"
     ]
    },
    {
     "name": "stdout",
     "output_type": "stream",
     "text": [
      "---Performing simulation---\n"
     ]
    },
    {
     "name": "stderr",
     "output_type": "stream",
     "text": [
      "100%|██████████| 948/948 [00:15<00:00, 61.89it/s]\n",
      " 66%|██████▋   | 630/948 [00:09<00:05, 62.29it/s]"
     ]
    },
    {
     "name": "stdout",
     "output_type": "stream",
     "text": [
      "---Performing simulation---\n"
     ]
    },
    {
     "name": "stderr",
     "output_type": "stream",
     "text": [
      "100%|██████████| 948/948 [00:15<00:00, 60.79it/s]\n",
      " 75%|███████▌  | 714/948 [00:11<00:03, 62.65it/s]"
     ]
    },
    {
     "name": "stdout",
     "output_type": "stream",
     "text": [
      "---Performing simulation---\n"
     ]
    },
    {
     "name": "stderr",
     "output_type": "stream",
     "text": [
      "100%|██████████| 948/948 [00:14<00:00, 64.93it/s]\n",
      "100%|██████████| 948/948 [00:14<00:00, 65.14it/s]\n",
      " 92%|█████████▏| 875/948 [00:13<00:01, 64.50it/s]"
     ]
    },
    {
     "name": "stdout",
     "output_type": "stream",
     "text": [
      "---Performing simulation---\n",
      "---Performing simulation---\n"
     ]
    },
    {
     "name": "stderr",
     "output_type": "stream",
     "text": [
      "100%|██████████| 948/948 [00:14<00:00, 64.48it/s]\n",
      " 95%|█████████▍| 896/948 [00:13<00:00, 64.41it/s]"
     ]
    },
    {
     "name": "stdout",
     "output_type": "stream",
     "text": [
      "---Performing simulation---\n"
     ]
    },
    {
     "name": "stderr",
     "output_type": "stream",
     "text": [
      "100%|██████████| 948/948 [00:14<00:00, 64.78it/s]\n",
      "  1%|          | 7/948 [00:00<00:14, 65.20it/s]s]"
     ]
    },
    {
     "name": "stdout",
     "output_type": "stream",
     "text": [
      "---Performing simulation---\n",
      "---Performing simulation---\n"
     ]
    },
    {
     "name": "stderr",
     "output_type": "stream",
     "text": [
      "100%|██████████| 948/948 [00:14<00:00, 64.69it/s]\n",
      "100%|██████████| 948/948 [00:14<00:00, 64.47it/s]\n",
      "100%|██████████| 948/948 [00:14<00:00, 64.57it/s]\n",
      " 88%|████████▊ | 833/948 [00:12<00:01, 63.60it/s]"
     ]
    },
    {
     "name": "stdout",
     "output_type": "stream",
     "text": [
      "---Performing simulation---\n",
      "---Performing simulation---\n",
      "---Performing simulation---\n"
     ]
    },
    {
     "name": "stderr",
     "output_type": "stream",
     "text": [
      "100%|██████████| 948/948 [00:14<00:00, 64.35it/s]\n",
      "100%|██████████| 948/948 [00:14<00:00, 63.81it/s]\n",
      "100%|██████████| 948/948 [00:14<00:00, 63.85it/s]\n",
      "  0%|          | 0/948 [00:00<?, ?it/s]62.85it/s]"
     ]
    },
    {
     "name": "stdout",
     "output_type": "stream",
     "text": [
      "---Performing simulation---\n",
      "---Performing simulation---\n"
     ]
    },
    {
     "name": "stderr",
     "output_type": "stream",
     "text": [
      "100%|██████████| 948/948 [00:14<00:00, 64.20it/s]\n",
      "100%|██████████| 948/948 [00:14<00:00, 64.04it/s]\n",
      "100%|██████████| 948/948 [00:14<00:00, 63.84it/s]\n",
      "100%|██████████| 948/948 [00:16<00:00, 59.11it/s]\n",
      "100%|██████████| 948/948 [00:14<00:00, 64.03it/s]\n",
      " 91%|█████████ | 861/948 [00:13<00:01, 63.86it/s]"
     ]
    },
    {
     "name": "stdout",
     "output_type": "stream",
     "text": [
      "---Performing simulation---\n",
      "---Performing simulation---\n",
      "---Performing simulation---\n",
      "---Performing simulation---\n",
      "---Performing simulation---\n"
     ]
    },
    {
     "name": "stderr",
     "output_type": "stream",
     "text": [
      "100%|██████████| 948/948 [00:14<00:00, 63.56it/s]\n",
      " 99%|█████████▉| 938/948 [00:14<00:00, 61.52it/s]"
     ]
    },
    {
     "name": "stdout",
     "output_type": "stream",
     "text": [
      "---Performing simulation---\n"
     ]
    },
    {
     "name": "stderr",
     "output_type": "stream",
     "text": [
      "100%|██████████| 948/948 [00:14<00:00, 63.22it/s]\n",
      "100%|██████████| 948/948 [00:14<00:00, 64.10it/s]\n",
      "100%|██████████| 948/948 [00:14<00:00, 64.14it/s]\n",
      " 95%|█████████▌| 903/948 [00:14<00:00, 64.00it/s]"
     ]
    },
    {
     "name": "stdout",
     "output_type": "stream",
     "text": [
      "---Performing simulation---\n",
      "---Performing simulation---\n",
      "---Performing simulation---\n"
     ]
    },
    {
     "name": "stderr",
     "output_type": "stream",
     "text": [
      "100%|██████████| 948/948 [00:14<00:00, 63.92it/s]\n",
      " 94%|█████████▎| 888/948 [00:14<00:00, 62.21it/s]"
     ]
    },
    {
     "name": "stdout",
     "output_type": "stream",
     "text": [
      "---Performing simulation---\n",
      "---Performing simulation---\n"
     ]
    },
    {
     "name": "stderr",
     "output_type": "stream",
     "text": [
      "100%|██████████| 948/948 [00:14<00:00, 63.54it/s]\n",
      "100%|██████████| 948/948 [00:14<00:00, 63.24it/s]\n",
      " 41%|████      | 385/948 [00:06<00:09, 61.05it/s]"
     ]
    },
    {
     "name": "stdout",
     "output_type": "stream",
     "text": [
      "---Performing simulation---\n"
     ]
    },
    {
     "name": "stderr",
     "output_type": "stream",
     "text": [
      "100%|██████████| 948/948 [00:15<00:00, 61.79it/s]\n",
      " 39%|███▉      | 371/948 [00:05<00:09, 63.29it/s]"
     ]
    },
    {
     "name": "stdout",
     "output_type": "stream",
     "text": [
      "---Performing simulation---\n"
     ]
    },
    {
     "name": "stderr",
     "output_type": "stream",
     "text": [
      "100%|██████████| 948/948 [00:15<00:00, 62.93it/s]\n",
      " 16%|█▌        | 147/948 [00:02<00:12, 62.28it/s]"
     ]
    },
    {
     "name": "stdout",
     "output_type": "stream",
     "text": [
      "---Performing simulation---\n"
     ]
    },
    {
     "name": "stderr",
     "output_type": "stream",
     "text": [
      "100%|██████████| 948/948 [00:14<00:00, 63.85it/s]\n",
      " 18%|█▊        | 175/948 [00:02<00:12, 63.09it/s]"
     ]
    },
    {
     "name": "stdout",
     "output_type": "stream",
     "text": [
      "---Performing simulation---\n"
     ]
    },
    {
     "name": "stderr",
     "output_type": "stream",
     "text": [
      "100%|██████████| 948/948 [00:16<00:00, 58.46it/s]\n",
      " 26%|██▌       | 245/948 [00:03<00:10, 65.72it/s]"
     ]
    },
    {
     "name": "stdout",
     "output_type": "stream",
     "text": [
      "---Performing simulation---\n"
     ]
    },
    {
     "name": "stderr",
     "output_type": "stream",
     "text": [
      "100%|██████████| 948/948 [00:15<00:00, 61.50it/s]\n",
      " 41%|████      | 385/948 [00:06<00:08, 64.10it/s]"
     ]
    },
    {
     "name": "stdout",
     "output_type": "stream",
     "text": [
      "---Performing simulation---\n"
     ]
    },
    {
     "name": "stderr",
     "output_type": "stream",
     "text": [
      "100%|██████████| 948/948 [00:15<00:00, 61.40it/s]\n",
      " 66%|██████▋   | 630/948 [00:09<00:04, 65.04it/s]"
     ]
    },
    {
     "name": "stdout",
     "output_type": "stream",
     "text": [
      "---Performing simulation---\n"
     ]
    },
    {
     "name": "stderr",
     "output_type": "stream",
     "text": [
      "100%|██████████| 948/948 [00:16<00:00, 58.99it/s]\n",
      " 65%|██████▍   | 616/948 [00:09<00:05, 64.30it/s]"
     ]
    },
    {
     "name": "stdout",
     "output_type": "stream",
     "text": [
      "---Performing simulation---\n"
     ]
    },
    {
     "name": "stderr",
     "output_type": "stream",
     "text": [
      "100%|██████████| 948/948 [00:16<00:00, 55.95it/s]\n",
      " 72%|███████▏  | 679/948 [00:10<00:04, 62.89it/s]"
     ]
    },
    {
     "name": "stdout",
     "output_type": "stream",
     "text": [
      "---Performing simulation---\n"
     ]
    },
    {
     "name": "stderr",
     "output_type": "stream",
     "text": [
      "100%|██████████| 948/948 [00:15<00:00, 61.62it/s]\n",
      " 69%|██████▉   | 658/948 [00:10<00:04, 65.52it/s]"
     ]
    },
    {
     "name": "stdout",
     "output_type": "stream",
     "text": [
      "---Performing simulation---\n",
      "---Performing simulation---\n"
     ]
    },
    {
     "name": "stderr",
     "output_type": "stream",
     "text": [
      "100%|██████████| 948/948 [00:14<00:00, 65.38it/s]\n",
      "100%|██████████| 948/948 [00:15<00:00, 61.36it/s]\n",
      "100%|██████████| 948/948 [00:14<00:00, 63.56it/s]\n",
      "100%|██████████| 948/948 [00:14<00:00, 64.39it/s]\n",
      " 18%|█▊        | 168/948 [00:02<00:12, 62.74it/s]"
     ]
    },
    {
     "name": "stdout",
     "output_type": "stream",
     "text": [
      "---Performing simulation---\n",
      "---Performing simulation---\n",
      "---Performing simulation---\n"
     ]
    },
    {
     "name": "stderr",
     "output_type": "stream",
     "text": [
      "100%|██████████| 948/948 [00:14<00:00, 64.32it/s]\n",
      "100%|██████████| 948/948 [00:14<00:00, 64.14it/s]\n",
      " 77%|███████▋  | 728/948 [00:11<00:03, 64.52it/s]"
     ]
    },
    {
     "name": "stdout",
     "output_type": "stream",
     "text": [
      "---Performing simulation---\n"
     ]
    },
    {
     "name": "stderr",
     "output_type": "stream",
     "text": [
      " 78%|███████▊  | 742/948 [00:11<00:03, 64.80it/s]"
     ]
    },
    {
     "name": "stdout",
     "output_type": "stream",
     "text": [
      "---Performing simulation---\n"
     ]
    },
    {
     "name": "stderr",
     "output_type": "stream",
     "text": [
      "100%|██████████| 948/948 [00:14<00:00, 64.46it/s]\n",
      "100%|██████████| 948/948 [00:14<00:00, 63.85it/s]\n"
     ]
    },
    {
     "name": "stdout",
     "output_type": "stream",
     "text": [
      "---Performing simulation---\n",
      "---Performing simulation---\n"
     ]
    },
    {
     "name": "stderr",
     "output_type": "stream",
     "text": [
      "100%|██████████| 948/948 [00:14<00:00, 63.56it/s]\n",
      " 72%|███████▏  | 679/948 [00:10<00:04, 61.82it/s]"
     ]
    },
    {
     "name": "stdout",
     "output_type": "stream",
     "text": [
      "---Performing simulation---\n"
     ]
    },
    {
     "name": "stderr",
     "output_type": "stream",
     "text": [
      "100%|██████████| 948/948 [00:14<00:00, 64.58it/s]\n",
      "100%|██████████| 948/948 [00:14<00:00, 64.52it/s]\n",
      " 10%|▉         | 91/948 [00:01<00:12, 65.93it/s]"
     ]
    },
    {
     "name": "stdout",
     "output_type": "stream",
     "text": [
      "---Performing simulation---\n",
      "---Performing simulation---\n"
     ]
    },
    {
     "name": "stderr",
     "output_type": "stream",
     "text": [
      "100%|██████████| 948/948 [00:14<00:00, 64.70it/s]\n",
      " 92%|█████████▏| 868/948 [00:13<00:01, 63.63it/s]"
     ]
    },
    {
     "name": "stdout",
     "output_type": "stream",
     "text": [
      "---Performing simulation---\n",
      "---Performing simulation---\n"
     ]
    },
    {
     "name": "stderr",
     "output_type": "stream",
     "text": [
      "100%|██████████| 948/948 [00:14<00:00, 64.73it/s]\n",
      "100%|██████████| 948/948 [00:14<00:00, 63.97it/s]\n",
      " 25%|██▌       | 238/948 [00:03<00:11, 63.04it/s]"
     ]
    },
    {
     "name": "stdout",
     "output_type": "stream",
     "text": [
      "---Performing simulation---\n",
      "---Performing simulation---\n"
     ]
    },
    {
     "name": "stderr",
     "output_type": "stream",
     "text": [
      "100%|██████████| 948/948 [00:15<00:00, 63.03it/s]\n",
      "100%|██████████| 948/948 [00:14<00:00, 64.89it/s]\n",
      "100%|██████████| 948/948 [00:15<00:00, 63.19it/s]\n",
      " 27%|██▋       | 252/948 [00:03<00:10, 66.42it/s]"
     ]
    },
    {
     "name": "stdout",
     "output_type": "stream",
     "text": [
      "---Performing simulation---\n",
      "---Performing simulation---\n"
     ]
    },
    {
     "name": "stderr",
     "output_type": "stream",
     "text": [
      "100%|██████████| 948/948 [00:14<00:00, 63.76it/s]\n",
      "100%|██████████| 948/948 [00:14<00:00, 63.23it/s]\n",
      " 25%|██▌       | 238/948 [00:03<00:11, 62.04it/s]"
     ]
    },
    {
     "name": "stdout",
     "output_type": "stream",
     "text": [
      "---Performing simulation---\n",
      "---Performing simulation---\n"
     ]
    },
    {
     "name": "stderr",
     "output_type": "stream",
     "text": [
      "100%|██████████| 948/948 [00:15<00:00, 60.07it/s]\n",
      "100%|██████████| 948/948 [00:14<00:00, 64.36it/s]\n",
      " 30%|███       | 287/948 [00:04<00:10, 62.02it/s]"
     ]
    },
    {
     "name": "stdout",
     "output_type": "stream",
     "text": [
      "---Performing simulation---\n",
      "---Performing simulation---\n"
     ]
    },
    {
     "name": "stderr",
     "output_type": "stream",
     "text": [
      "100%|██████████| 948/948 [00:15<00:00, 63.04it/s]\n",
      "  5%|▌         | 49/948 [00:00<00:14, 60.74it/s]]"
     ]
    },
    {
     "name": "stdout",
     "output_type": "stream",
     "text": [
      "---Performing simulation---\n"
     ]
    },
    {
     "name": "stderr",
     "output_type": "stream",
     "text": [
      "100%|██████████| 948/948 [00:14<00:00, 64.60it/s]\n",
      "  2%|▏         | 21/948 [00:00<00:14, 63.05it/s]]"
     ]
    },
    {
     "name": "stdout",
     "output_type": "stream",
     "text": [
      "---Performing simulation---\n"
     ]
    },
    {
     "name": "stderr",
     "output_type": "stream",
     "text": [
      "100%|██████████| 948/948 [00:14<00:00, 63.96it/s]\n",
      " 41%|████▏     | 392/948 [00:06<00:09, 61.62it/s]"
     ]
    },
    {
     "name": "stdout",
     "output_type": "stream",
     "text": [
      "---Performing simulation---\n"
     ]
    },
    {
     "name": "stderr",
     "output_type": "stream",
     "text": [
      "100%|██████████| 948/948 [00:15<00:00, 61.81it/s]\n",
      " 41%|████▏     | 392/948 [00:06<00:09, 61.54it/s]"
     ]
    },
    {
     "name": "stdout",
     "output_type": "stream",
     "text": [
      "---Performing simulation---\n"
     ]
    },
    {
     "name": "stderr",
     "output_type": "stream",
     "text": [
      "100%|██████████| 948/948 [00:14<00:00, 63.75it/s]\n",
      " 42%|████▏     | 399/948 [00:06<00:08, 61.97it/s]"
     ]
    },
    {
     "name": "stdout",
     "output_type": "stream",
     "text": [
      "---Performing simulation---\n"
     ]
    },
    {
     "name": "stderr",
     "output_type": "stream",
     "text": [
      "100%|██████████| 948/948 [00:15<00:00, 59.89it/s]\n",
      " 35%|███▌      | 336/948 [00:05<00:09, 63.58it/s]"
     ]
    },
    {
     "name": "stdout",
     "output_type": "stream",
     "text": [
      "---Performing simulation---\n"
     ]
    },
    {
     "name": "stderr",
     "output_type": "stream",
     "text": [
      "100%|██████████| 948/948 [00:15<00:00, 62.44it/s]]\n",
      " 62%|██████▏   | 587/948 [00:09<00:05, 64.54it/s]"
     ]
    },
    {
     "name": "stdout",
     "output_type": "stream",
     "text": [
      "---Performing simulation---\n"
     ]
    },
    {
     "name": "stderr",
     "output_type": "stream",
     "text": [
      "100%|██████████| 948/948 [00:15<00:00, 62.48it/s]\n",
      " 47%|████▋     | 448/948 [00:07<00:08, 62.18it/s]"
     ]
    },
    {
     "name": "stdout",
     "output_type": "stream",
     "text": [
      "---Performing simulation---\n"
     ]
    },
    {
     "name": "stderr",
     "output_type": "stream",
     "text": [
      "100%|██████████| 948/948 [00:14<00:00, 66.16it/s]\n",
      " 64%|██████▎   | 602/948 [00:09<00:05, 63.83it/s]"
     ]
    },
    {
     "name": "stdout",
     "output_type": "stream",
     "text": [
      "---Performing simulation---\n"
     ]
    },
    {
     "name": "stderr",
     "output_type": "stream",
     "text": [
      "100%|██████████| 948/948 [00:15<00:00, 61.95it/s]\n",
      " 90%|█████████ | 854/948 [00:13<00:01, 63.14it/s]"
     ]
    },
    {
     "name": "stdout",
     "output_type": "stream",
     "text": [
      "---Performing simulation---\n"
     ]
    },
    {
     "name": "stderr",
     "output_type": "stream",
     "text": [
      "100%|██████████| 948/948 [00:14<00:00, 63.76it/s]\n",
      "100%|██████████| 948/948 [00:14<00:00, 64.03it/s]\n",
      " 92%|█████████▏| 868/948 [00:13<00:01, 63.73it/s]"
     ]
    },
    {
     "name": "stdout",
     "output_type": "stream",
     "text": [
      "---Performing simulation---\n",
      "---Performing simulation---\n",
      "---Performing simulation---\n",
      "---Performing simulation---\n"
     ]
    },
    {
     "name": "stderr",
     "output_type": "stream",
     "text": [
      "100%|██████████| 948/948 [00:15<00:00, 61.54it/s]\n",
      "100%|██████████| 948/948 [00:16<00:00, 58.27it/s]\n",
      "100%|██████████| 948/948 [00:15<00:00, 62.03it/s]\n",
      "100%|██████████| 948/948 [00:14<00:00, 64.00it/s]\n",
      " 85%|████████▍ | 805/948 [00:12<00:02, 65.53it/s]"
     ]
    },
    {
     "name": "stdout",
     "output_type": "stream",
     "text": [
      "---Performing simulation---\n",
      "---Performing simulation---\n"
     ]
    },
    {
     "name": "stderr",
     "output_type": "stream",
     "text": [
      "100%|██████████| 948/948 [00:14<00:00, 63.93it/s]\n",
      "100%|██████████| 948/948 [00:14<00:00, 65.25it/s]\n",
      "  6%|▌         | 56/948 [00:00<00:14, 63.25it/s]]"
     ]
    },
    {
     "name": "stdout",
     "output_type": "stream",
     "text": [
      "---Performing simulation---\n",
      "---Performing simulation---\n"
     ]
    },
    {
     "name": "stderr",
     "output_type": "stream",
     "text": [
      "100%|██████████| 948/948 [00:15<00:00, 63.10it/s]\n",
      "100%|█████████▉| 945/948 [00:14<00:00, 63.97it/s]"
     ]
    },
    {
     "name": "stdout",
     "output_type": "stream",
     "text": [
      "---Performing simulation---\n",
      "---Performing simulation---\n"
     ]
    },
    {
     "name": "stderr",
     "output_type": "stream",
     "text": [
      "100%|██████████| 948/948 [00:14<00:00, 63.55it/s]\n",
      "100%|██████████| 948/948 [00:14<00:00, 65.16it/s]\n",
      "100%|██████████| 948/948 [00:14<00:00, 65.05it/s]\n",
      "  5%|▌         | 49/948 [00:00<00:13, 64.71it/s]]"
     ]
    },
    {
     "name": "stdout",
     "output_type": "stream",
     "text": [
      "---Performing simulation---\n",
      "---Performing simulation---\n"
     ]
    },
    {
     "name": "stderr",
     "output_type": "stream",
     "text": [
      "100%|██████████| 948/948 [00:14<00:00, 65.05it/s]\n",
      " 85%|████████▍ | 805/948 [00:12<00:02, 63.22it/s]"
     ]
    },
    {
     "name": "stdout",
     "output_type": "stream",
     "text": [
      "---Performing simulation---\n"
     ]
    },
    {
     "name": "stderr",
     "output_type": "stream",
     "text": [
      "100%|██████████| 948/948 [00:14<00:00, 64.89it/s]\n",
      "100%|██████████| 948/948 [00:14<00:00, 65.13it/s]\n",
      "  1%|          | 7/948 [00:00<00:14, 64.78it/s]s]"
     ]
    },
    {
     "name": "stdout",
     "output_type": "stream",
     "text": [
      "---Performing simulation---\n",
      "---Performing simulation---\n"
     ]
    },
    {
     "name": "stderr",
     "output_type": "stream",
     "text": [
      "100%|██████████| 948/948 [00:14<00:00, 65.24it/s]\n",
      "  0%|          | 0/948 [00:00<?, ?it/s]59.88it/s]"
     ]
    },
    {
     "name": "stdout",
     "output_type": "stream",
     "text": [
      "---Performing simulation---\n"
     ]
    },
    {
     "name": "stderr",
     "output_type": "stream",
     "text": [
      "100%|██████████| 948/948 [00:14<00:00, 63.80it/s]\n",
      " 89%|████████▉ | 847/948 [00:13<00:01, 64.70it/s]"
     ]
    },
    {
     "name": "stdout",
     "output_type": "stream",
     "text": [
      "---Performing simulation---\n"
     ]
    },
    {
     "name": "stderr",
     "output_type": "stream",
     "text": [
      "100%|██████████| 948/948 [00:14<00:00, 63.98it/s]\n",
      " 99%|█████████▉| 938/948 [00:14<00:00, 63.72it/s]"
     ]
    },
    {
     "name": "stdout",
     "output_type": "stream",
     "text": [
      "---Performing simulation---\n"
     ]
    },
    {
     "name": "stderr",
     "output_type": "stream",
     "text": [
      "100%|██████████| 948/948 [00:14<00:00, 64.94it/s]\n",
      "100%|██████████| 948/948 [00:15<00:00, 62.70it/s]\n",
      " 27%|██▋       | 258/948 [00:04<00:11, 61.69it/s]"
     ]
    },
    {
     "name": "stdout",
     "output_type": "stream",
     "text": [
      "---Performing simulation---\n",
      "---Performing simulation---\n"
     ]
    },
    {
     "name": "stderr",
     "output_type": "stream",
     "text": [
      "100%|██████████| 948/948 [00:15<00:00, 60.46it/s]\n",
      "100%|██████████| 948/948 [00:14<00:00, 64.32it/s]\n",
      "100%|██████████| 948/948 [00:15<00:00, 63.04it/s]\n",
      " 25%|██▌       | 238/948 [00:03<00:10, 64.68it/s]"
     ]
    },
    {
     "name": "stdout",
     "output_type": "stream",
     "text": [
      "---Performing simulation---\n",
      "---Performing simulation---\n",
      "---Performing simulation---\n"
     ]
    },
    {
     "name": "stderr",
     "output_type": "stream",
     "text": [
      "100%|██████████| 948/948 [00:14<00:00, 64.83it/s]\n",
      "  5%|▌         | 49/948 [00:00<00:14, 63.98it/s]]"
     ]
    },
    {
     "name": "stdout",
     "output_type": "stream",
     "text": [
      "---Performing simulation---\n"
     ]
    },
    {
     "name": "stderr",
     "output_type": "stream",
     "text": [
      "100%|██████████| 948/948 [00:17<00:00, 54.86it/s]\n",
      " 40%|███▉      | 377/948 [00:06<00:09, 61.22it/s]"
     ]
    },
    {
     "name": "stdout",
     "output_type": "stream",
     "text": [
      "---Performing simulation---\n"
     ]
    },
    {
     "name": "stderr",
     "output_type": "stream",
     "text": [
      "100%|██████████| 948/948 [00:14<00:00, 64.07it/s]\n",
      " 56%|█████▌    | 532/948 [00:08<00:06, 63.05it/s]"
     ]
    },
    {
     "name": "stdout",
     "output_type": "stream",
     "text": [
      "---Performing simulation---\n",
      "---Performing simulation---\n"
     ]
    },
    {
     "name": "stderr",
     "output_type": "stream",
     "text": [
      "100%|██████████| 948/948 [00:15<00:00, 61.77it/s]\n",
      "100%|██████████| 948/948 [00:15<00:00, 59.91it/s]\n",
      " 52%|█████▏    | 490/948 [00:07<00:07, 65.27it/s]"
     ]
    },
    {
     "name": "stdout",
     "output_type": "stream",
     "text": [
      "---Performing simulation---\n"
     ]
    },
    {
     "name": "stderr",
     "output_type": "stream",
     "text": [
      "100%|██████████| 948/948 [00:15<00:00, 62.46it/s]\n",
      " 83%|████████▎ | 791/948 [00:12<00:02, 63.76it/s]"
     ]
    },
    {
     "name": "stdout",
     "output_type": "stream",
     "text": [
      "---Performing simulation---\n"
     ]
    },
    {
     "name": "stderr",
     "output_type": "stream",
     "text": [
      "100%|██████████| 948/948 [00:15<00:00, 62.64it/s]\n",
      "100%|██████████| 948/948 [00:14<00:00, 66.41it/s]\n",
      " 56%|█████▌    | 532/948 [00:08<00:06, 61.04it/s]"
     ]
    },
    {
     "name": "stdout",
     "output_type": "stream",
     "text": [
      "---Performing simulation---\n",
      "---Performing simulation---\n"
     ]
    },
    {
     "name": "stderr",
     "output_type": "stream",
     "text": [
      "100%|██████████| 948/948 [00:14<00:00, 63.95it/s]\n",
      "100%|██████████| 948/948 [00:14<00:00, 63.70it/s]\n",
      "  1%|          | 7/948 [00:00<00:14, 64.40it/s]s]"
     ]
    },
    {
     "name": "stdout",
     "output_type": "stream",
     "text": [
      "---Performing simulation---\n",
      "---Performing simulation---\n"
     ]
    },
    {
     "name": "stderr",
     "output_type": "stream",
     "text": [
      "100%|██████████| 948/948 [00:15<00:00, 61.49it/s]\n",
      "100%|██████████| 948/948 [00:14<00:00, 65.52it/s]\n",
      " 54%|█████▍    | 516/948 [00:09<00:07, 54.18it/s]"
     ]
    },
    {
     "name": "stdout",
     "output_type": "stream",
     "text": [
      "---Performing simulation---\n",
      "---Performing simulation---\n",
      "---Performing simulation---\n"
     ]
    },
    {
     "name": "stderr",
     "output_type": "stream",
     "text": [
      "100%|██████████| 948/948 [00:14<00:00, 63.83it/s]\n",
      "100%|██████████| 948/948 [00:15<00:00, 62.34it/s]\n",
      "100%|██████████| 948/948 [00:15<00:00, 61.26it/s]\n",
      "100%|██████████| 948/948 [00:14<00:00, 63.71it/s]\n",
      " 80%|████████  | 763/948 [00:12<00:02, 63.54it/s]"
     ]
    },
    {
     "name": "stdout",
     "output_type": "stream",
     "text": [
      "---Performing simulation---\n",
      "---Performing simulation---\n",
      "---Performing simulation---\n"
     ]
    },
    {
     "name": "stderr",
     "output_type": "stream",
     "text": [
      "100%|██████████| 948/948 [00:15<00:00, 60.12it/s]\n",
      " 99%|█████████▉| 938/948 [00:14<00:00, 62.96it/s]"
     ]
    },
    {
     "name": "stdout",
     "output_type": "stream",
     "text": [
      "---Performing simulation---\n"
     ]
    },
    {
     "name": "stderr",
     "output_type": "stream",
     "text": [
      "100%|██████████| 948/948 [00:14<00:00, 63.50it/s]\n",
      " 82%|████████▏ | 777/948 [00:12<00:02, 63.05it/s]"
     ]
    },
    {
     "name": "stdout",
     "output_type": "stream",
     "text": [
      "---Performing simulation---\n",
      "---Performing simulation---\n"
     ]
    },
    {
     "name": "stderr",
     "output_type": "stream",
     "text": [
      "100%|██████████| 948/948 [00:15<00:00, 63.13it/s]\n",
      "100%|██████████| 948/948 [00:14<00:00, 65.54it/s]\n",
      " 97%|█████████▋| 917/948 [00:14<00:00, 65.01it/s]"
     ]
    },
    {
     "name": "stdout",
     "output_type": "stream",
     "text": [
      "---Performing simulation---\n",
      "---Performing simulation---\n"
     ]
    },
    {
     "name": "stderr",
     "output_type": "stream",
     "text": [
      "100%|██████████| 948/948 [00:14<00:00, 65.55it/s]\n",
      "100%|██████████| 948/948 [00:14<00:00, 65.09it/s]\n",
      "100%|██████████| 948/948 [00:14<00:00, 65.57it/s]\n",
      " 82%|████████▏ | 777/948 [00:12<00:02, 63.14it/s]"
     ]
    },
    {
     "name": "stdout",
     "output_type": "stream",
     "text": [
      "---Performing simulation---\n",
      "---Performing simulation---\n"
     ]
    },
    {
     "name": "stderr",
     "output_type": "stream",
     "text": [
      "100%|██████████| 948/948 [00:14<00:00, 64.63it/s]\n",
      "100%|██████████| 948/948 [00:14<00:00, 65.54it/s]\n",
      "  1%|▏         | 14/948 [00:00<00:14, 64.36it/s]]"
     ]
    },
    {
     "name": "stdout",
     "output_type": "stream",
     "text": [
      "---Performing simulation---\n",
      "---Performing simulation---\n"
     ]
    },
    {
     "name": "stderr",
     "output_type": "stream",
     "text": [
      "100%|██████████| 948/948 [00:14<00:00, 63.35it/s]\n",
      " 33%|███▎      | 315/948 [00:04<00:09, 66.29it/s]"
     ]
    },
    {
     "name": "stdout",
     "output_type": "stream",
     "text": [
      "---Performing simulation---\n"
     ]
    },
    {
     "name": "stderr",
     "output_type": "stream",
     "text": [
      "100%|██████████| 948/948 [00:14<00:00, 65.15it/s]\n",
      "100%|██████████| 948/948 [00:15<00:00, 62.71it/s]\n",
      " 60%|██████    | 570/948 [00:09<00:06, 60.54it/s]"
     ]
    },
    {
     "name": "stdout",
     "output_type": "stream",
     "text": [
      "---Performing simulation---\n",
      "---Performing simulation---\n"
     ]
    },
    {
     "name": "stderr",
     "output_type": "stream",
     "text": [
      "100%|██████████| 948/948 [00:15<00:00, 62.66it/s]\n",
      "  3%|▎         | 28/948 [00:00<00:14, 63.65it/s]]"
     ]
    },
    {
     "name": "stdout",
     "output_type": "stream",
     "text": [
      "---Performing simulation---\n"
     ]
    },
    {
     "name": "stderr",
     "output_type": "stream",
     "text": [
      "100%|██████████| 948/948 [00:14<00:00, 64.85it/s]\n",
      " 26%|██▌       | 243/948 [00:03<00:11, 61.68it/s]"
     ]
    },
    {
     "name": "stdout",
     "output_type": "stream",
     "text": [
      "---Performing simulation---\n"
     ]
    },
    {
     "name": "stderr",
     "output_type": "stream",
     "text": [
      "100%|██████████| 948/948 [00:15<00:00, 62.97it/s]\n",
      " 12%|█▏        | 112/948 [00:01<00:13, 63.64it/s]"
     ]
    },
    {
     "name": "stdout",
     "output_type": "stream",
     "text": [
      "---Performing simulation---\n",
      "---Performing simulation---\n"
     ]
    },
    {
     "name": "stderr",
     "output_type": "stream",
     "text": [
      "100%|██████████| 948/948 [00:14<00:00, 64.81it/s]\n",
      "100%|██████████| 948/948 [00:15<00:00, 61.17it/s]\n",
      " 32%|███▏      | 307/948 [00:04<00:10, 62.91it/s]"
     ]
    },
    {
     "name": "stdout",
     "output_type": "stream",
     "text": [
      "---Performing simulation---\n"
     ]
    },
    {
     "name": "stderr",
     "output_type": "stream",
     "text": [
      "100%|██████████| 948/948 [00:14<00:00, 63.44it/s]\n",
      " 44%|████▎     | 413/948 [00:06<00:08, 64.27it/s]"
     ]
    },
    {
     "name": "stdout",
     "output_type": "stream",
     "text": [
      "---Performing simulation---\n"
     ]
    },
    {
     "name": "stderr",
     "output_type": "stream",
     "text": [
      "100%|██████████| 948/948 [00:15<00:00, 61.22it/s]\n",
      " 25%|██▌       | 238/948 [00:03<00:10, 65.25it/s]"
     ]
    },
    {
     "name": "stdout",
     "output_type": "stream",
     "text": [
      "---Performing simulation---\n"
     ]
    },
    {
     "name": "stderr",
     "output_type": "stream",
     "text": [
      "100%|██████████| 948/948 [00:17<00:00, 54.60it/s]\n",
      " 89%|████████▊ | 841/948 [00:13<00:01, 59.94it/s]"
     ]
    },
    {
     "name": "stdout",
     "output_type": "stream",
     "text": [
      "---Performing simulation---\n"
     ]
    },
    {
     "name": "stderr",
     "output_type": "stream",
     "text": [
      "100%|██████████| 948/948 [00:15<00:00, 60.23it/s]\n",
      " 58%|█████▊    | 553/948 [00:08<00:06, 64.31it/s]"
     ]
    },
    {
     "name": "stdout",
     "output_type": "stream",
     "text": [
      "---Performing simulation---\n"
     ]
    },
    {
     "name": "stderr",
     "output_type": "stream",
     "text": [
      "100%|██████████| 948/948 [00:14<00:00, 65.95it/s]\n",
      " 18%|█▊        | 172/948 [00:02<00:12, 59.77it/s]"
     ]
    },
    {
     "name": "stdout",
     "output_type": "stream",
     "text": [
      "---Performing simulation---\n",
      "---Performing simulation---\n"
     ]
    },
    {
     "name": "stderr",
     "output_type": "stream",
     "text": [
      "100%|██████████| 948/948 [00:15<00:00, 62.73it/s]\n",
      "100%|██████████| 948/948 [00:15<00:00, 62.57it/s]\n",
      " 84%|████████▍ | 796/948 [00:12<00:02, 61.78it/s]"
     ]
    },
    {
     "name": "stdout",
     "output_type": "stream",
     "text": [
      "---Performing simulation---\n"
     ]
    },
    {
     "name": "stderr",
     "output_type": "stream",
     "text": [
      "100%|██████████| 948/948 [00:14<00:00, 64.10it/s]\n",
      "100%|██████████| 948/948 [00:14<00:00, 65.53it/s]\n",
      "100%|██████████| 948/948 [00:14<00:00, 63.80it/s]\n",
      " 51%|█████     | 483/948 [00:07<00:07, 60.69it/s]"
     ]
    },
    {
     "name": "stdout",
     "output_type": "stream",
     "text": [
      "---Performing simulation---\n",
      "---Performing simulation---\n",
      "---Performing simulation---\n"
     ]
    },
    {
     "name": "stderr",
     "output_type": "stream",
     "text": [
      "100%|██████████| 948/948 [00:14<00:00, 64.00it/s]\n",
      " 95%|█████████▍| 896/948 [00:13<00:00, 64.61it/s]"
     ]
    },
    {
     "name": "stdout",
     "output_type": "stream",
     "text": [
      "---Performing simulation---\n"
     ]
    },
    {
     "name": "stderr",
     "output_type": "stream",
     "text": [
      "100%|██████████| 948/948 [00:15<00:00, 62.31it/s]\n",
      "100%|██████████| 948/948 [00:14<00:00, 63.93it/s]\n",
      " 89%|████████▉ | 847/948 [00:13<00:01, 64.87it/s]"
     ]
    },
    {
     "name": "stdout",
     "output_type": "stream",
     "text": [
      "---Performing simulation---\n",
      "---Performing simulation---\n"
     ]
    },
    {
     "name": "stderr",
     "output_type": "stream",
     "text": [
      "100%|██████████| 948/948 [00:15<00:00, 61.96it/s]\n",
      "100%|██████████| 948/948 [00:15<00:00, 61.32it/s]\n",
      "100%|██████████| 948/948 [00:14<00:00, 65.01it/s]\n",
      " 86%|████████▋ | 819/948 [00:12<00:02, 64.46it/s]"
     ]
    },
    {
     "name": "stdout",
     "output_type": "stream",
     "text": [
      "---Performing simulation---\n",
      "---Performing simulation---\n",
      "---Performing simulation---\n"
     ]
    },
    {
     "name": "stderr",
     "output_type": "stream",
     "text": [
      "100%|██████████| 948/948 [00:14<00:00, 63.58it/s]\n",
      "100%|██████████| 948/948 [00:14<00:00, 65.06it/s]\n",
      " 24%|██▎       | 224/948 [00:03<00:10, 65.85it/s]"
     ]
    },
    {
     "name": "stdout",
     "output_type": "stream",
     "text": [
      "---Performing simulation---\n",
      "---Performing simulation---\n",
      "---Performing simulation---\n"
     ]
    },
    {
     "name": "stderr",
     "output_type": "stream",
     "text": [
      "100%|██████████| 948/948 [00:14<00:00, 63.60it/s]\n",
      "100%|██████████| 948/948 [00:14<00:00, 65.07it/s]\n",
      "100%|██████████| 948/948 [00:15<00:00, 60.43it/s]\n",
      "  9%|▊         | 81/948 [00:01<00:13, 62.80it/s]]"
     ]
    },
    {
     "name": "stdout",
     "output_type": "stream",
     "text": [
      "---Performing simulation---\n",
      "---Performing simulation---\n",
      "---Performing simulation---\n"
     ]
    },
    {
     "name": "stderr",
     "output_type": "stream",
     "text": [
      "100%|██████████| 948/948 [00:14<00:00, 65.06it/s]\n",
      "100%|██████████| 948/948 [00:14<00:00, 65.15it/s]\n",
      "100%|██████████| 948/948 [00:14<00:00, 64.63it/s]\n",
      " 94%|█████████▍| 889/948 [00:13<00:00, 61.78it/s]"
     ]
    },
    {
     "name": "stdout",
     "output_type": "stream",
     "text": [
      "---Performing simulation---\n",
      "---Performing simulation---\n"
     ]
    },
    {
     "name": "stderr",
     "output_type": "stream",
     "text": [
      "100%|██████████| 948/948 [00:14<00:00, 63.59it/s]\n",
      "100%|██████████| 948/948 [00:14<00:00, 64.44it/s]\n",
      " 21%|██        | 196/948 [00:03<00:11, 64.53it/s]"
     ]
    },
    {
     "name": "stdout",
     "output_type": "stream",
     "text": [
      "---Performing simulation---\n",
      "---Performing simulation---\n"
     ]
    },
    {
     "name": "stderr",
     "output_type": "stream",
     "text": [
      "100%|██████████| 948/948 [00:14<00:00, 63.52it/s]\n",
      "  3%|▎         | 28/948 [00:00<00:14, 63.08it/s]]"
     ]
    },
    {
     "name": "stdout",
     "output_type": "stream",
     "text": [
      "---Performing simulation---\n"
     ]
    },
    {
     "name": "stderr",
     "output_type": "stream",
     "text": [
      "100%|██████████| 948/948 [00:15<00:00, 63.17it/s]\n",
      " 57%|█████▋    | 545/948 [00:09<00:06, 58.67it/s]s]"
     ]
    },
    {
     "name": "stdout",
     "output_type": "stream",
     "text": [
      "---Performing simulation---\n"
     ]
    },
    {
     "name": "stderr",
     "output_type": "stream",
     "text": [
      "100%|██████████| 948/948 [00:14<00:00, 63.83it/s]\n",
      " 16%|█▌        | 154/948 [00:02<00:12, 63.98it/s]"
     ]
    },
    {
     "name": "stdout",
     "output_type": "stream",
     "text": [
      "---Performing simulation---\n"
     ]
    },
    {
     "name": "stderr",
     "output_type": "stream",
     "text": [
      "100%|██████████| 948/948 [00:14<00:00, 63.97it/s]\n",
      "100%|██████████| 948/948 [00:15<00:00, 63.05it/s]\n",
      " 21%|██        | 196/948 [00:03<00:11, 64.04it/s]"
     ]
    },
    {
     "name": "stdout",
     "output_type": "stream",
     "text": [
      "---Performing simulation---\n",
      "---Performing simulation---\n"
     ]
    },
    {
     "name": "stderr",
     "output_type": "stream",
     "text": [
      "100%|██████████| 948/948 [00:14<00:00, 63.92it/s]\n",
      "100%|██████████| 948/948 [00:15<00:00, 60.52it/s]\n",
      " 34%|███▎      | 319/948 [00:05<00:09, 63.11it/s]"
     ]
    },
    {
     "name": "stdout",
     "output_type": "stream",
     "text": [
      "---Performing simulation---\n",
      "---Performing simulation---\n"
     ]
    },
    {
     "name": "stderr",
     "output_type": "stream",
     "text": [
      "100%|██████████| 948/948 [00:15<00:00, 61.30it/s]\n",
      " 10%|█         | 98/948 [00:01<00:13, 64.66it/s]]"
     ]
    },
    {
     "name": "stdout",
     "output_type": "stream",
     "text": [
      "---Performing simulation---\n"
     ]
    },
    {
     "name": "stderr",
     "output_type": "stream",
     "text": [
      "100%|██████████| 948/948 [00:17<00:00, 54.85it/s]\n",
      " 57%|█████▋    | 539/948 [00:08<00:06, 64.31it/s]"
     ]
    },
    {
     "name": "stdout",
     "output_type": "stream",
     "text": [
      "---Performing simulation---\n"
     ]
    },
    {
     "name": "stderr",
     "output_type": "stream",
     "text": [
      "100%|██████████| 948/948 [00:16<00:00, 58.68it/s]\n",
      " 86%|████████▋ | 818/948 [00:13<00:02, 60.33it/s]"
     ]
    },
    {
     "name": "stdout",
     "output_type": "stream",
     "text": [
      "---Performing simulation---\n"
     ]
    },
    {
     "name": "stderr",
     "output_type": "stream",
     "text": [
      "100%|██████████| 948/948 [00:14<00:00, 64.53it/s]\n",
      " 70%|███████   | 666/948 [00:11<00:04, 60.26it/s]"
     ]
    },
    {
     "name": "stdout",
     "output_type": "stream",
     "text": [
      "---Performing simulation---\n"
     ]
    },
    {
     "name": "stderr",
     "output_type": "stream",
     "text": [
      "100%|██████████| 948/948 [00:15<00:00, 61.14it/s]\n",
      " 95%|█████████▍| 896/948 [00:13<00:00, 63.77it/s]"
     ]
    },
    {
     "name": "stdout",
     "output_type": "stream",
     "text": [
      "---Performing simulation---\n"
     ]
    },
    {
     "name": "stderr",
     "output_type": "stream",
     "text": [
      "100%|██████████| 948/948 [00:15<00:00, 61.20it/s]\n",
      " 93%|█████████▎| 882/948 [00:13<00:01, 64.40it/s]"
     ]
    },
    {
     "name": "stdout",
     "output_type": "stream",
     "text": [
      "---Performing simulation---\n"
     ]
    },
    {
     "name": "stderr",
     "output_type": "stream",
     "text": [
      "100%|██████████| 948/948 [00:14<00:00, 64.26it/s]\n",
      "100%|██████████| 948/948 [00:14<00:00, 63.87it/s]\n",
      "100%|██████████| 948/948 [00:14<00:00, 64.13it/s]\n",
      " 91%|█████████ | 858/948 [00:13<00:01, 63.72it/s]"
     ]
    },
    {
     "name": "stdout",
     "output_type": "stream",
     "text": [
      "---Performing simulation---\n",
      "---Performing simulation---\n",
      "---Performing simulation---\n"
     ]
    },
    {
     "name": "stderr",
     "output_type": "stream",
     "text": [
      "100%|██████████| 948/948 [00:14<00:00, 64.25it/s]\n",
      " 93%|█████████▎| 886/948 [00:14<00:01, 61.27it/s]"
     ]
    },
    {
     "name": "stdout",
     "output_type": "stream",
     "text": [
      "---Performing simulation---\n"
     ]
    },
    {
     "name": "stderr",
     "output_type": "stream",
     "text": [
      "100%|██████████| 948/948 [00:14<00:00, 63.86it/s]\n",
      " 70%|███████   | 665/948 [00:10<00:04, 63.63it/s]"
     ]
    },
    {
     "name": "stdout",
     "output_type": "stream",
     "text": [
      "---Performing simulation---\n"
     ]
    },
    {
     "name": "stderr",
     "output_type": "stream",
     "text": [
      "100%|██████████| 948/948 [00:15<00:00, 61.93it/s]\n",
      " 16%|█▌        | 147/948 [00:02<00:12, 62.00it/s]"
     ]
    },
    {
     "name": "stdout",
     "output_type": "stream",
     "text": [
      "---Performing simulation---\n"
     ]
    },
    {
     "name": "stderr",
     "output_type": "stream",
     "text": [
      "100%|██████████| 948/948 [00:14<00:00, 64.04it/s]\n",
      "100%|██████████| 948/948 [00:15<00:00, 63.17it/s]\n",
      "100%|██████████| 948/948 [00:14<00:00, 63.79it/s]\n",
      " 65%|██████▍   | 613/948 [00:10<00:05, 60.25it/s]"
     ]
    },
    {
     "name": "stdout",
     "output_type": "stream",
     "text": [
      "---Performing simulation---\n",
      "---Performing simulation---\n",
      "---Performing simulation---\n"
     ]
    },
    {
     "name": "stderr",
     "output_type": "stream",
     "text": [
      "100%|██████████| 948/948 [00:14<00:00, 63.70it/s]\n",
      " 97%|█████████▋| 917/948 [00:14<00:00, 64.39it/s]"
     ]
    },
    {
     "name": "stdout",
     "output_type": "stream",
     "text": [
      "---Performing simulation---\n",
      "---Performing simulation---\n"
     ]
    },
    {
     "name": "stderr",
     "output_type": "stream",
     "text": [
      "100%|██████████| 948/948 [00:14<00:00, 63.87it/s]\n",
      "100%|██████████| 948/948 [00:15<00:00, 60.64it/s]\n",
      "100%|██████████| 948/948 [00:15<00:00, 61.16it/s]\n",
      "100%|██████████| 948/948 [00:14<00:00, 64.09it/s]\n",
      " 14%|█▍        | 133/948 [00:02<00:12, 64.82it/s]"
     ]
    },
    {
     "name": "stdout",
     "output_type": "stream",
     "text": [
      "---Performing simulation---\n",
      "---Performing simulation---\n",
      "---Performing simulation---\n"
     ]
    },
    {
     "name": "stderr",
     "output_type": "stream",
     "text": [
      "100%|██████████| 948/948 [00:14<00:00, 63.86it/s]\n",
      "100%|██████████| 948/948 [00:14<00:00, 63.88it/s]\n",
      " 63%|██████▎   | 600/948 [00:09<00:05, 62.17it/s]"
     ]
    },
    {
     "name": "stdout",
     "output_type": "stream",
     "text": [
      "---Performing simulation---\n",
      "---Performing simulation---\n"
     ]
    },
    {
     "name": "stderr",
     "output_type": "stream",
     "text": [
      "100%|██████████| 948/948 [00:15<00:00, 60.38it/s]\n",
      " 89%|████████▉ | 847/948 [00:13<00:01, 63.04it/s]"
     ]
    },
    {
     "name": "stdout",
     "output_type": "stream",
     "text": [
      "---Performing simulation---\n"
     ]
    },
    {
     "name": "stderr",
     "output_type": "stream",
     "text": [
      "100%|██████████| 948/948 [00:14<00:00, 63.63it/s]\n",
      "100%|██████████| 948/948 [00:14<00:00, 63.61it/s]\n",
      " 25%|██▌       | 238/948 [00:03<00:10, 64.85it/s]"
     ]
    },
    {
     "name": "stdout",
     "output_type": "stream",
     "text": [
      "---Performing simulation---\n",
      "---Performing simulation---\n"
     ]
    },
    {
     "name": "stderr",
     "output_type": "stream",
     "text": [
      "100%|██████████| 948/948 [00:15<00:00, 62.56it/s]\n",
      " 30%|██▉       | 280/948 [00:04<00:10, 63.85it/s]"
     ]
    },
    {
     "name": "stdout",
     "output_type": "stream",
     "text": [
      "---Performing simulation---\n"
     ]
    },
    {
     "name": "stderr",
     "output_type": "stream",
     "text": [
      "100%|██████████| 948/948 [00:15<00:00, 62.98it/s]\n",
      "100%|██████████| 948/948 [00:14<00:00, 63.50it/s]\n",
      " 18%|█▊        | 175/948 [00:02<00:11, 64.71it/s]"
     ]
    },
    {
     "name": "stdout",
     "output_type": "stream",
     "text": [
      "---Performing simulation---\n",
      "---Performing simulation---\n"
     ]
    },
    {
     "name": "stderr",
     "output_type": "stream",
     "text": [
      "100%|██████████| 948/948 [00:15<00:00, 63.19it/s]\n",
      "100%|██████████| 948/948 [00:14<00:00, 63.33it/s]\n",
      " 55%|█████▌    | 522/948 [00:08<00:07, 59.52it/s]"
     ]
    },
    {
     "name": "stdout",
     "output_type": "stream",
     "text": [
      "---Performing simulation---\n",
      "---Performing simulation---\n"
     ]
    },
    {
     "name": "stderr",
     "output_type": "stream",
     "text": [
      "100%|██████████| 948/948 [00:14<00:00, 64.10it/s]\n",
      " 32%|███▏      | 307/948 [00:04<00:09, 64.87it/s]"
     ]
    },
    {
     "name": "stdout",
     "output_type": "stream",
     "text": [
      "---Performing simulation---\n"
     ]
    },
    {
     "name": "stderr",
     "output_type": "stream",
     "text": [
      "100%|██████████| 948/948 [00:15<00:00, 60.34it/s]\n",
      "  7%|▋         | 70/948 [00:01<00:13, 63.68it/s]]"
     ]
    },
    {
     "name": "stdout",
     "output_type": "stream",
     "text": [
      "---Performing simulation---\n"
     ]
    },
    {
     "name": "stderr",
     "output_type": "stream",
     "text": [
      "100%|██████████| 948/948 [00:15<00:00, 61.84it/s]\n",
      " 53%|█████▎    | 504/948 [00:07<00:06, 64.62it/s]"
     ]
    },
    {
     "name": "stdout",
     "output_type": "stream",
     "text": [
      "---Performing simulation---\n"
     ]
    },
    {
     "name": "stderr",
     "output_type": "stream",
     "text": [
      "100%|██████████| 948/948 [00:15<00:00, 60.29it/s]\n",
      " 69%|██████▊   | 650/948 [00:10<00:04, 64.30it/s]"
     ]
    },
    {
     "name": "stdout",
     "output_type": "stream",
     "text": [
      "---Performing simulation---\n"
     ]
    },
    {
     "name": "stderr",
     "output_type": "stream",
     "text": [
      "100%|██████████| 948/948 [00:14<00:00, 64.86it/s]\n",
      "100%|██████████| 948/948 [00:16<00:00, 59.07it/s]\n",
      " 87%|████████▋ | 826/948 [00:12<00:01, 63.84it/s]"
     ]
    },
    {
     "name": "stdout",
     "output_type": "stream",
     "text": [
      "---Performing simulation---\n",
      "---Performing simulation---\n"
     ]
    },
    {
     "name": "stderr",
     "output_type": "stream",
     "text": [
      "100%|██████████| 948/948 [00:15<00:00, 61.92it/s]\n",
      " 11%|█         | 102/948 [00:01<00:14, 58.67it/s]"
     ]
    },
    {
     "name": "stdout",
     "output_type": "stream",
     "text": [
      "---Performing simulation---\n"
     ]
    },
    {
     "name": "stderr",
     "output_type": "stream",
     "text": [
      "100%|██████████| 948/948 [00:14<00:00, 64.56it/s]\n",
      "100%|██████████| 948/948 [00:14<00:00, 64.25it/s]\n",
      " 67%|██████▋   | 637/948 [00:10<00:04, 63.83it/s]"
     ]
    },
    {
     "name": "stdout",
     "output_type": "stream",
     "text": [
      "---Performing simulation---\n",
      "---Performing simulation---\n"
     ]
    },
    {
     "name": "stderr",
     "output_type": "stream",
     "text": [
      "100%|██████████| 948/948 [00:14<00:00, 64.15it/s]\n",
      "100%|██████████| 948/948 [00:15<00:00, 61.51it/s]\n",
      " 83%|████████▎ | 789/948 [00:12<00:02, 61.80it/s]"
     ]
    },
    {
     "name": "stdout",
     "output_type": "stream",
     "text": [
      "---Performing simulation---\n",
      "---Performing simulation---\n"
     ]
    },
    {
     "name": "stderr",
     "output_type": "stream",
     "text": [
      "100%|██████████| 948/948 [00:14<00:00, 63.87it/s]\n",
      " 24%|██▍       | 230/948 [00:03<00:11, 61.80it/s]"
     ]
    },
    {
     "name": "stdout",
     "output_type": "stream",
     "text": [
      "---Performing simulation---\n"
     ]
    },
    {
     "name": "stderr",
     "output_type": "stream",
     "text": [
      "100%|██████████| 948/948 [00:14<00:00, 63.83it/s]\n",
      " 97%|█████████▋| 916/948 [00:14<00:00, 64.46it/s]"
     ]
    },
    {
     "name": "stdout",
     "output_type": "stream",
     "text": [
      "---Performing simulation---\n"
     ]
    },
    {
     "name": "stderr",
     "output_type": "stream",
     "text": [
      "100%|██████████| 948/948 [00:14<00:00, 64.39it/s]\n",
      "100%|██████████| 948/948 [00:14<00:00, 64.38it/s]\n",
      "100%|██████████| 948/948 [00:14<00:00, 64.45it/s]\n",
      "100%|██████████| 948/948 [00:15<00:00, 62.36it/s]\n",
      " 32%|███▏      | 300/948 [00:04<00:10, 63.51it/s]"
     ]
    },
    {
     "name": "stdout",
     "output_type": "stream",
     "text": [
      "---Performing simulation---\n",
      "---Performing simulation---\n",
      "---Performing simulation---\n",
      "---Performing simulation---\n"
     ]
    },
    {
     "name": "stderr",
     "output_type": "stream",
     "text": [
      "100%|██████████| 948/948 [00:14<00:00, 64.03it/s]\n",
      "100%|██████████| 948/948 [00:14<00:00, 64.62it/s]\n",
      " 33%|███▎      | 314/948 [00:04<00:09, 63.40it/s]"
     ]
    },
    {
     "name": "stdout",
     "output_type": "stream",
     "text": [
      "---Performing simulation---\n",
      "---Performing simulation---\n"
     ]
    },
    {
     "name": "stderr",
     "output_type": "stream",
     "text": [
      "100%|██████████| 948/948 [00:14<00:00, 64.39it/s]\n",
      " 29%|██▉       | 273/948 [00:04<00:10, 65.66it/s]"
     ]
    },
    {
     "name": "stdout",
     "output_type": "stream",
     "text": [
      "---Performing simulation---\n"
     ]
    },
    {
     "name": "stderr",
     "output_type": "stream",
     "text": [
      "100%|██████████| 948/948 [00:14<00:00, 64.18it/s]\n",
      "100%|██████████| 948/948 [00:14<00:00, 64.07it/s]\n",
      " 17%|█▋        | 161/948 [00:02<00:12, 62.49it/s]"
     ]
    },
    {
     "name": "stdout",
     "output_type": "stream",
     "text": [
      "---Performing simulation---\n",
      "---Performing simulation---\n"
     ]
    },
    {
     "name": "stderr",
     "output_type": "stream",
     "text": [
      "100%|██████████| 948/948 [00:15<00:00, 61.17it/s]\n",
      "100%|██████████| 948/948 [00:15<00:00, 60.62it/s]\n",
      " 87%|████████▋ | 826/948 [00:12<00:01, 61.72it/s]"
     ]
    },
    {
     "name": "stdout",
     "output_type": "stream",
     "text": [
      "---Performing simulation---\n",
      "---Performing simulation---\n"
     ]
    },
    {
     "name": "stderr",
     "output_type": "stream",
     "text": [
      "100%|██████████| 948/948 [00:14<00:00, 63.98it/s]\n",
      "100%|██████████| 948/948 [00:14<00:00, 63.49it/s]\n",
      "100%|██████████| 948/948 [00:15<00:00, 60.60it/s]\n",
      " 27%|██▋       | 258/948 [00:04<00:11, 59.99it/s]"
     ]
    },
    {
     "name": "stdout",
     "output_type": "stream",
     "text": [
      "---Performing simulation---\n",
      "---Performing simulation---\n",
      "---Performing simulation---\n"
     ]
    },
    {
     "name": "stderr",
     "output_type": "stream",
     "text": [
      "100%|██████████| 948/948 [00:14<00:00, 63.28it/s]\n",
      "100%|██████████| 948/948 [00:14<00:00, 63.85it/s]\n",
      " 92%|█████████▏| 868/948 [00:13<00:01, 64.53it/s]"
     ]
    },
    {
     "name": "stdout",
     "output_type": "stream",
     "text": [
      "---Performing simulation---\n",
      "---Performing simulation---\n"
     ]
    },
    {
     "name": "stderr",
     "output_type": "stream",
     "text": [
      "100%|██████████| 948/948 [00:14<00:00, 63.78it/s]\n",
      " 22%|██▏       | 210/948 [00:03<00:11, 64.99it/s]"
     ]
    },
    {
     "name": "stdout",
     "output_type": "stream",
     "text": [
      "---Performing simulation---\n"
     ]
    },
    {
     "name": "stderr",
     "output_type": "stream",
     "text": [
      "100%|██████████| 948/948 [00:15<00:00, 62.73it/s]\n",
      "  2%|▏         | 21/948 [00:00<00:14, 64.09it/s]]"
     ]
    },
    {
     "name": "stdout",
     "output_type": "stream",
     "text": [
      "---Performing simulation---\n"
     ]
    },
    {
     "name": "stderr",
     "output_type": "stream",
     "text": [
      "100%|██████████| 948/948 [00:14<00:00, 64.26it/s]\n",
      "100%|██████████| 948/948 [00:16<00:00, 56.41it/s]\n",
      " 24%|██▍       | 231/948 [00:03<00:11, 62.17it/s]"
     ]
    },
    {
     "name": "stdout",
     "output_type": "stream",
     "text": [
      "---Performing simulation---\n",
      "---Performing simulation---\n"
     ]
    },
    {
     "name": "stderr",
     "output_type": "stream",
     "text": [
      "100%|██████████| 948/948 [00:15<00:00, 60.20it/s]\n",
      " 30%|██▉       | 280/948 [00:04<00:10, 61.18it/s]"
     ]
    },
    {
     "name": "stdout",
     "output_type": "stream",
     "text": [
      "---Performing simulation---\n"
     ]
    },
    {
     "name": "stderr",
     "output_type": "stream",
     "text": [
      "100%|██████████| 948/948 [00:15<00:00, 61.64it/s]\n",
      " 61%|██████▏   | 581/948 [00:09<00:05, 64.60it/s]"
     ]
    },
    {
     "name": "stdout",
     "output_type": "stream",
     "text": [
      "---Performing simulation---\n"
     ]
    },
    {
     "name": "stderr",
     "output_type": "stream",
     "text": [
      "100%|██████████| 948/948 [00:15<00:00, 62.90it/s]\n",
      "  0%|          | 0/948 [00:00<?, ?it/s]64.13it/s]"
     ]
    },
    {
     "name": "stdout",
     "output_type": "stream",
     "text": [
      "---Performing simulation---\n"
     ]
    },
    {
     "name": "stderr",
     "output_type": "stream",
     "text": [
      "100%|██████████| 948/948 [00:14<00:00, 65.39it/s]\n",
      " 86%|████████▌ | 812/948 [00:12<00:02, 64.24it/s]"
     ]
    },
    {
     "name": "stdout",
     "output_type": "stream",
     "text": [
      "---Performing simulation---\n"
     ]
    },
    {
     "name": "stderr",
     "output_type": "stream",
     "text": [
      "100%|██████████| 948/948 [00:16<00:00, 58.92it/s]\n",
      " 86%|████████▌ | 812/948 [00:12<00:02, 64.41it/s]"
     ]
    },
    {
     "name": "stdout",
     "output_type": "stream",
     "text": [
      "---Performing simulation---\n"
     ]
    },
    {
     "name": "stderr",
     "output_type": "stream",
     "text": [
      "100%|██████████| 948/948 [00:14<00:00, 64.52it/s]\n",
      " 89%|████████▊ | 840/948 [00:13<00:01, 64.38it/s]"
     ]
    },
    {
     "name": "stdout",
     "output_type": "stream",
     "text": [
      "---Performing simulation---\n",
      "---Performing simulation---\n"
     ]
    },
    {
     "name": "stderr",
     "output_type": "stream",
     "text": [
      "100%|██████████| 948/948 [00:14<00:00, 64.28it/s]\n",
      "100%|██████████| 948/948 [00:14<00:00, 64.32it/s]\n",
      "100%|██████████| 948/948 [00:15<00:00, 61.48it/s]\n",
      " 89%|████████▉ | 847/948 [00:13<00:01, 64.28it/s]"
     ]
    },
    {
     "name": "stdout",
     "output_type": "stream",
     "text": [
      "---Performing simulation---\n"
     ]
    },
    {
     "name": "stderr",
     "output_type": "stream",
     "text": [
      " 98%|█████████▊| 931/948 [00:15<00:00, 60.85it/s]"
     ]
    },
    {
     "name": "stdout",
     "output_type": "stream",
     "text": [
      "---Performing simulation---\n"
     ]
    },
    {
     "name": "stderr",
     "output_type": "stream",
     "text": [
      "100%|██████████| 948/948 [00:14<00:00, 64.11it/s]\n",
      " 95%|█████████▍| 896/948 [00:13<00:00, 64.06it/s]"
     ]
    },
    {
     "name": "stdout",
     "output_type": "stream",
     "text": [
      "---Performing simulation---\n"
     ]
    },
    {
     "name": "stderr",
     "output_type": "stream",
     "text": [
      "100%|██████████| 948/948 [00:15<00:00, 61.59it/s]\n",
      " 96%|█████████▌| 910/948 [00:14<00:00, 63.74it/s]"
     ]
    },
    {
     "name": "stdout",
     "output_type": "stream",
     "text": [
      "---Performing simulation---\n"
     ]
    },
    {
     "name": "stderr",
     "output_type": "stream",
     "text": [
      "100%|██████████| 948/948 [00:14<00:00, 63.73it/s]\n",
      " 95%|█████████▌| 903/948 [00:14<00:00, 64.42it/s]"
     ]
    },
    {
     "name": "stdout",
     "output_type": "stream",
     "text": [
      "---Performing simulation---\n"
     ]
    },
    {
     "name": "stderr",
     "output_type": "stream",
     "text": [
      "100%|██████████| 948/948 [00:14<00:00, 63.98it/s]\n",
      "100%|██████████| 948/948 [00:14<00:00, 64.30it/s]\n",
      "100%|██████████| 948/948 [00:14<00:00, 64.24it/s]\n",
      "  4%|▎         | 35/948 [00:00<00:14, 63.43it/s]]"
     ]
    },
    {
     "name": "stdout",
     "output_type": "stream",
     "text": [
      "---Performing simulation---\n",
      "---Performing simulation---\n",
      "---Performing simulation---\n"
     ]
    },
    {
     "name": "stderr",
     "output_type": "stream",
     "text": [
      "100%|██████████| 948/948 [00:14<00:00, 63.97it/s]\n",
      "100%|██████████| 948/948 [00:14<00:00, 63.96it/s]\n",
      " 75%|███████▌  | 714/948 [00:13<00:04, 55.38it/s]"
     ]
    },
    {
     "name": "stdout",
     "output_type": "stream",
     "text": [
      "---Performing simulation---\n",
      "---Performing simulation---\n",
      "---Performing simulation---\n"
     ]
    },
    {
     "name": "stderr",
     "output_type": "stream",
     "text": [
      "100%|██████████| 948/948 [00:14<00:00, 64.09it/s]\n",
      "100%|██████████| 948/948 [00:15<00:00, 61.75it/s]\n",
      " 78%|███████▊  | 738/948 [00:13<00:03, 55.51it/s]"
     ]
    },
    {
     "name": "stdout",
     "output_type": "stream",
     "text": [
      "---Performing simulation---\n"
     ]
    },
    {
     "name": "stderr",
     "output_type": "stream",
     "text": [
      "100%|██████████| 948/948 [00:14<00:00, 64.05it/s]\n",
      "100%|██████████| 948/948 [00:14<00:00, 63.61it/s]\n",
      "  1%|          | 7/948 [00:00<00:14, 63.48it/s]s]"
     ]
    },
    {
     "name": "stdout",
     "output_type": "stream",
     "text": [
      "---Performing simulation---\n",
      "---Performing simulation---\n"
     ]
    },
    {
     "name": "stderr",
     "output_type": "stream",
     "text": [
      "100%|██████████| 948/948 [00:15<00:00, 61.71it/s]\n",
      " 11%|█         | 105/948 [00:01<00:13, 63.20it/s]"
     ]
    },
    {
     "name": "stdout",
     "output_type": "stream",
     "text": [
      "---Performing simulation---\n"
     ]
    },
    {
     "name": "stderr",
     "output_type": "stream",
     "text": [
      "100%|██████████| 948/948 [00:15<00:00, 60.91it/s]\n",
      "100%|██████████| 948/948 [00:14<00:00, 63.71it/s]\n",
      " 85%|████████▌ | 810/948 [00:14<00:02, 55.46it/s]"
     ]
    },
    {
     "name": "stdout",
     "output_type": "stream",
     "text": [
      "---Performing simulation---\n",
      "---Performing simulation---\n"
     ]
    },
    {
     "name": "stderr",
     "output_type": "stream",
     "text": [
      "100%|██████████| 948/948 [00:15<00:00, 60.85it/s]\n",
      " 96%|█████████▌| 908/948 [00:14<00:00, 62.62it/s]"
     ]
    },
    {
     "name": "stdout",
     "output_type": "stream",
     "text": [
      "---Performing simulation---\n"
     ]
    },
    {
     "name": "stderr",
     "output_type": "stream",
     "text": [
      "100%|██████████| 948/948 [00:15<00:00, 62.70it/s]\n",
      "100%|██████████| 948/948 [00:15<00:00, 62.51it/s]\n",
      "  4%|▍         | 42/948 [00:00<00:14, 61.26it/s]]"
     ]
    },
    {
     "name": "stdout",
     "output_type": "stream",
     "text": [
      "---Performing simulation---\n",
      "---Performing simulation---\n"
     ]
    },
    {
     "name": "stderr",
     "output_type": "stream",
     "text": [
      "100%|██████████| 948/948 [00:15<00:00, 63.18it/s]\n",
      " 97%|█████████▋| 917/948 [00:14<00:00, 62.30it/s]"
     ]
    },
    {
     "name": "stdout",
     "output_type": "stream",
     "text": [
      "---Performing simulation---\n"
     ]
    },
    {
     "name": "stderr",
     "output_type": "stream",
     "text": [
      "100%|██████████| 948/948 [00:14<00:00, 63.34it/s]\n",
      "  6%|▌         | 56/948 [00:00<00:14, 62.69it/s]]"
     ]
    },
    {
     "name": "stdout",
     "output_type": "stream",
     "text": [
      "---Performing simulation---\n"
     ]
    },
    {
     "name": "stderr",
     "output_type": "stream",
     "text": [
      "100%|██████████| 948/948 [00:14<00:00, 64.33it/s]\n",
      "100%|██████████| 948/948 [00:17<00:00, 54.58it/s]\n",
      " 19%|█▉        | 181/948 [00:02<00:12, 61.53it/s]"
     ]
    },
    {
     "name": "stdout",
     "output_type": "stream",
     "text": [
      "---Performing simulation---\n",
      "---Performing simulation---\n",
      "---Performing simulation---\n"
     ]
    },
    {
     "name": "stderr",
     "output_type": "stream",
     "text": [
      "100%|██████████| 948/948 [00:14<00:00, 63.67it/s]\n",
      "100%|██████████| 948/948 [00:15<00:00, 59.80it/s]]\n",
      " 31%|███       | 293/948 [00:04<00:10, 61.10it/s]"
     ]
    },
    {
     "name": "stdout",
     "output_type": "stream",
     "text": [
      "---Performing simulation---\n",
      "---Performing simulation---\n"
     ]
    },
    {
     "name": "stderr",
     "output_type": "stream",
     "text": [
      "100%|██████████| 948/948 [00:15<00:00, 61.63it/s]\n",
      "100%|██████████| 948/948 [00:14<00:00, 65.02it/s]\n",
      "100%|██████████| 948/948 [00:15<00:00, 63.03it/s]\n",
      " 44%|████▍     | 418/948 [00:06<00:08, 64.42it/s]"
     ]
    },
    {
     "name": "stdout",
     "output_type": "stream",
     "text": [
      "---Performing simulation---\n",
      "---Performing simulation---\n"
     ]
    },
    {
     "name": "stderr",
     "output_type": "stream",
     "text": [
      "100%|██████████| 948/948 [00:14<00:00, 64.62it/s]\n",
      " 64%|██████▍   | 605/948 [00:09<00:05, 60.38it/s]"
     ]
    },
    {
     "name": "stdout",
     "output_type": "stream",
     "text": [
      "---Performing simulation---\n"
     ]
    },
    {
     "name": "stderr",
     "output_type": "stream",
     "text": [
      "100%|██████████| 948/948 [00:14<00:00, 63.93it/s]\n",
      "100%|██████████| 948/948 [00:14<00:00, 63.96it/s]\n",
      "  1%|▏         | 14/948 [00:00<00:14, 64.41it/s]]"
     ]
    },
    {
     "name": "stdout",
     "output_type": "stream",
     "text": [
      "---Performing simulation---\n",
      "---Performing simulation---\n"
     ]
    },
    {
     "name": "stderr",
     "output_type": "stream",
     "text": [
      "100%|██████████| 948/948 [00:14<00:00, 63.90it/s]\n",
      "100%|██████████| 948/948 [00:16<00:00, 58.96it/s]\n",
      "100%|█████████▉| 944/948 [00:15<00:00, 62.87it/s]"
     ]
    },
    {
     "name": "stdout",
     "output_type": "stream",
     "text": [
      "---Performing simulation---\n",
      "---Performing simulation---\n"
     ]
    },
    {
     "name": "stderr",
     "output_type": "stream",
     "text": [
      "100%|██████████| 948/948 [00:15<00:00, 61.79it/s]\n",
      " 93%|█████████▎| 882/948 [00:13<00:01, 64.15it/s]"
     ]
    },
    {
     "name": "stdout",
     "output_type": "stream",
     "text": [
      "---Performing simulation---\n"
     ]
    },
    {
     "name": "stderr",
     "output_type": "stream",
     "text": [
      "100%|██████████| 948/948 [00:14<00:00, 63.85it/s]\n",
      " 66%|██████▌   | 623/948 [00:09<00:05, 64.08it/s]"
     ]
    },
    {
     "name": "stdout",
     "output_type": "stream",
     "text": [
      "---Performing simulation---\n"
     ]
    },
    {
     "name": "stderr",
     "output_type": "stream",
     "text": [
      "100%|██████████| 948/948 [00:15<00:00, 61.63it/s]\n",
      " 97%|█████████▋| 917/948 [00:14<00:00, 64.51it/s]"
     ]
    },
    {
     "name": "stdout",
     "output_type": "stream",
     "text": [
      "---Performing simulation---\n",
      "---Performing simulation---\n",
      "---Performing simulation---\n",
      "---Performing simulation---\n"
     ]
    },
    {
     "name": "stderr",
     "output_type": "stream",
     "text": [
      "100%|██████████| 948/948 [00:14<00:00, 64.53it/s]\n",
      "100%|██████████| 948/948 [00:14<00:00, 64.58it/s]\n",
      "100%|██████████| 948/948 [00:14<00:00, 64.11it/s]\n",
      "100%|██████████| 948/948 [00:14<00:00, 64.41it/s]\n",
      "100%|██████████| 948/948 [00:14<00:00, 64.86it/s]\n",
      "100%|██████████| 948/948 [00:14<00:00, 63.70it/s]\n",
      " 14%|█▍        | 133/948 [00:02<00:12, 64.56it/s]"
     ]
    },
    {
     "name": "stdout",
     "output_type": "stream",
     "text": [
      "---Performing simulation---\n",
      "---Performing simulation---\n",
      "---Performing simulation---\n"
     ]
    },
    {
     "name": "stderr",
     "output_type": "stream",
     "text": [
      "100%|██████████| 948/948 [00:14<00:00, 64.42it/s]\n",
      "100%|██████████| 948/948 [00:14<00:00, 64.63it/s]\n",
      "  4%|▎         | 35/948 [00:00<00:14, 64.57it/s]]"
     ]
    },
    {
     "name": "stdout",
     "output_type": "stream",
     "text": [
      "---Performing simulation---\n",
      "---Performing simulation---\n"
     ]
    },
    {
     "name": "stderr",
     "output_type": "stream",
     "text": [
      "100%|██████████| 948/948 [00:15<00:00, 62.01it/s]\n",
      " 10%|▉         | 91/948 [00:01<00:13, 64.78it/s]]"
     ]
    },
    {
     "name": "stdout",
     "output_type": "stream",
     "text": [
      "---Performing simulation---\n"
     ]
    },
    {
     "name": "stderr",
     "output_type": "stream",
     "text": [
      "100%|██████████| 948/948 [00:14<00:00, 64.00it/s]\n",
      " 91%|█████████ | 859/948 [00:13<00:01, 61.56it/s]"
     ]
    },
    {
     "name": "stdout",
     "output_type": "stream",
     "text": [
      "---Performing simulation---\n"
     ]
    },
    {
     "name": "stderr",
     "output_type": "stream",
     "text": [
      "100%|██████████| 948/948 [00:15<00:00, 61.12it/s]\n",
      " 63%|██████▎   | 594/948 [00:09<00:05, 60.20it/s]"
     ]
    },
    {
     "name": "stdout",
     "output_type": "stream",
     "text": [
      "---Performing simulation---\n"
     ]
    },
    {
     "name": "stderr",
     "output_type": "stream",
     "text": [
      "100%|██████████| 948/948 [00:15<00:00, 61.48it/s]\n",
      " 49%|████▊     | 462/948 [00:07<00:07, 64.40it/s]"
     ]
    },
    {
     "name": "stdout",
     "output_type": "stream",
     "text": [
      "---Performing simulation---\n"
     ]
    },
    {
     "name": "stderr",
     "output_type": "stream",
     "text": [
      "100%|██████████| 948/948 [00:14<00:00, 63.39it/s]\n",
      "100%|██████████| 948/948 [00:15<00:00, 60.64it/s]\n",
      "100%|██████████| 948/948 [00:14<00:00, 63.47it/s]\n",
      " 18%|█▊        | 175/948 [00:02<00:12, 62.04it/s]"
     ]
    },
    {
     "name": "stdout",
     "output_type": "stream",
     "text": [
      "---Performing simulation---\n",
      "---Performing simulation---\n",
      "---Performing simulation---\n"
     ]
    },
    {
     "name": "stderr",
     "output_type": "stream",
     "text": [
      "100%|██████████| 948/948 [00:14<00:00, 63.36it/s]\n",
      " 24%|██▍       | 231/948 [00:03<00:11, 63.98it/s]"
     ]
    },
    {
     "name": "stdout",
     "output_type": "stream",
     "text": [
      "---Performing simulation---\n"
     ]
    },
    {
     "name": "stderr",
     "output_type": "stream",
     "text": [
      " 34%|███▍      | 327/948 [00:05<00:10, 57.88it/s]"
     ]
    },
    {
     "name": "stdout",
     "output_type": "stream",
     "text": [
      "---Performing simulation---\n",
      "---Performing simulation---\n"
     ]
    },
    {
     "name": "stderr",
     "output_type": "stream",
     "text": [
      "100%|██████████| 948/948 [00:15<00:00, 63.15it/s]\n",
      "100%|██████████| 948/948 [00:14<00:00, 64.15it/s]\n",
      "100%|██████████| 948/948 [00:14<00:00, 63.60it/s]s]\n",
      " 46%|████▌     | 434/948 [00:06<00:07, 64.35it/s]"
     ]
    },
    {
     "name": "stdout",
     "output_type": "stream",
     "text": [
      "---Performing simulation---\n"
     ]
    },
    {
     "name": "stderr",
     "output_type": "stream",
     "text": [
      "100%|██████████| 948/948 [00:16<00:00, 57.53it/s]\n",
      " 43%|████▎     | 405/948 [00:06<00:08, 60.83it/s]"
     ]
    },
    {
     "name": "stdout",
     "output_type": "stream",
     "text": [
      "---Performing simulation---\n"
     ]
    },
    {
     "name": "stderr",
     "output_type": "stream",
     "text": [
      "100%|██████████| 948/948 [00:15<00:00, 61.75it/s]\n",
      " 37%|███▋      | 355/948 [00:05<00:09, 61.19it/s]"
     ]
    },
    {
     "name": "stdout",
     "output_type": "stream",
     "text": [
      "---Performing simulation---\n"
     ]
    },
    {
     "name": "stderr",
     "output_type": "stream",
     "text": [
      "100%|██████████| 948/948 [00:15<00:00, 59.66it/s]\n",
      " 65%|██████▍   | 616/948 [00:09<00:05, 64.56it/s]"
     ]
    },
    {
     "name": "stdout",
     "output_type": "stream",
     "text": [
      "---Performing simulation---\n"
     ]
    },
    {
     "name": "stderr",
     "output_type": "stream",
     "text": [
      "100%|██████████| 948/948 [00:14<00:00, 65.10it/s]\n",
      " 62%|██████▏   | 588/948 [00:09<00:05, 62.67it/s]"
     ]
    },
    {
     "name": "stdout",
     "output_type": "stream",
     "text": [
      "---Performing simulation---\n"
     ]
    },
    {
     "name": "stderr",
     "output_type": "stream",
     "text": [
      "100%|██████████| 948/948 [00:14<00:00, 63.39it/s]\n",
      " 43%|████▎     | 406/948 [00:06<00:08, 64.45it/s]"
     ]
    },
    {
     "name": "stdout",
     "output_type": "stream",
     "text": [
      "---Performing simulation---\n"
     ]
    },
    {
     "name": "stderr",
     "output_type": "stream",
     "text": [
      "100%|██████████| 948/948 [00:14<00:00, 64.41it/s]\n",
      " 98%|█████████▊| 931/948 [00:14<00:00, 62.92it/s]"
     ]
    },
    {
     "name": "stdout",
     "output_type": "stream",
     "text": [
      "---Performing simulation---\n"
     ]
    },
    {
     "name": "stderr",
     "output_type": "stream",
     "text": [
      "100%|██████████| 948/948 [00:14<00:00, 63.88it/s]\n",
      " 86%|████████▋ | 819/948 [00:12<00:01, 64.51it/s]"
     ]
    },
    {
     "name": "stdout",
     "output_type": "stream",
     "text": [
      "---Performing simulation---\n",
      "---Performing simulation---\n"
     ]
    },
    {
     "name": "stderr",
     "output_type": "stream",
     "text": [
      "100%|██████████| 948/948 [00:14<00:00, 63.99it/s]\n",
      "100%|██████████| 948/948 [00:14<00:00, 63.78it/s]\n",
      " 95%|█████████▌| 903/948 [00:14<00:00, 61.92it/s]"
     ]
    },
    {
     "name": "stdout",
     "output_type": "stream",
     "text": [
      "---Performing simulation---\n"
     ]
    },
    {
     "name": "stderr",
     "output_type": "stream",
     "text": [
      "100%|██████████| 948/948 [00:14<00:00, 63.96it/s]\n",
      " 63%|██████▎   | 595/948 [00:09<00:05, 63.98it/s]"
     ]
    },
    {
     "name": "stdout",
     "output_type": "stream",
     "text": [
      "---Performing simulation---\n"
     ]
    },
    {
     "name": "stderr",
     "output_type": "stream",
     "text": [
      "100%|██████████| 948/948 [00:15<00:00, 61.41it/s]\n",
      "100%|██████████| 948/948 [00:14<00:00, 63.95it/s]\n",
      "100%|██████████| 948/948 [00:14<00:00, 63.99it/s]\n",
      "  6%|▌         | 56/948 [00:00<00:14, 63.64it/s]]"
     ]
    },
    {
     "name": "stdout",
     "output_type": "stream",
     "text": [
      "---Performing simulation---\n",
      "---Performing simulation---\n",
      "---Performing simulation---\n"
     ]
    },
    {
     "name": "stderr",
     "output_type": "stream",
     "text": [
      "100%|██████████| 948/948 [00:14<00:00, 64.00it/s]\n",
      "100%|██████████| 948/948 [00:14<00:00, 63.99it/s]\n",
      "100%|██████████| 948/948 [00:16<00:00, 58.60it/s]\n",
      " 90%|█████████ | 857/948 [00:15<00:01, 55.54it/s]"
     ]
    },
    {
     "name": "stdout",
     "output_type": "stream",
     "text": [
      "---Performing simulation---\n",
      "---Performing simulation---\n",
      "---Performing simulation---\n",
      "---Performing simulation---\n",
      "---Performing simulation---\n"
     ]
    },
    {
     "name": "stderr",
     "output_type": "stream",
     "text": [
      "100%|██████████| 948/948 [00:15<00:00, 61.03it/s]\n",
      "100%|██████████| 948/948 [00:14<00:00, 63.49it/s]\n",
      "100%|██████████| 948/948 [00:14<00:00, 63.62it/s]\n",
      "100%|██████████| 948/948 [00:14<00:00, 63.54it/s]\n",
      "  0%|          | 0/948 [00:00<?, ?it/s]62.98it/s]"
     ]
    },
    {
     "name": "stdout",
     "output_type": "stream",
     "text": [
      "---Performing simulation---\n",
      "---Performing simulation---\n"
     ]
    },
    {
     "name": "stderr",
     "output_type": "stream",
     "text": [
      "100%|██████████| 948/948 [00:15<00:00, 62.16it/s]\n",
      " 96%|█████████▌| 910/948 [00:14<00:00, 64.32it/s]"
     ]
    },
    {
     "name": "stdout",
     "output_type": "stream",
     "text": [
      "---Performing simulation---\n"
     ]
    },
    {
     "name": "stderr",
     "output_type": "stream",
     "text": [
      "100%|██████████| 948/948 [00:16<00:00, 55.84it/s]\n",
      "100%|██████████| 948/948 [00:14<00:00, 63.78it/s]\n",
      " 83%|████████▎ | 791/948 [00:12<00:02, 62.64it/s]"
     ]
    },
    {
     "name": "stdout",
     "output_type": "stream",
     "text": [
      "---Performing simulation---\n",
      "---Performing simulation---\n"
     ]
    },
    {
     "name": "stderr",
     "output_type": "stream",
     "text": [
      "100%|██████████| 948/948 [00:15<00:00, 61.20it/s]\n",
      " 23%|██▎       | 217/948 [00:03<00:11, 64.73it/s]"
     ]
    },
    {
     "name": "stdout",
     "output_type": "stream",
     "text": [
      "---Performing simulation---\n"
     ]
    },
    {
     "name": "stderr",
     "output_type": "stream",
     "text": [
      "100%|██████████| 948/948 [00:15<00:00, 60.94it/s]\n",
      "  3%|▎         | 28/948 [00:00<00:14, 62.06it/s]]"
     ]
    },
    {
     "name": "stdout",
     "output_type": "stream",
     "text": [
      "---Performing simulation---\n"
     ]
    },
    {
     "name": "stderr",
     "output_type": "stream",
     "text": [
      "100%|██████████| 948/948 [00:14<00:00, 63.36it/s]\n",
      "100%|██████████| 948/948 [00:14<00:00, 63.48it/s]\n",
      " 54%|█████▍    | 511/948 [00:08<00:06, 62.43it/s]"
     ]
    },
    {
     "name": "stdout",
     "output_type": "stream",
     "text": [
      "---Performing simulation---\n",
      "---Performing simulation---\n"
     ]
    },
    {
     "name": "stderr",
     "output_type": "stream",
     "text": [
      "100%|██████████| 948/948 [00:15<00:00, 62.97it/s]\n",
      "100%|██████████| 948/948 [00:15<00:00, 60.47it/s]\n",
      "100%|██████████| 948/948 [00:14<00:00, 63.96it/s]\n",
      "  1%|          | 7/948 [00:00<00:14, 63.67it/s]]]"
     ]
    },
    {
     "name": "stdout",
     "output_type": "stream",
     "text": [
      "---Performing simulation---\n",
      "---Performing simulation---\n",
      "---Performing simulation---\n",
      "---Performing simulation---\n"
     ]
    },
    {
     "name": "stderr",
     "output_type": "stream",
     "text": [
      "100%|██████████| 948/948 [00:14<00:00, 63.32it/s]\n",
      "100%|██████████| 948/948 [00:14<00:00, 63.61it/s]\n",
      " 36%|███▌      | 343/948 [00:05<00:09, 64.61it/s]"
     ]
    },
    {
     "name": "stdout",
     "output_type": "stream",
     "text": [
      "---Performing simulation---\n"
     ]
    },
    {
     "name": "stderr",
     "output_type": "stream",
     "text": [
      "100%|██████████| 948/948 [00:14<00:00, 63.90it/s]\n",
      " 39%|███▉      | 371/948 [00:05<00:09, 61.56it/s]"
     ]
    },
    {
     "name": "stdout",
     "output_type": "stream",
     "text": [
      "---Performing simulation---\n"
     ]
    },
    {
     "name": "stderr",
     "output_type": "stream",
     "text": [
      "100%|██████████| 948/948 [00:15<00:00, 62.19it/s]s]\n",
      " 61%|██████▏   | 581/948 [00:09<00:05, 63.72it/s]"
     ]
    },
    {
     "name": "stdout",
     "output_type": "stream",
     "text": [
      "---Performing simulation---\n"
     ]
    },
    {
     "name": "stderr",
     "output_type": "stream",
     "text": [
      "100%|██████████| 948/948 [00:15<00:00, 60.26it/s]s]\n",
      " 97%|█████████▋| 924/948 [00:14<00:00, 63.52it/s]"
     ]
    },
    {
     "name": "stdout",
     "output_type": "stream",
     "text": [
      "---Performing simulation---\n"
     ]
    },
    {
     "name": "stderr",
     "output_type": "stream",
     "text": [
      "100%|██████████| 948/948 [00:14<00:00, 65.14it/s]\n",
      " 43%|████▎     | 410/948 [00:06<00:08, 59.93it/s]"
     ]
    },
    {
     "name": "stdout",
     "output_type": "stream",
     "text": [
      "---Performing simulation---\n"
     ]
    },
    {
     "name": "stderr",
     "output_type": "stream",
     "text": [
      "100%|██████████| 948/948 [00:14<00:00, 63.29it/s]\n",
      " 41%|████      | 387/948 [00:06<00:09, 60.87it/s]"
     ]
    },
    {
     "name": "stdout",
     "output_type": "stream",
     "text": [
      "---Performing simulation---\n"
     ]
    },
    {
     "name": "stderr",
     "output_type": "stream",
     "text": [
      "100%|██████████| 948/948 [00:14<00:00, 64.42it/s]\n",
      " 59%|█████▉    | 560/948 [00:08<00:06, 64.07it/s]"
     ]
    },
    {
     "name": "stdout",
     "output_type": "stream",
     "text": [
      "---Performing simulation---\n"
     ]
    },
    {
     "name": "stderr",
     "output_type": "stream",
     "text": [
      "100%|██████████| 948/948 [00:14<00:00, 63.90it/s]\n",
      "100%|██████████| 948/948 [00:14<00:00, 63.99it/s]\n",
      " 92%|█████████▏| 875/948 [00:13<00:01, 64.85it/s]"
     ]
    },
    {
     "name": "stdout",
     "output_type": "stream",
     "text": [
      "---Performing simulation---\n",
      "---Performing simulation---\n"
     ]
    },
    {
     "name": "stderr",
     "output_type": "stream",
     "text": [
      "100%|██████████| 948/948 [00:14<00:00, 63.78it/s]\n",
      " 34%|███▍      | 322/948 [00:05<00:10, 61.61it/s]"
     ]
    },
    {
     "name": "stdout",
     "output_type": "stream",
     "text": [
      "---Performing simulation---\n"
     ]
    },
    {
     "name": "stderr",
     "output_type": "stream",
     "text": [
      "100%|██████████| 948/948 [00:14<00:00, 63.80it/s]\n",
      " 96%|█████████▌| 910/948 [00:14<00:00, 62.08it/s]"
     ]
    },
    {
     "name": "stdout",
     "output_type": "stream",
     "text": [
      "---Performing simulation---\n"
     ]
    },
    {
     "name": "stderr",
     "output_type": "stream",
     "text": [
      "100%|██████████| 948/948 [00:14<00:00, 64.51it/s]\n",
      "100%|██████████| 948/948 [00:14<00:00, 64.16it/s]\n",
      " 32%|███▏      | 300/948 [00:04<00:10, 60.39it/s]"
     ]
    },
    {
     "name": "stdout",
     "output_type": "stream",
     "text": [
      "---Performing simulation---\n",
      "---Performing simulation---\n"
     ]
    },
    {
     "name": "stderr",
     "output_type": "stream",
     "text": [
      "100%|██████████| 948/948 [00:14<00:00, 64.33it/s]\n",
      "100%|██████████| 948/948 [00:14<00:00, 64.07it/s]\n",
      "100%|██████████| 948/948 [00:15<00:00, 61.89it/s]\n",
      "  1%|          | 7/948 [00:00<00:14, 64.86it/s]s]"
     ]
    },
    {
     "name": "stdout",
     "output_type": "stream",
     "text": [
      "---Performing simulation---\n",
      "---Performing simulation---\n",
      "---Performing simulation---\n"
     ]
    },
    {
     "name": "stderr",
     "output_type": "stream",
     "text": [
      "100%|██████████| 948/948 [00:14<00:00, 64.13it/s]\n",
      " 94%|█████████▎| 888/948 [00:15<00:01, 59.43it/s]"
     ]
    },
    {
     "name": "stdout",
     "output_type": "stream",
     "text": [
      "---Performing simulation---\n"
     ]
    },
    {
     "name": "stderr",
     "output_type": "stream",
     "text": [
      "100%|██████████| 948/948 [00:14<00:00, 63.99it/s]\n",
      "100%|██████████| 948/948 [00:14<00:00, 64.01it/s]\n",
      "  4%|▎         | 35/948 [00:00<00:14, 64.71it/s]]"
     ]
    },
    {
     "name": "stdout",
     "output_type": "stream",
     "text": [
      "---Performing simulation---\n",
      "---Performing simulation---\n",
      "---Performing simulation---\n"
     ]
    },
    {
     "name": "stderr",
     "output_type": "stream",
     "text": [
      "100%|██████████| 948/948 [00:15<00:00, 61.47it/s]\n",
      "100%|██████████| 948/948 [00:16<00:00, 59.08it/s]\n",
      " 43%|████▎     | 405/948 [00:06<00:08, 60.57it/s]"
     ]
    },
    {
     "name": "stdout",
     "output_type": "stream",
     "text": [
      "---Performing simulation---\n"
     ]
    },
    {
     "name": "stderr",
     "output_type": "stream",
     "text": [
      "100%|██████████| 948/948 [00:15<00:00, 62.58it/s]\n",
      " 11%|█         | 105/948 [00:01<00:13, 64.20it/s]"
     ]
    },
    {
     "name": "stdout",
     "output_type": "stream",
     "text": [
      "---Performing simulation---\n"
     ]
    },
    {
     "name": "stderr",
     "output_type": "stream",
     "text": [
      "100%|██████████| 948/948 [00:14<00:00, 64.12it/s]\n",
      " 13%|█▎        | 119/948 [00:01<00:12, 64.17it/s]"
     ]
    },
    {
     "name": "stdout",
     "output_type": "stream",
     "text": [
      "---Performing simulation---\n"
     ]
    },
    {
     "name": "stderr",
     "output_type": "stream",
     "text": [
      "100%|██████████| 948/948 [00:15<00:00, 61.28it/s]\n",
      "100%|██████████| 948/948 [00:14<00:00, 63.62it/s]\n",
      " 15%|█▌        | 144/948 [00:02<00:13, 59.42it/s]"
     ]
    },
    {
     "name": "stdout",
     "output_type": "stream",
     "text": [
      "---Performing simulation---\n"
     ]
    },
    {
     "name": "stderr",
     "output_type": "stream",
     "text": [
      "100%|██████████| 948/948 [00:14<00:00, 63.31it/s]\n",
      "100%|██████████| 948/948 [00:15<00:00, 61.00it/s]\n",
      " 21%|██        | 196/948 [00:03<00:12, 61.74it/s]"
     ]
    },
    {
     "name": "stdout",
     "output_type": "stream",
     "text": [
      "---Performing simulation---\n",
      "---Performing simulation---\n",
      "---Performing simulation---\n"
     ]
    },
    {
     "name": "stderr",
     "output_type": "stream",
     "text": [
      "100%|██████████| 948/948 [00:17<00:00, 54.81it/s]\n",
      "100%|██████████| 948/948 [00:14<00:00, 64.23it/s]\n",
      " 69%|██████▉   | 658/948 [00:10<00:04, 62.06it/s]"
     ]
    },
    {
     "name": "stdout",
     "output_type": "stream",
     "text": [
      "---Performing simulation---\n",
      "---Performing simulation---\n"
     ]
    },
    {
     "name": "stderr",
     "output_type": "stream",
     "text": [
      "100%|██████████| 948/948 [00:15<00:00, 63.18it/s]\n",
      " 35%|███▍      | 329/948 [00:05<00:09, 64.15it/s]"
     ]
    },
    {
     "name": "stdout",
     "output_type": "stream",
     "text": [
      "---Performing simulation---\n",
      "---Performing simulation---\n"
     ]
    },
    {
     "name": "stderr",
     "output_type": "stream",
     "text": [
      "100%|██████████| 948/948 [00:15<00:00, 63.19it/s]\n",
      "100%|██████████| 948/948 [00:14<00:00, 64.03it/s]\n",
      " 45%|████▌     | 427/948 [00:06<00:08, 63.91it/s]"
     ]
    },
    {
     "name": "stdout",
     "output_type": "stream",
     "text": [
      "---Performing simulation---\n"
     ]
    },
    {
     "name": "stderr",
     "output_type": "stream",
     "text": [
      "100%|██████████| 948/948 [00:15<00:00, 60.71it/s]\n",
      " 10%|█         | 98/948 [00:01<00:13, 63.52it/s]]"
     ]
    },
    {
     "name": "stdout",
     "output_type": "stream",
     "text": [
      "---Performing simulation---\n"
     ]
    },
    {
     "name": "stderr",
     "output_type": "stream",
     "text": [
      "100%|██████████| 948/948 [00:14<00:00, 63.77it/s]\n",
      " 54%|█████▍    | 511/948 [00:07<00:06, 64.68it/s]"
     ]
    },
    {
     "name": "stdout",
     "output_type": "stream",
     "text": [
      "---Performing simulation---\n"
     ]
    },
    {
     "name": "stderr",
     "output_type": "stream",
     "text": [
      "100%|██████████| 948/948 [00:15<00:00, 61.87it/s]\n",
      " 28%|██▊       | 270/948 [00:04<00:12, 55.19it/s]"
     ]
    },
    {
     "name": "stdout",
     "output_type": "stream",
     "text": [
      "---Performing simulation---\n"
     ]
    },
    {
     "name": "stderr",
     "output_type": "stream",
     "text": [
      "100%|██████████| 948/948 [00:14<00:00, 64.71it/s]\n",
      " 54%|█████▍    | 510/948 [00:08<00:06, 62.76it/s]"
     ]
    },
    {
     "name": "stdout",
     "output_type": "stream",
     "text": [
      "---Performing simulation---\n"
     ]
    },
    {
     "name": "stderr",
     "output_type": "stream",
     "text": [
      "100%|██████████| 948/948 [00:15<00:00, 59.99it/s]\n",
      " 67%|██████▋   | 637/948 [00:10<00:04, 64.01it/s]"
     ]
    },
    {
     "name": "stdout",
     "output_type": "stream",
     "text": [
      "---Performing simulation---\n"
     ]
    },
    {
     "name": "stderr",
     "output_type": "stream",
     "text": [
      "100%|██████████| 948/948 [00:14<00:00, 63.29it/s]\n",
      " 61%|██████    | 576/948 [00:09<00:06, 58.95it/s]"
     ]
    },
    {
     "name": "stdout",
     "output_type": "stream",
     "text": [
      "---Performing simulation---\n"
     ]
    },
    {
     "name": "stderr",
     "output_type": "stream",
     "text": [
      "100%|██████████| 948/948 [00:14<00:00, 63.91it/s]\n",
      " 53%|█████▎    | 504/948 [00:08<00:07, 63.27it/s]"
     ]
    },
    {
     "name": "stdout",
     "output_type": "stream",
     "text": [
      "---Performing simulation---\n"
     ]
    },
    {
     "name": "stderr",
     "output_type": "stream",
     "text": [
      "100%|██████████| 948/948 [00:14<00:00, 64.30it/s]\n",
      "  1%|          | 7/948 [00:00<00:14, 64.11it/s]s]"
     ]
    },
    {
     "name": "stdout",
     "output_type": "stream",
     "text": [
      "---Performing simulation---\n"
     ]
    },
    {
     "name": "stderr",
     "output_type": "stream",
     "text": [
      "100%|██████████| 948/948 [00:14<00:00, 63.62it/s]\n",
      " 80%|████████  | 760/948 [00:12<00:03, 60.03it/s]"
     ]
    },
    {
     "name": "stdout",
     "output_type": "stream",
     "text": [
      "---Performing simulation---\n"
     ]
    },
    {
     "name": "stderr",
     "output_type": "stream",
     "text": [
      "100%|██████████| 948/948 [00:14<00:00, 64.28it/s]\n",
      " 18%|█▊        | 175/948 [00:02<00:12, 63.99it/s]"
     ]
    },
    {
     "name": "stdout",
     "output_type": "stream",
     "text": [
      "---Performing simulation---\n"
     ]
    },
    {
     "name": "stderr",
     "output_type": "stream",
     "text": [
      "100%|██████████| 948/948 [00:14<00:00, 64.13it/s]\n",
      " 57%|█████▋    | 540/948 [00:08<00:06, 61.31it/s]"
     ]
    },
    {
     "name": "stdout",
     "output_type": "stream",
     "text": [
      "---Performing simulation---\n"
     ]
    },
    {
     "name": "stderr",
     "output_type": "stream",
     "text": [
      "100%|██████████| 948/948 [00:14<00:00, 64.00it/s]\n",
      "100%|██████████| 948/948 [00:14<00:00, 64.02it/s]\n",
      " 97%|█████████▋| 924/948 [00:14<00:00, 63.86it/s]"
     ]
    },
    {
     "name": "stdout",
     "output_type": "stream",
     "text": [
      "---Performing simulation---\n",
      "---Performing simulation---\n"
     ]
    },
    {
     "name": "stderr",
     "output_type": "stream",
     "text": [
      "100%|██████████| 948/948 [00:14<00:00, 63.99it/s]\n",
      " 72%|███████▏  | 684/948 [00:11<00:04, 60.81it/s]"
     ]
    },
    {
     "name": "stdout",
     "output_type": "stream",
     "text": [
      "---Performing simulation---\n",
      "---Performing simulation---\n"
     ]
    },
    {
     "name": "stderr",
     "output_type": "stream",
     "text": [
      "100%|██████████| 948/948 [00:14<00:00, 63.85it/s]\n",
      "100%|██████████| 948/948 [00:14<00:00, 63.83it/s]\n",
      "  2%|▏         | 21/948 [00:00<00:14, 62.41it/s]]"
     ]
    },
    {
     "name": "stdout",
     "output_type": "stream",
     "text": [
      "---Performing simulation---\n"
     ]
    },
    {
     "name": "stderr",
     "output_type": "stream",
     "text": [
      "100%|██████████| 948/948 [00:15<00:00, 61.47it/s]\n",
      "100%|██████████| 948/948 [00:14<00:00, 63.36it/s]\n",
      "100%|██████████| 948/948 [00:14<00:00, 63.56it/s]\n",
      " 67%|██████▋   | 631/948 [00:10<00:05, 60.58it/s]"
     ]
    },
    {
     "name": "stdout",
     "output_type": "stream",
     "text": [
      "---Performing simulation---\n",
      "---Performing simulation---\n",
      "---Performing simulation---\n"
     ]
    },
    {
     "name": "stderr",
     "output_type": "stream",
     "text": [
      "100%|██████████| 948/948 [00:15<00:00, 60.90it/s]]\n",
      " 27%|██▋       | 259/948 [00:04<00:10, 63.99it/s]"
     ]
    },
    {
     "name": "stdout",
     "output_type": "stream",
     "text": [
      "---Performing simulation---\n"
     ]
    },
    {
     "name": "stderr",
     "output_type": "stream",
     "text": [
      "100%|██████████| 948/948 [00:15<00:00, 62.38it/s]\n",
      "100%|██████████| 948/948 [00:14<00:00, 63.52it/s]\n",
      "  9%|▉         | 84/948 [00:01<00:13, 63.05it/s]]"
     ]
    },
    {
     "name": "stdout",
     "output_type": "stream",
     "text": [
      "---Performing simulation---\n",
      "---Performing simulation---\n"
     ]
    },
    {
     "name": "stderr",
     "output_type": "stream",
     "text": [
      "100%|██████████| 948/948 [00:16<00:00, 58.47it/s]\n",
      "  4%|▍         | 42/948 [00:00<00:14, 63.26it/s]]"
     ]
    },
    {
     "name": "stdout",
     "output_type": "stream",
     "text": [
      "---Performing simulation---\n"
     ]
    },
    {
     "name": "stderr",
     "output_type": "stream",
     "text": [
      "100%|██████████| 948/948 [00:14<00:00, 63.32it/s]\n",
      "100%|██████████| 948/948 [00:15<00:00, 62.89it/s]\n",
      " 32%|███▏      | 308/948 [00:04<00:10, 63.71it/s]"
     ]
    },
    {
     "name": "stdout",
     "output_type": "stream",
     "text": [
      "---Performing simulation---\n",
      "---Performing simulation---\n"
     ]
    },
    {
     "name": "stderr",
     "output_type": "stream",
     "text": [
      "100%|██████████| 948/948 [00:15<00:00, 60.95it/s]\n",
      "100%|██████████| 948/948 [00:14<00:00, 64.25it/s]\n",
      " 33%|███▎      | 315/948 [00:05<00:10, 62.18it/s]"
     ]
    },
    {
     "name": "stdout",
     "output_type": "stream",
     "text": [
      "---Performing simulation---\n",
      "---Performing simulation---\n"
     ]
    },
    {
     "name": "stderr",
     "output_type": "stream",
     "text": [
      "100%|██████████| 948/948 [00:15<00:00, 60.54it/s]\n",
      "100%|██████████| 948/948 [00:14<00:00, 63.69it/s]\n",
      "100%|██████████| 948/948 [00:15<00:00, 63.10it/s]\n",
      " 36%|███▌      | 343/948 [00:05<00:09, 63.94it/s]"
     ]
    },
    {
     "name": "stdout",
     "output_type": "stream",
     "text": [
      "---Performing simulation---\n",
      "---Performing simulation---\n",
      "---Performing simulation---\n"
     ]
    },
    {
     "name": "stderr",
     "output_type": "stream",
     "text": [
      "100%|██████████| 948/948 [00:15<00:00, 62.05it/s]\n",
      " 95%|█████████▍| 897/948 [00:14<00:00, 61.00it/s]"
     ]
    },
    {
     "name": "stdout",
     "output_type": "stream",
     "text": [
      "---Performing simulation---\n"
     ]
    },
    {
     "name": "stderr",
     "output_type": "stream",
     "text": [
      "100%|██████████| 948/948 [00:15<00:00, 60.69it/s]\n",
      " 41%|████      | 385/948 [00:06<00:08, 64.84it/s]"
     ]
    },
    {
     "name": "stdout",
     "output_type": "stream",
     "text": [
      "---Performing simulation---\n"
     ]
    },
    {
     "name": "stderr",
     "output_type": "stream",
     "text": [
      "100%|██████████| 948/948 [00:14<00:00, 63.59it/s]\n",
      " 38%|███▊      | 364/948 [00:05<00:09, 64.54it/s]"
     ]
    },
    {
     "name": "stdout",
     "output_type": "stream",
     "text": [
      "---Performing simulation---\n"
     ]
    },
    {
     "name": "stderr",
     "output_type": "stream",
     "text": [
      "100%|██████████| 948/948 [00:17<00:00, 54.88it/s]\n",
      " 13%|█▎        | 124/948 [00:01<00:12, 63.75it/s]"
     ]
    },
    {
     "name": "stdout",
     "output_type": "stream",
     "text": [
      "---Performing simulation---\n"
     ]
    },
    {
     "name": "stderr",
     "output_type": "stream",
     "text": [
      "100%|██████████| 948/948 [00:14<00:00, 65.00it/s]\n",
      "100%|██████████| 948/948 [00:15<00:00, 61.59it/s]\n",
      " 50%|█████     | 476/948 [00:07<00:07, 61.00it/s]"
     ]
    },
    {
     "name": "stdout",
     "output_type": "stream",
     "text": [
      "---Performing simulation---\n",
      "---Performing simulation---\n"
     ]
    },
    {
     "name": "stderr",
     "output_type": "stream",
     "text": [
      "100%|██████████| 948/948 [00:14<00:00, 63.39it/s]\n",
      " 79%|███████▉  | 749/948 [00:11<00:03, 65.16it/s]"
     ]
    },
    {
     "name": "stdout",
     "output_type": "stream",
     "text": [
      "---Performing simulation---\n"
     ]
    },
    {
     "name": "stderr",
     "output_type": "stream",
     "text": [
      "100%|██████████| 948/948 [00:15<00:00, 59.86it/s]\n",
      " 92%|█████████▏| 875/948 [00:13<00:01, 63.34it/s]"
     ]
    },
    {
     "name": "stdout",
     "output_type": "stream",
     "text": [
      "---Performing simulation---\n"
     ]
    },
    {
     "name": "stderr",
     "output_type": "stream",
     "text": [
      "100%|██████████| 948/948 [00:14<00:00, 64.57it/s]\n",
      " 79%|███████▉  | 749/948 [00:11<00:03, 65.29it/s]"
     ]
    },
    {
     "name": "stdout",
     "output_type": "stream",
     "text": [
      "---Performing simulation---\n"
     ]
    },
    {
     "name": "stderr",
     "output_type": "stream",
     "text": [
      "100%|██████████| 948/948 [00:14<00:00, 64.49it/s]\n",
      " 53%|█████▎    | 504/948 [00:07<00:06, 64.07it/s]"
     ]
    },
    {
     "name": "stdout",
     "output_type": "stream",
     "text": [
      "---Performing simulation---\n"
     ]
    },
    {
     "name": "stderr",
     "output_type": "stream",
     "text": [
      "100%|██████████| 948/948 [00:14<00:00, 64.21it/s]\n",
      " 75%|███████▌  | 714/948 [00:11<00:03, 62.11it/s]"
     ]
    },
    {
     "name": "stdout",
     "output_type": "stream",
     "text": [
      "---Performing simulation---\n"
     ]
    },
    {
     "name": "stderr",
     "output_type": "stream",
     "text": [
      "100%|██████████| 948/948 [00:14<00:00, 63.88it/s]\n",
      " 16%|█▌        | 152/948 [00:02<00:13, 59.19it/s]"
     ]
    },
    {
     "name": "stdout",
     "output_type": "stream",
     "text": [
      "---Performing simulation---\n"
     ]
    },
    {
     "name": "stderr",
     "output_type": "stream",
     "text": [
      "100%|██████████| 948/948 [00:14<00:00, 63.77it/s]\n",
      " 72%|███████▏  | 684/948 [00:11<00:04, 60.05it/s]"
     ]
    },
    {
     "name": "stdout",
     "output_type": "stream",
     "text": [
      "---Performing simulation---\n",
      "---Performing simulation---\n",
      "---Performing simulation---\n"
     ]
    },
    {
     "name": "stderr",
     "output_type": "stream",
     "text": [
      "100%|██████████| 948/948 [00:14<00:00, 64.42it/s]\n",
      "100%|██████████| 948/948 [00:14<00:00, 64.16it/s]\n",
      "100%|██████████| 948/948 [00:14<00:00, 64.31it/s]\n",
      "100%|██████████| 948/948 [00:14<00:00, 64.06it/s]\n",
      " 93%|█████████▎| 880/948 [00:14<00:01, 62.29it/s]"
     ]
    },
    {
     "name": "stdout",
     "output_type": "stream",
     "text": [
      "---Performing simulation---\n",
      "---Performing simulation---\n"
     ]
    },
    {
     "name": "stderr",
     "output_type": "stream",
     "text": [
      "100%|██████████| 948/948 [00:14<00:00, 63.66it/s]\n",
      " 24%|██▍       | 231/948 [00:03<00:11, 60.45it/s]"
     ]
    },
    {
     "name": "stdout",
     "output_type": "stream",
     "text": [
      "---Performing simulation---\n"
     ]
    },
    {
     "name": "stderr",
     "output_type": "stream",
     "text": [
      "100%|██████████| 948/948 [00:14<00:00, 64.23it/s]\n",
      "100%|██████████| 948/948 [00:14<00:00, 64.20it/s]\n",
      " 73%|███████▎  | 696/948 [00:11<00:04, 61.52it/s]"
     ]
    },
    {
     "name": "stdout",
     "output_type": "stream",
     "text": [
      "---Performing simulation---\n",
      "---Performing simulation---\n"
     ]
    },
    {
     "name": "stderr",
     "output_type": "stream",
     "text": [
      "100%|██████████| 948/948 [00:15<00:00, 62.03it/s]\n",
      " 10%|▉         | 91/948 [00:01<00:13, 64.63it/s]]"
     ]
    },
    {
     "name": "stdout",
     "output_type": "stream",
     "text": [
      "---Performing simulation---\n"
     ]
    },
    {
     "name": "stderr",
     "output_type": "stream",
     "text": [
      "100%|██████████| 948/948 [00:14<00:00, 64.51it/s]\n",
      "100%|██████████| 948/948 [00:15<00:00, 61.79it/s]\n",
      " 52%|█████▏    | 490/948 [00:07<00:07, 64.77it/s]"
     ]
    },
    {
     "name": "stdout",
     "output_type": "stream",
     "text": [
      "---Performing simulation---\n",
      "---Performing simulation---\n"
     ]
    },
    {
     "name": "stderr",
     "output_type": "stream",
     "text": [
      "100%|██████████| 948/948 [00:15<00:00, 62.24it/s]\n",
      " 89%|████████▉ | 847/948 [00:13<00:01, 63.70it/s]"
     ]
    },
    {
     "name": "stdout",
     "output_type": "stream",
     "text": [
      "---Performing simulation---\n"
     ]
    },
    {
     "name": "stderr",
     "output_type": "stream",
     "text": [
      "100%|██████████| 948/948 [00:15<00:00, 59.25it/s]\n",
      " 38%|███▊      | 364/948 [00:05<00:09, 64.47it/s]"
     ]
    },
    {
     "name": "stdout",
     "output_type": "stream",
     "text": [
      "---Performing simulation---\n",
      "---Performing simulation---\n"
     ]
    },
    {
     "name": "stderr",
     "output_type": "stream",
     "text": [
      "100%|██████████| 948/948 [00:14<00:00, 64.04it/s]\n",
      "100%|██████████| 948/948 [00:14<00:00, 63.26it/s]\n",
      "100%|██████████| 948/948 [00:14<00:00, 64.20it/s]\n",
      " 27%|██▋       | 259/948 [00:04<00:10, 64.02it/s]"
     ]
    },
    {
     "name": "stdout",
     "output_type": "stream",
     "text": [
      "---Performing simulation---\n",
      "---Performing simulation---\n"
     ]
    },
    {
     "name": "stderr",
     "output_type": "stream",
     "text": [
      "100%|██████████| 948/948 [00:14<00:00, 63.70it/s]\n",
      "100%|██████████| 948/948 [00:15<00:00, 61.07it/s]\n",
      "  5%|▌         | 49/948 [00:00<00:14, 63.59it/s]]"
     ]
    },
    {
     "name": "stdout",
     "output_type": "stream",
     "text": [
      "---Performing simulation---\n",
      "---Performing simulation---\n"
     ]
    },
    {
     "name": "stderr",
     "output_type": "stream",
     "text": [
      "100%|██████████| 948/948 [00:15<00:00, 63.06it/s]\n",
      "100%|██████████| 948/948 [00:14<00:00, 63.40it/s]\n",
      "  7%|▋         | 70/948 [00:01<00:13, 63.31it/s]]"
     ]
    },
    {
     "name": "stdout",
     "output_type": "stream",
     "text": [
      "---Performing simulation---\n",
      "---Performing simulation---\n"
     ]
    },
    {
     "name": "stderr",
     "output_type": "stream",
     "text": [
      "100%|██████████| 948/948 [00:15<00:00, 61.27it/s]\n",
      " 40%|███▉      | 378/948 [00:06<00:10, 54.61it/s]"
     ]
    },
    {
     "name": "stdout",
     "output_type": "stream",
     "text": [
      "---Performing simulation---\n"
     ]
    },
    {
     "name": "stderr",
     "output_type": "stream",
     "text": [
      "100%|██████████| 948/948 [00:14<00:00, 63.86it/s]\n",
      "  9%|▉         | 84/948 [00:01<00:14, 61.56it/s]]"
     ]
    },
    {
     "name": "stdout",
     "output_type": "stream",
     "text": [
      "---Performing simulation---\n"
     ]
    },
    {
     "name": "stderr",
     "output_type": "stream",
     "text": [
      "100%|██████████| 948/948 [00:15<00:00, 60.78it/s]\n",
      " 18%|█▊        | 168/948 [00:02<00:12, 64.30it/s]"
     ]
    },
    {
     "name": "stdout",
     "output_type": "stream",
     "text": [
      "---Performing simulation---\n"
     ]
    },
    {
     "name": "stderr",
     "output_type": "stream",
     "text": [
      "100%|██████████| 948/948 [00:15<00:00, 61.30it/s]\n",
      " 44%|████▍     | 419/948 [00:06<00:08, 63.42it/s]"
     ]
    },
    {
     "name": "stdout",
     "output_type": "stream",
     "text": [
      "---Performing simulation---\n"
     ]
    },
    {
     "name": "stderr",
     "output_type": "stream",
     "text": [
      "100%|██████████| 948/948 [00:14<00:00, 64.92it/s]\n",
      " 34%|███▎      | 318/948 [00:05<00:10, 59.14it/s]"
     ]
    },
    {
     "name": "stdout",
     "output_type": "stream",
     "text": [
      "---Performing simulation---\n"
     ]
    },
    {
     "name": "stderr",
     "output_type": "stream",
     "text": [
      "100%|██████████| 948/948 [00:15<00:00, 61.72it/s]\n",
      " 70%|███████   | 665/948 [00:10<00:04, 64.77it/s]"
     ]
    },
    {
     "name": "stdout",
     "output_type": "stream",
     "text": [
      "---Performing simulation---\n"
     ]
    },
    {
     "name": "stderr",
     "output_type": "stream",
     "text": [
      "100%|██████████| 948/948 [00:15<00:00, 61.72it/s]\n",
      " 50%|█████     | 476/948 [00:07<00:07, 64.37it/s]"
     ]
    },
    {
     "name": "stdout",
     "output_type": "stream",
     "text": [
      "---Performing simulation---\n"
     ]
    },
    {
     "name": "stderr",
     "output_type": "stream",
     "text": [
      "100%|██████████| 948/948 [00:14<00:00, 64.10it/s]\n",
      " 14%|█▍        | 133/948 [00:02<00:13, 61.93it/s]"
     ]
    },
    {
     "name": "stdout",
     "output_type": "stream",
     "text": [
      "---Performing simulation---\n",
      "---Performing simulation---\n"
     ]
    },
    {
     "name": "stderr",
     "output_type": "stream",
     "text": [
      "100%|██████████| 948/948 [00:15<00:00, 60.07it/s]\n",
      "100%|██████████| 948/948 [00:14<00:00, 63.59it/s]\n",
      "100%|██████████| 948/948 [00:14<00:00, 64.36it/s]\n",
      " 45%|████▌     | 427/948 [00:06<00:08, 62.96it/s]"
     ]
    },
    {
     "name": "stdout",
     "output_type": "stream",
     "text": [
      "---Performing simulation---\n",
      "---Performing simulation---\n"
     ]
    },
    {
     "name": "stderr",
     "output_type": "stream",
     "text": [
      "100%|██████████| 948/948 [00:14<00:00, 64.25it/s]\n",
      "  8%|▊         | 77/948 [00:01<00:13, 63.52it/s]]"
     ]
    },
    {
     "name": "stdout",
     "output_type": "stream",
     "text": [
      "---Performing simulation---\n",
      "---Performing simulation---\n"
     ]
    },
    {
     "name": "stderr",
     "output_type": "stream",
     "text": [
      "100%|██████████| 948/948 [00:14<00:00, 64.10it/s]\n",
      "100%|██████████| 948/948 [00:14<00:00, 63.98it/s]\n",
      " 92%|█████████▏| 875/948 [00:13<00:01, 64.79it/s]"
     ]
    },
    {
     "name": "stdout",
     "output_type": "stream",
     "text": [
      "---Performing simulation---\n"
     ]
    },
    {
     "name": "stderr",
     "output_type": "stream",
     "text": [
      "100%|██████████| 948/948 [00:14<00:00, 64.07it/s]\n",
      "100%|██████████| 948/948 [00:15<00:00, 59.50it/s]\n",
      " 30%|██▉       | 280/948 [00:04<00:10, 61.96it/s]"
     ]
    },
    {
     "name": "stdout",
     "output_type": "stream",
     "text": [
      "---Performing simulation---\n",
      "---Performing simulation---\n"
     ]
    },
    {
     "name": "stderr",
     "output_type": "stream",
     "text": [
      "100%|██████████| 948/948 [00:14<00:00, 63.84it/s]\n",
      " 97%|█████████▋| 917/948 [00:14<00:00, 64.26it/s]"
     ]
    },
    {
     "name": "stdout",
     "output_type": "stream",
     "text": [
      "---Performing simulation---\n"
     ]
    },
    {
     "name": "stderr",
     "output_type": "stream",
     "text": [
      "100%|██████████| 948/948 [00:14<00:00, 64.15it/s]\n",
      " 74%|███████▍  | 705/948 [00:11<00:03, 63.18it/s]"
     ]
    },
    {
     "name": "stdout",
     "output_type": "stream",
     "text": [
      "---Performing simulation---\n"
     ]
    },
    {
     "name": "stderr",
     "output_type": "stream",
     "text": [
      "100%|██████████| 948/948 [00:14<00:00, 64.14it/s]\n",
      "100%|██████████| 948/948 [00:14<00:00, 63.68it/s]\n",
      " 76%|███████▌  | 721/948 [00:11<00:03, 63.42it/s]"
     ]
    },
    {
     "name": "stdout",
     "output_type": "stream",
     "text": [
      "---Performing simulation---\n",
      "---Performing simulation---\n"
     ]
    },
    {
     "name": "stderr",
     "output_type": "stream",
     "text": [
      "100%|██████████| 948/948 [00:15<00:00, 61.23it/s]\n",
      " 26%|██▌       | 245/948 [00:03<00:10, 64.74it/s]"
     ]
    },
    {
     "name": "stdout",
     "output_type": "stream",
     "text": [
      "---Performing simulation---\n"
     ]
    },
    {
     "name": "stderr",
     "output_type": "stream",
     "text": [
      "100%|██████████| 948/948 [00:14<00:00, 63.66it/s]\n",
      " 81%|████████  | 768/948 [00:13<00:03, 59.11it/s]"
     ]
    },
    {
     "name": "stdout",
     "output_type": "stream",
     "text": [
      "---Performing simulation---\n"
     ]
    },
    {
     "name": "stderr",
     "output_type": "stream",
     "text": [
      "100%|██████████| 948/948 [00:15<00:00, 61.05it/s]\n",
      "100%|██████████| 948/948 [00:15<00:00, 62.19it/s]\n",
      " 32%|███▏      | 301/948 [00:04<00:10, 64.42it/s]"
     ]
    },
    {
     "name": "stdout",
     "output_type": "stream",
     "text": [
      "---Performing simulation---\n",
      "---Performing simulation---\n"
     ]
    },
    {
     "name": "stderr",
     "output_type": "stream",
     "text": [
      "100%|██████████| 948/948 [00:14<00:00, 63.28it/s]]\n",
      "100%|██████████| 948/948 [00:14<00:00, 63.97it/s]\n",
      " 25%|██▌       | 238/948 [00:03<00:11, 64.37it/s]"
     ]
    },
    {
     "name": "stdout",
     "output_type": "stream",
     "text": [
      "---Performing simulation---\n",
      "---Performing simulation---\n"
     ]
    },
    {
     "name": "stderr",
     "output_type": "stream",
     "text": [
      "100%|██████████| 948/948 [00:15<00:00, 62.95it/s]\n",
      " 11%|█         | 105/948 [00:01<00:13, 62.86it/s]"
     ]
    },
    {
     "name": "stdout",
     "output_type": "stream",
     "text": [
      "---Performing simulation---\n"
     ]
    },
    {
     "name": "stderr",
     "output_type": "stream",
     "text": [
      "100%|██████████| 948/948 [00:14<00:00, 63.72it/s]\n",
      "  0%|          | 0/948 [00:00<?, ?it/s]53.38it/s]"
     ]
    },
    {
     "name": "stdout",
     "output_type": "stream",
     "text": [
      "---Performing simulation---\n"
     ]
    },
    {
     "name": "stderr",
     "output_type": "stream",
     "text": [
      "100%|██████████| 948/948 [00:16<00:00, 58.88it/s]\n",
      " 31%|███       | 294/948 [00:04<00:10, 63.37it/s]"
     ]
    },
    {
     "name": "stdout",
     "output_type": "stream",
     "text": [
      "---Performing simulation---\n"
     ]
    },
    {
     "name": "stderr",
     "output_type": "stream",
     "text": [
      "100%|██████████| 948/948 [00:15<00:00, 62.80it/s]\n",
      "100%|██████████| 948/948 [00:15<00:00, 61.61it/s]\n",
      " 42%|████▏     | 399/948 [00:06<00:08, 63.93it/s]"
     ]
    },
    {
     "name": "stdout",
     "output_type": "stream",
     "text": [
      "---Performing simulation---\n",
      "---Performing simulation---\n"
     ]
    },
    {
     "name": "stderr",
     "output_type": "stream",
     "text": [
      "100%|██████████| 948/948 [00:15<00:00, 61.13it/s]\n",
      " 42%|████▏     | 399/948 [00:06<00:08, 64.12it/s]"
     ]
    },
    {
     "name": "stdout",
     "output_type": "stream",
     "text": [
      "---Performing simulation---\n"
     ]
    },
    {
     "name": "stderr",
     "output_type": "stream",
     "text": [
      "100%|██████████| 948/948 [00:14<00:00, 63.59it/s]\n",
      "  2%|▏         | 21/948 [00:00<00:15, 60.27it/s]]"
     ]
    },
    {
     "name": "stdout",
     "output_type": "stream",
     "text": [
      "---Performing simulation---\n"
     ]
    },
    {
     "name": "stderr",
     "output_type": "stream",
     "text": [
      "100%|██████████| 948/948 [00:14<00:00, 63.91it/s]\n",
      " 51%|█████     | 483/948 [00:07<00:07, 64.57it/s]"
     ]
    },
    {
     "name": "stdout",
     "output_type": "stream",
     "text": [
      "---Performing simulation---\n"
     ]
    },
    {
     "name": "stderr",
     "output_type": "stream",
     "text": [
      "100%|██████████| 948/948 [00:15<00:00, 60.38it/s]\n",
      "100%|██████████| 948/948 [00:17<00:00, 54.37it/s]\n",
      " 50%|█████     | 476/948 [00:07<00:07, 62.52it/s]"
     ]
    },
    {
     "name": "stdout",
     "output_type": "stream",
     "text": [
      "---Performing simulation---\n",
      "---Performing simulation---\n"
     ]
    },
    {
     "name": "stderr",
     "output_type": "stream",
     "text": [
      "100%|██████████| 948/948 [00:14<00:00, 65.07it/s]\n",
      " 56%|█████▌    | 532/948 [00:08<00:06, 63.99it/s]"
     ]
    },
    {
     "name": "stdout",
     "output_type": "stream",
     "text": [
      "---Performing simulation---\n"
     ]
    },
    {
     "name": "stderr",
     "output_type": "stream",
     "text": [
      "100%|██████████| 948/948 [00:15<00:00, 61.65it/s]\n",
      " 87%|████████▋ | 826/948 [00:12<00:01, 64.65it/s]"
     ]
    },
    {
     "name": "stdout",
     "output_type": "stream",
     "text": [
      "---Performing simulation---\n"
     ]
    },
    {
     "name": "stderr",
     "output_type": "stream",
     "text": [
      "100%|██████████| 948/948 [00:15<00:00, 62.14it/s]\n",
      "100%|██████████| 948/948 [00:14<00:00, 64.54it/s]\n"
     ]
    },
    {
     "name": "stdout",
     "output_type": "stream",
     "text": [
      "---Performing simulation---\n",
      "---Performing simulation---\n"
     ]
    },
    {
     "name": "stderr",
     "output_type": "stream",
     "text": [
      "100%|██████████| 948/948 [00:14<00:00, 64.16it/s]]]\n",
      "100%|██████████| 948/948 [00:14<00:00, 64.23it/s]\n",
      " 48%|████▊     | 455/948 [00:07<00:07, 61.81it/s]"
     ]
    },
    {
     "name": "stdout",
     "output_type": "stream",
     "text": [
      "---Performing simulation---\n",
      "---Performing simulation---\n"
     ]
    },
    {
     "name": "stderr",
     "output_type": "stream",
     "text": [
      "100%|██████████| 948/948 [00:15<00:00, 60.15it/s]\n",
      " 77%|███████▋  | 728/948 [00:11<00:03, 64.42it/s]"
     ]
    },
    {
     "name": "stdout",
     "output_type": "stream",
     "text": [
      "---Performing simulation---\n"
     ]
    },
    {
     "name": "stderr",
     "output_type": "stream",
     "text": [
      "100%|██████████| 948/948 [00:14<00:00, 63.90it/s]\n",
      " 96%|█████████▌| 910/948 [00:14<00:00, 64.69it/s]"
     ]
    },
    {
     "name": "stdout",
     "output_type": "stream",
     "text": [
      "---Performing simulation---\n",
      "---Performing simulation---\n",
      "---Performing simulation---\n"
     ]
    },
    {
     "name": "stderr",
     "output_type": "stream",
     "text": [
      "100%|██████████| 948/948 [00:14<00:00, 64.02it/s]\n",
      "100%|██████████| 948/948 [00:14<00:00, 64.14it/s]\n",
      "100%|██████████| 948/948 [00:14<00:00, 64.13it/s]\n",
      "100%|██████████| 948/948 [00:14<00:00, 63.99it/s]\n",
      " 61%|██████▏   | 581/948 [00:09<00:05, 63.37it/s]"
     ]
    },
    {
     "name": "stdout",
     "output_type": "stream",
     "text": [
      "---Performing simulation---\n",
      "---Performing simulation---\n"
     ]
    },
    {
     "name": "stderr",
     "output_type": "stream",
     "text": [
      "100%|██████████| 948/948 [00:14<00:00, 63.89it/s]\n",
      " 97%|█████████▋| 917/948 [00:14<00:00, 64.47it/s]"
     ]
    },
    {
     "name": "stdout",
     "output_type": "stream",
     "text": [
      "---Performing simulation---\n"
     ]
    },
    {
     "name": "stderr",
     "output_type": "stream",
     "text": [
      "100%|██████████| 948/948 [00:14<00:00, 63.80it/s]\n",
      "100%|█████████▉| 945/948 [00:14<00:00, 64.72it/s]"
     ]
    },
    {
     "name": "stdout",
     "output_type": "stream",
     "text": [
      "---Performing simulation---\n"
     ]
    },
    {
     "name": "stderr",
     "output_type": "stream",
     "text": [
      "100%|██████████| 948/948 [00:14<00:00, 64.18it/s]\n",
      "100%|██████████| 948/948 [00:14<00:00, 64.05it/s]\n"
     ]
    },
    {
     "name": "stdout",
     "output_type": "stream",
     "text": [
      "---Performing simulation---\n",
      "---Performing simulation---\n"
     ]
    },
    {
     "name": "stderr",
     "output_type": "stream",
     "text": [
      "100%|██████████| 948/948 [00:14<00:00, 63.99it/s]\n",
      " 15%|█▍        | 140/948 [00:02<00:12, 63.77it/s]"
     ]
    },
    {
     "name": "stdout",
     "output_type": "stream",
     "text": [
      "---Performing simulation---\n"
     ]
    },
    {
     "name": "stderr",
     "output_type": "stream",
     "text": [
      "100%|██████████| 948/948 [00:15<00:00, 61.83it/s]\n",
      " 78%|███████▊  | 742/948 [00:11<00:03, 62.82it/s]"
     ]
    },
    {
     "name": "stdout",
     "output_type": "stream",
     "text": [
      "---Performing simulation---\n"
     ]
    },
    {
     "name": "stderr",
     "output_type": "stream",
     "text": [
      "100%|██████████| 948/948 [00:15<00:00, 62.55it/s]\n",
      " 88%|████████▊ | 833/948 [00:13<00:01, 64.00it/s]"
     ]
    },
    {
     "name": "stdout",
     "output_type": "stream",
     "text": [
      "---Performing simulation---\n",
      "---Performing simulation---\n"
     ]
    },
    {
     "name": "stderr",
     "output_type": "stream",
     "text": [
      "100%|██████████| 948/948 [00:15<00:00, 61.59it/s]\n",
      "100%|██████████| 948/948 [00:14<00:00, 64.15it/s]\n",
      "100%|██████████| 948/948 [00:14<00:00, 63.69it/s]\n",
      " 48%|████▊     | 455/948 [00:07<00:07, 65.06it/s]"
     ]
    },
    {
     "name": "stdout",
     "output_type": "stream",
     "text": [
      "---Performing simulation---\n",
      "---Performing simulation---\n"
     ]
    },
    {
     "name": "stderr",
     "output_type": "stream",
     "text": [
      "100%|██████████| 948/948 [00:14<00:00, 63.42it/s]\n",
      "  0%|          | 0/948 [00:00<?, ?it/s]65.11it/s]"
     ]
    },
    {
     "name": "stdout",
     "output_type": "stream",
     "text": [
      "---Performing simulation---\n"
     ]
    },
    {
     "name": "stderr",
     "output_type": "stream",
     "text": [
      "100%|██████████| 948/948 [00:14<00:00, 63.35it/s]\n",
      " 37%|███▋      | 350/948 [00:05<00:09, 64.73it/s]"
     ]
    },
    {
     "name": "stdout",
     "output_type": "stream",
     "text": [
      "---Performing simulation---\n"
     ]
    },
    {
     "name": "stderr",
     "output_type": "stream",
     "text": [
      "100%|██████████| 948/948 [00:15<00:00, 62.81it/s]\n",
      " 73%|███████▎  | 696/948 [00:12<00:04, 53.46it/s]"
     ]
    },
    {
     "name": "stdout",
     "output_type": "stream",
     "text": [
      "---Performing simulation---\n"
     ]
    },
    {
     "name": "stderr",
     "output_type": "stream",
     "text": [
      "100%|██████████| 948/948 [00:15<00:00, 61.66it/s]\n",
      " 20%|█▉        | 189/948 [00:03<00:12, 62.07it/s]"
     ]
    },
    {
     "name": "stdout",
     "output_type": "stream",
     "text": [
      "---Performing simulation---\n"
     ]
    },
    {
     "name": "stderr",
     "output_type": "stream",
     "text": [
      "100%|██████████| 948/948 [00:14<00:00, 63.85it/s]\n",
      "100%|██████████| 948/948 [00:16<00:00, 58.67it/s]\n"
     ]
    },
    {
     "name": "stdout",
     "output_type": "stream",
     "text": [
      "---Performing simulation---\n",
      "---Performing simulation---\n"
     ]
    },
    {
     "name": "stderr",
     "output_type": "stream",
     "text": [
      "100%|██████████| 948/948 [00:15<00:00, 61.01it/s]\n",
      " 18%|█▊        | 168/948 [00:02<00:12, 64.30it/s]"
     ]
    },
    {
     "name": "stdout",
     "output_type": "stream",
     "text": [
      "---Performing simulation---\n"
     ]
    },
    {
     "name": "stderr",
     "output_type": "stream",
     "text": [
      "100%|██████████| 948/948 [00:14<00:00, 63.46it/s]\n",
      "  9%|▉         | 84/948 [00:01<00:13, 64.42it/s]]"
     ]
    },
    {
     "name": "stdout",
     "output_type": "stream",
     "text": [
      "---Performing simulation---\n"
     ]
    },
    {
     "name": "stderr",
     "output_type": "stream",
     "text": [
      "100%|██████████| 948/948 [00:15<00:00, 60.98it/s]\n",
      " 62%|██████▏   | 588/948 [00:09<00:05, 64.27it/s]"
     ]
    },
    {
     "name": "stdout",
     "output_type": "stream",
     "text": [
      "---Performing simulation---\n"
     ]
    },
    {
     "name": "stderr",
     "output_type": "stream",
     "text": [
      "100%|██████████| 948/948 [00:14<00:00, 65.00it/s]\n",
      " 65%|██████▍   | 616/948 [00:09<00:05, 64.28it/s]"
     ]
    },
    {
     "name": "stdout",
     "output_type": "stream",
     "text": [
      "---Performing simulation---\n"
     ]
    },
    {
     "name": "stderr",
     "output_type": "stream",
     "text": [
      "100%|██████████| 948/948 [00:17<00:00, 53.89it/s]\n",
      " 90%|█████████ | 854/948 [00:13<00:01, 62.81it/s]"
     ]
    },
    {
     "name": "stdout",
     "output_type": "stream",
     "text": [
      "---Performing simulation---\n"
     ]
    },
    {
     "name": "stderr",
     "output_type": "stream",
     "text": [
      "100%|██████████| 948/948 [00:15<00:00, 62.02it/s]s]\n",
      " 30%|██▉       | 282/948 [00:04<00:11, 57.81it/s]"
     ]
    },
    {
     "name": "stdout",
     "output_type": "stream",
     "text": [
      "---Performing simulation---\n"
     ]
    },
    {
     "name": "stderr",
     "output_type": "stream",
     "text": [
      "100%|██████████| 948/948 [00:14<00:00, 64.73it/s]\n",
      "100%|██████████| 948/948 [00:14<00:00, 63.36it/s]\n",
      " 24%|██▍       | 231/948 [00:03<00:11, 60.14it/s]"
     ]
    },
    {
     "name": "stdout",
     "output_type": "stream",
     "text": [
      "---Performing simulation---\n",
      "---Performing simulation---\n"
     ]
    },
    {
     "name": "stderr",
     "output_type": "stream",
     "text": [
      "100%|██████████| 948/948 [00:14<00:00, 64.39it/s]\n",
      "100%|██████████| 948/948 [00:14<00:00, 64.26it/s]\n"
     ]
    },
    {
     "name": "stdout",
     "output_type": "stream",
     "text": [
      "---Performing simulation---\n",
      "---Performing simulation---\n"
     ]
    },
    {
     "name": "stderr",
     "output_type": "stream",
     "text": [
      "100%|██████████| 948/948 [00:14<00:00, 63.98it/s]\n",
      "100%|██████████| 948/948 [00:14<00:00, 64.39it/s]\n",
      "100%|██████████| 948/948 [00:14<00:00, 64.34it/s]\n"
     ]
    },
    {
     "name": "stdout",
     "output_type": "stream",
     "text": [
      "---Performing simulation---\n",
      "---Performing simulation---\n",
      "---Performing simulation---\n"
     ]
    },
    {
     "name": "stderr",
     "output_type": "stream",
     "text": [
      "100%|██████████| 948/948 [00:15<00:00, 60.15it/s]\n",
      "100%|██████████| 948/948 [00:14<00:00, 64.41it/s]\n",
      " 55%|█████▍    | 518/948 [00:08<00:06, 64.03it/s]"
     ]
    },
    {
     "name": "stdout",
     "output_type": "stream",
     "text": [
      "---Performing simulation---\n",
      "---Performing simulation---\n"
     ]
    },
    {
     "name": "stderr",
     "output_type": "stream",
     "text": [
      "100%|██████████| 948/948 [00:14<00:00, 63.72it/s]\n",
      "  0%|          | 0/948 [00:00<?, ?it/s]60.86it/s]"
     ]
    },
    {
     "name": "stdout",
     "output_type": "stream",
     "text": [
      "---Performing simulation---\n",
      "---Performing simulation---\n"
     ]
    },
    {
     "name": "stderr",
     "output_type": "stream",
     "text": [
      "100%|██████████| 948/948 [00:14<00:00, 64.27it/s]\n",
      "100%|██████████| 948/948 [00:14<00:00, 63.94it/s]\n",
      "100%|██████████| 948/948 [00:14<00:00, 64.06it/s]\n",
      " 87%|████████▋ | 826/948 [00:13<00:02, 60.90it/s]"
     ]
    },
    {
     "name": "stdout",
     "output_type": "stream",
     "text": [
      "---Performing simulation---\n",
      "---Performing simulation---\n"
     ]
    },
    {
     "name": "stderr",
     "output_type": "stream",
     "text": [
      "100%|██████████| 948/948 [00:15<00:00, 60.50it/s]\n",
      " 69%|██████▊   | 651/948 [00:10<00:04, 61.41it/s]"
     ]
    },
    {
     "name": "stdout",
     "output_type": "stream",
     "text": [
      "---Performing simulation---\n"
     ]
    },
    {
     "name": "stderr",
     "output_type": "stream",
     "text": [
      "100%|██████████| 948/948 [00:14<00:00, 63.59it/s]\n",
      " 86%|████████▋ | 819/948 [00:12<00:02, 62.22it/s]"
     ]
    },
    {
     "name": "stdout",
     "output_type": "stream",
     "text": [
      "---Performing simulation---\n"
     ]
    },
    {
     "name": "stderr",
     "output_type": "stream",
     "text": [
      "100%|██████████| 948/948 [00:15<00:00, 61.56it/s]\n",
      " 24%|██▍       | 231/948 [00:03<00:11, 63.22it/s]"
     ]
    },
    {
     "name": "stdout",
     "output_type": "stream",
     "text": [
      "---Performing simulation---\n"
     ]
    },
    {
     "name": "stderr",
     "output_type": "stream",
     "text": [
      "100%|██████████| 948/948 [00:15<00:00, 62.09it/s]\n",
      " 82%|████████▏ | 777/948 [00:12<00:02, 64.20it/s]"
     ]
    },
    {
     "name": "stdout",
     "output_type": "stream",
     "text": [
      "---Performing simulation---\n"
     ]
    },
    {
     "name": "stderr",
     "output_type": "stream",
     "text": [
      "100%|██████████| 948/948 [00:15<00:00, 60.93it/s]\n",
      " 42%|████▏     | 399/948 [00:06<00:08, 63.38it/s]"
     ]
    },
    {
     "name": "stdout",
     "output_type": "stream",
     "text": [
      "---Performing simulation---\n",
      "---Performing simulation---\n"
     ]
    },
    {
     "name": "stderr",
     "output_type": "stream",
     "text": [
      "100%|██████████| 948/948 [00:14<00:00, 63.67it/s]\n",
      "100%|██████████| 948/948 [00:14<00:00, 63.36it/s]\n",
      "  5%|▌         | 49/948 [00:00<00:14, 62.22it/s]]"
     ]
    },
    {
     "name": "stdout",
     "output_type": "stream",
     "text": [
      "---Performing simulation---\n"
     ]
    },
    {
     "name": "stderr",
     "output_type": "stream",
     "text": [
      "100%|██████████| 948/948 [00:15<00:00, 63.14it/s]\n",
      " 35%|███▍      | 329/948 [00:05<00:09, 63.86it/s]"
     ]
    },
    {
     "name": "stdout",
     "output_type": "stream",
     "text": [
      "---Performing simulation---\n"
     ]
    },
    {
     "name": "stderr",
     "output_type": "stream",
     "text": [
      "100%|██████████| 948/948 [00:14<00:00, 63.30it/s]\n",
      " 75%|███████▍  | 710/948 [00:11<00:03, 60.07it/s]"
     ]
    },
    {
     "name": "stdout",
     "output_type": "stream",
     "text": [
      "---Performing simulation---\n"
     ]
    },
    {
     "name": "stderr",
     "output_type": "stream",
     "text": [
      "100%|██████████| 948/948 [00:15<00:00, 62.43it/s]\n",
      " 21%|██▏       | 202/948 [00:03<00:11, 62.57it/s]"
     ]
    },
    {
     "name": "stdout",
     "output_type": "stream",
     "text": [
      "---Performing simulation---\n"
     ]
    },
    {
     "name": "stderr",
     "output_type": "stream",
     "text": [
      "100%|██████████| 948/948 [00:14<00:00, 63.65it/s]\n",
      " 41%|████      | 385/948 [00:06<00:08, 65.32it/s]"
     ]
    },
    {
     "name": "stdout",
     "output_type": "stream",
     "text": [
      "---Performing simulation---\n"
     ]
    },
    {
     "name": "stderr",
     "output_type": "stream",
     "text": [
      "100%|██████████| 948/948 [00:15<00:00, 61.49it/s]\n",
      " 42%|████▏     | 399/948 [00:06<00:08, 65.40it/s]"
     ]
    },
    {
     "name": "stdout",
     "output_type": "stream",
     "text": [
      "---Performing simulation---\n"
     ]
    },
    {
     "name": "stderr",
     "output_type": "stream",
     "text": [
      "100%|██████████| 948/948 [00:14<00:00, 63.91it/s]\n",
      "  0%|          | 0/948 [00:00<?, ?it/s]61.90it/s]"
     ]
    },
    {
     "name": "stdout",
     "output_type": "stream",
     "text": [
      "---Performing simulation---\n",
      "---Performing simulation---\n"
     ]
    },
    {
     "name": "stderr",
     "output_type": "stream",
     "text": [
      "100%|██████████| 948/948 [00:15<00:00, 60.81it/s]\n",
      "100%|██████████| 948/948 [00:16<00:00, 58.58it/s]\n",
      "  3%|▎         | 28/948 [00:00<00:14, 64.36it/s]]"
     ]
    },
    {
     "name": "stdout",
     "output_type": "stream",
     "text": [
      "---Performing simulation---\n"
     ]
    },
    {
     "name": "stderr",
     "output_type": "stream",
     "text": [
      "100%|██████████| 948/948 [00:14<00:00, 64.91it/s]\n",
      " 17%|█▋        | 161/948 [00:02<00:12, 63.31it/s]"
     ]
    },
    {
     "name": "stdout",
     "output_type": "stream",
     "text": [
      "---Performing simulation---\n"
     ]
    },
    {
     "name": "stderr",
     "output_type": "stream",
     "text": [
      "100%|██████████| 948/948 [00:15<00:00, 60.28it/s]\n",
      " 60%|█████▉    | 567/948 [00:08<00:05, 65.22it/s]"
     ]
    },
    {
     "name": "stdout",
     "output_type": "stream",
     "text": [
      "---Performing simulation---\n"
     ]
    },
    {
     "name": "stderr",
     "output_type": "stream",
     "text": [
      "100%|██████████| 948/948 [00:15<00:00, 62.42it/s]\n",
      " 20%|█▉        | 185/948 [00:03<00:12, 60.18it/s]"
     ]
    },
    {
     "name": "stdout",
     "output_type": "stream",
     "text": [
      "---Performing simulation---\n"
     ]
    },
    {
     "name": "stderr",
     "output_type": "stream",
     "text": [
      "100%|██████████| 948/948 [00:15<00:00, 61.67it/s]\n",
      " 44%|████▎     | 413/948 [00:06<00:08, 63.68it/s]"
     ]
    },
    {
     "name": "stdout",
     "output_type": "stream",
     "text": [
      "---Performing simulation---\n",
      "---Performing simulation---\n"
     ]
    },
    {
     "name": "stderr",
     "output_type": "stream",
     "text": [
      "100%|██████████| 948/948 [00:14<00:00, 64.75it/s]\n",
      "100%|██████████| 948/948 [00:15<00:00, 62.56it/s]s]\n",
      "100%|██████████| 948/948 [00:14<00:00, 64.35it/s]\n",
      " 12%|█▏        | 112/948 [00:01<00:13, 62.92it/s]"
     ]
    },
    {
     "name": "stdout",
     "output_type": "stream",
     "text": [
      "---Performing simulation---\n",
      "---Performing simulation---\n"
     ]
    },
    {
     "name": "stderr",
     "output_type": "stream",
     "text": [
      "100%|██████████| 948/948 [00:14<00:00, 64.10it/s]\n",
      " 68%|██████▊   | 642/948 [00:11<00:05, 55.35it/s]"
     ]
    },
    {
     "name": "stdout",
     "output_type": "stream",
     "text": [
      "---Performing simulation---\n"
     ]
    },
    {
     "name": "stderr",
     "output_type": "stream",
     "text": [
      "100%|██████████| 948/948 [00:14<00:00, 64.61it/s]\n",
      "100%|██████████| 948/948 [00:14<00:00, 64.50it/s]\n",
      "100%|██████████| 948/948 [00:14<00:00, 64.02it/s]\n",
      " 69%|██████▉   | 658/948 [00:10<00:04, 62.06it/s]"
     ]
    },
    {
     "name": "stdout",
     "output_type": "stream",
     "text": [
      "---Performing simulation---\n",
      "---Performing simulation---\n",
      "---Performing simulation---\n"
     ]
    },
    {
     "name": "stderr",
     "output_type": "stream",
     "text": [
      "100%|██████████| 948/948 [00:14<00:00, 64.52it/s]\n",
      " 46%|████▌     | 434/948 [00:06<00:08, 62.02it/s]"
     ]
    },
    {
     "name": "stdout",
     "output_type": "stream",
     "text": [
      "---Performing simulation---\n"
     ]
    },
    {
     "name": "stderr",
     "output_type": "stream",
     "text": [
      "100%|██████████| 948/948 [00:14<00:00, 64.10it/s]\n",
      "100%|██████████| 948/948 [00:14<00:00, 63.98it/s]\n",
      " 71%|███████   | 672/948 [00:10<00:04, 64.67it/s]"
     ]
    },
    {
     "name": "stdout",
     "output_type": "stream",
     "text": [
      "---Performing simulation---\n",
      "---Performing simulation---\n"
     ]
    },
    {
     "name": "stderr",
     "output_type": "stream",
     "text": [
      "100%|██████████| 948/948 [00:15<00:00, 60.37it/s]\n",
      "  8%|▊         | 76/948 [00:01<00:13, 64.61it/s]]"
     ]
    },
    {
     "name": "stdout",
     "output_type": "stream",
     "text": [
      "---Performing simulation---\n",
      "---Performing simulation---\n"
     ]
    },
    {
     "name": "stderr",
     "output_type": "stream",
     "text": [
      "100%|██████████| 948/948 [00:14<00:00, 64.34it/s]\n",
      "100%|██████████| 948/948 [00:14<00:00, 64.10it/s]\n",
      " 92%|█████████▏| 875/948 [00:13<00:01, 65.28it/s]"
     ]
    },
    {
     "name": "stdout",
     "output_type": "stream",
     "text": [
      "---Performing simulation---\n"
     ]
    },
    {
     "name": "stderr",
     "output_type": "stream",
     "text": [
      "100%|██████████| 948/948 [00:14<00:00, 64.48it/s]\n",
      " 78%|███████▊  | 742/948 [00:11<00:03, 62.22it/s]"
     ]
    },
    {
     "name": "stdout",
     "output_type": "stream",
     "text": [
      "---Performing simulation---\n"
     ]
    },
    {
     "name": "stderr",
     "output_type": "stream",
     "text": [
      "100%|██████████| 948/948 [00:15<00:00, 62.07it/s]\n",
      " 44%|████▎     | 413/948 [00:06<00:08, 63.85it/s]"
     ]
    },
    {
     "name": "stdout",
     "output_type": "stream",
     "text": [
      "---Performing simulation---\n"
     ]
    },
    {
     "name": "stderr",
     "output_type": "stream",
     "text": [
      "100%|██████████| 948/948 [00:17<00:00, 54.64it/s]\n",
      " 31%|███       | 293/948 [00:04<00:10, 63.73it/s]"
     ]
    },
    {
     "name": "stdout",
     "output_type": "stream",
     "text": [
      "---Performing simulation---\n"
     ]
    },
    {
     "name": "stderr",
     "output_type": "stream",
     "text": [
      "100%|██████████| 948/948 [00:15<00:00, 61.90it/s]\n",
      " 75%|███████▍  | 707/948 [00:11<00:04, 60.05it/s]"
     ]
    },
    {
     "name": "stdout",
     "output_type": "stream",
     "text": [
      "---Performing simulation---\n",
      "---Performing simulation---\n"
     ]
    },
    {
     "name": "stderr",
     "output_type": "stream",
     "text": [
      "100%|██████████| 948/948 [00:14<00:00, 64.28it/s]\n",
      "100%|██████████| 948/948 [00:14<00:00, 63.53it/s]\n",
      " 16%|█▌        | 154/948 [00:02<00:12, 63.35it/s]"
     ]
    },
    {
     "name": "stdout",
     "output_type": "stream",
     "text": [
      "---Performing simulation---\n",
      "---Performing simulation---\n"
     ]
    },
    {
     "name": "stderr",
     "output_type": "stream",
     "text": [
      "100%|██████████| 948/948 [00:15<00:00, 61.98it/s]\n",
      "100%|██████████| 948/948 [00:15<00:00, 62.62it/s]\n",
      "  4%|▍         | 42/948 [00:00<00:14, 61.12it/s]]"
     ]
    },
    {
     "name": "stdout",
     "output_type": "stream",
     "text": [
      "---Performing simulation---\n"
     ]
    },
    {
     "name": "stderr",
     "output_type": "stream",
     "text": [
      "100%|██████████| 948/948 [00:15<00:00, 63.10it/s]\n",
      " 14%|█▎        | 130/948 [00:02<00:13, 61.32it/s]"
     ]
    },
    {
     "name": "stdout",
     "output_type": "stream",
     "text": [
      "---Performing simulation---\n"
     ]
    },
    {
     "name": "stderr",
     "output_type": "stream",
     "text": [
      "100%|██████████| 948/948 [00:14<00:00, 63.63it/s]\n",
      "100%|██████████| 948/948 [00:14<00:00, 63.52it/s]\n",
      "100%|██████████| 948/948 [00:15<00:00, 60.66it/s]\n",
      "100%|██████████| 948/948 [00:14<00:00, 63.44it/s]\n",
      "100%|██████████| 948/948 [00:15<00:00, 61.59it/s]\n",
      "100%|██████████| 948/948 [00:14<00:00, 65.51it/s]\n",
      "100%|██████████| 948/948 [00:15<00:00, 59.49it/s]\n",
      "100%|██████████| 948/948 [00:15<00:00, 60.69it/s]\n",
      "100%|██████████| 948/948 [00:15<00:00, 63.03it/s]\n",
      "100%|██████████| 948/948 [00:14<00:00, 65.43it/s]\n",
      "100%|██████████| 948/948 [00:15<00:00, 62.39it/s]\n",
      "100%|██████████| 948/948 [00:14<00:00, 65.03it/s]\n",
      "100%|██████████| 948/948 [00:14<00:00, 63.73it/s]\n",
      "100%|██████████| 948/948 [00:14<00:00, 64.90it/s]\n",
      "100%|██████████| 948/948 [00:14<00:00, 65.82it/s]\n",
      "100%|██████████| 948/948 [00:14<00:00, 65.56it/s]\n",
      "100%|██████████| 948/948 [00:14<00:00, 65.09it/s]\n",
      "100%|██████████| 948/948 [00:14<00:00, 65.82it/s]\n",
      "100%|██████████| 948/948 [00:14<00:00, 65.57it/s]\n",
      "100%|██████████| 948/948 [00:14<00:00, 65.94it/s]\n",
      "100%|██████████| 948/948 [00:14<00:00, 65.92it/s]\n",
      "100%|██████████| 948/948 [00:14<00:00, 65.86it/s]\n",
      "100%|██████████| 948/948 [00:15<00:00, 61.72it/s]\n",
      "100%|██████████| 948/948 [00:14<00:00, 66.04it/s]\n",
      " 96%|█████████▌| 909/948 [00:13<00:00, 66.69it/s]\n",
      "100%|██████████| 948/948 [00:14<00:00, 67.06it/s]\n",
      "100%|██████████| 948/948 [00:14<00:00, 66.51it/s]\n",
      "100%|██████████| 948/948 [00:14<00:00, 65.07it/s]\n",
      "100%|██████████| 948/948 [00:14<00:00, 64.38it/s]\n",
      "100%|██████████| 948/948 [00:14<00:00, 66.34it/s]\n",
      "100%|██████████| 948/948 [00:14<00:00, 66.94it/s]\n",
      "100%|██████████| 948/948 [00:16<00:00, 57.59it/s]\n"
     ]
    }
   ],
   "source": [
    "y_gt_10thgen = np.array(Parallel(n_jobs=32, backend = 'loky')(delayed(runferrosim)(i, X_input_10thgen) for i in range(len(X_input_10thgen))))"
   ]
  },
  {
   "cell_type": "code",
   "execution_count": 14,
   "id": "e7e91731-eaef-4b70-83c1-c6e35e13c7b8",
   "metadata": {},
   "outputs": [],
   "source": [
    "np.save('y_gt_10thgen.npy', y_gt_10thgen)"
   ]
  },
  {
   "cell_type": "code",
   "execution_count": 20,
   "id": "12b3b8c1-04ab-49c2-9837-6fa2613881dd",
   "metadata": {},
   "outputs": [
    {
     "data": {
      "text/plain": [
       "(array([ 29., 133., 269., 109.,  82.,  82., 119., 103.,  57.,  20.]),\n",
       " array([ 8.97330507,  9.64381937, 10.31433367, 10.98484798, 11.65536228,\n",
       "        12.32587658, 12.99639088, 13.66690519, 14.33741949, 15.00793379,\n",
       "        15.6784481 ]),\n",
       " <BarContainer object of 10 artists>)"
      ]
     },
     "execution_count": 20,
     "metadata": {},
     "output_type": "execute_result"
    },
    {
     "data": {
      "image/png": "[encoded data removed]",
      "text/plain": [
       "<Figure size 640x480 with 1 Axes>"
      ]
     },
     "metadata": {},
     "output_type": "display_data"
    }
   ],
   "source": [
    "plt.hist(y_gt_10thgen, color = 'r', label = 'original')"
   ]
  },
  {
   "cell_type": "markdown",
   "id": "032e370b-0c61-41d4-adf2-e25a0e9ff711",
   "metadata": {},
   "source": [
    "# Greedy Exploration"
   ]
  },
  {
   "cell_type": "code",
   "execution_count": 70,
   "id": "fa17fd80-b428-4276-89fb-18c896becbc6",
   "metadata": {},
   "outputs": [],
   "source": [
    "# Let's start with selecting intial training dataset for all the cases\n",
    "inputs = X_input_10thgen\n",
    "outputs_abs = y_gt_10thgen\n",
    "np.random.seed(12)\n",
    "# We start by picking 10 random trajectorties as the initialization dataset\n",
    "idx = np.random.choice(np.arange(len(inputs)), size = 10, replace = False)"
   ]
  },
  {
   "cell_type": "code",
   "execution_count": 71,
   "id": "cc5ff9ab-cc74-4a70-88e5-866495ff9b34",
   "metadata": {},
   "outputs": [
    {
     "name": "stdout",
     "output_type": "stream",
     "text": [
      "8.97330506704132 15.678448096484642\n",
      "9.642672425172417 11.78337136341413\n"
     ]
    }
   ],
   "source": [
    "inputs_train = inputs[idx]\n",
    "inputs_unmeasured = np.delete(inputs, idx, axis=0)\n",
    "\n",
    "indices_total = np.arange(len(inputs))\n",
    "indices_train = indices_total[idx]\n",
    "y_train = outputs_abs[idx]\n",
    "indices_unmeasured = np.delete(indices_total, idx)\n",
    "\n",
    "print(np.min(outputs_abs), np.max(outputs_abs))\n",
    "print(np.min(y_train), np.max(y_train))"
   ]
  },
  {
   "cell_type": "code",
   "execution_count": 72,
   "id": "f7160394-0334-474e-ad75-5b7ad08f02aa",
   "metadata": {},
   "outputs": [
    {
     "name": "stdout",
     "output_type": "stream",
     "text": [
      "\n",
      "Step 1\n"
     ]
    },
    {
     "name": "stderr",
     "output_type": "stream",
     "text": [
      "100%|█| 10000/10000 [00:11<00:00, 891.64it/s, init loss: 60353.2826, avg. loss [\n"
     ]
    },
    {
     "name": "stdout",
     "output_type": "stream",
     "text": [
      "\n",
      "Inferred GP kernel parameters\n",
      "k_length         [0.3679 0.31  ]\n",
      "k_scale          13.5892\n",
      "noise            0.101\n",
      "\n",
      "Step 2\n"
     ]
    },
    {
     "name": "stderr",
     "output_type": "stream",
     "text": [
      "100%|█| 10000/10000 [00:11<00:00, 880.25it/s, init loss: 60720.8366, avg. loss [\n"
     ]
    },
    {
     "name": "stdout",
     "output_type": "stream",
     "text": [
      "\n",
      "Inferred GP kernel parameters\n",
      "k_length         [0.3543 0.351 ]\n",
      "k_scale          14.5618\n",
      "noise            0.10260000000000001\n",
      "\n",
      "Step 3\n"
     ]
    },
    {
     "name": "stderr",
     "output_type": "stream",
     "text": [
      "100%|█| 10000/10000 [00:11<00:00, 859.67it/s, init loss: 61180.0247, avg. loss [\n"
     ]
    },
    {
     "name": "stdout",
     "output_type": "stream",
     "text": [
      "\n",
      "Inferred GP kernel parameters\n",
      "k_length         [0.5323 0.5549]\n",
      "k_scale          14.2077\n",
      "noise            0.06670000000000001\n",
      "\n",
      "Step 4\n"
     ]
    },
    {
     "name": "stderr",
     "output_type": "stream",
     "text": [
      "100%|█| 10000/10000 [00:14<00:00, 694.34it/s, init loss: 61564.4593, avg. loss [\n"
     ]
    },
    {
     "name": "stdout",
     "output_type": "stream",
     "text": [
      "\n",
      "Inferred GP kernel parameters\n",
      "k_length         [1.195  1.1638]\n",
      "k_scale          13.7809\n",
      "noise            0.055\n",
      "\n",
      "Step 5\n"
     ]
    },
    {
     "name": "stderr",
     "output_type": "stream",
     "text": [
      "100%|█| 10000/10000 [00:15<00:00, 653.86it/s, init loss: 61961.3434, avg. loss [\n"
     ]
    },
    {
     "name": "stdout",
     "output_type": "stream",
     "text": [
      "\n",
      "Inferred GP kernel parameters\n",
      "k_length         [1.3877 1.7732]\n",
      "k_scale          12.9578\n",
      "noise            0.0509\n",
      "\n",
      "Step 6\n"
     ]
    },
    {
     "name": "stderr",
     "output_type": "stream",
     "text": [
      "100%|█| 10000/10000 [00:19<00:00, 518.02it/s, init loss: 62306.2375, avg. loss [\n"
     ]
    },
    {
     "name": "stdout",
     "output_type": "stream",
     "text": [
      "\n",
      "Inferred GP kernel parameters\n",
      "k_length         [1.6074 1.6306]\n",
      "k_scale          11.877600000000001\n",
      "noise            0.0448\n",
      "\n",
      "Step 7\n"
     ]
    },
    {
     "name": "stderr",
     "output_type": "stream",
     "text": [
      "100%|█| 10000/10000 [00:23<00:00, 428.87it/s, init loss: 62528.4133, avg. loss [\n"
     ]
    },
    {
     "name": "stdout",
     "output_type": "stream",
     "text": [
      "\n",
      "Inferred GP kernel parameters\n",
      "k_length         [2.3945 1.5803]\n",
      "k_scale          12.235100000000001\n",
      "noise            0.0368\n",
      "\n",
      "Step 8\n"
     ]
    },
    {
     "name": "stderr",
     "output_type": "stream",
     "text": [
      "100%|█| 10000/10000 [00:24<00:00, 407.54it/s, init loss: 62776.6489, avg. loss [\n"
     ]
    },
    {
     "name": "stdout",
     "output_type": "stream",
     "text": [
      "\n",
      "Inferred GP kernel parameters\n",
      "k_length         [1.9988 2.6368]\n",
      "k_scale          12.549100000000001\n",
      "noise            0.0344\n",
      "\n",
      "Step 9\n"
     ]
    },
    {
     "name": "stderr",
     "output_type": "stream",
     "text": [
      "100%|█| 10000/10000 [00:25<00:00, 394.49it/s, init loss: 63030.3529, avg. loss [\n"
     ]
    },
    {
     "name": "stdout",
     "output_type": "stream",
     "text": [
      "\n",
      "Inferred GP kernel parameters\n",
      "k_length         [2.7757 2.4589]\n",
      "k_scale          11.4486\n",
      "noise            0.029500000000000002\n",
      "\n",
      "Step 10\n"
     ]
    },
    {
     "name": "stderr",
     "output_type": "stream",
     "text": [
      "100%|█| 10000/10000 [00:27<00:00, 367.15it/s, init loss: 63231.2145, avg. loss [\n"
     ]
    },
    {
     "name": "stdout",
     "output_type": "stream",
     "text": [
      "\n",
      "Inferred GP kernel parameters\n",
      "k_length         [2.9389 2.3315]\n",
      "k_scale          11.602300000000001\n",
      "noise            0.0328\n"
     ]
    }
   ],
   "source": [
    "exploration_steps = 10\n",
    "for e in range(exploration_steps):\n",
    "    print(\"\\nStep {}\".format(e+1))\n",
    "    # Obtain/update DKL posterior\n",
    "    rng_key, pred_key = gpax.utils.get_keys()\n",
    "    dkl_BO = gpax.viDKL(900, 2, 'RBF')\n",
    "    dkl_BO.fit(rng_key, inputs_train, y_train, nn = CustomCNN, num_steps = 10000, step_size = 5e-4)\n",
    "    # Compute acqusition function\n",
    "    y_mean, y_var = dkl_BO.predict_in_batches(  # make prediction batch-by-batch to avoid memory overflow\n",
    "        pred_key, inputs_unmeasured, batch_size=250)\n",
    "    y_std = jnp.sqrt(y_var)\n",
    "    obj = y_mean  # UCB = mu + 10 * sigma\n",
    "\n",
    "    sort = np.argsort(obj)[::-1]\n",
    "    # Get the next 5 points to evaluate\n",
    "    ids_next = sort[0:10]\n",
    "\n",
    "    x_next = inputs_unmeasured[ids_next]\n",
    "    inds_next = indices_unmeasured[ids_next]\n",
    "    \n",
    "    \n",
    "    # run simulation to get the ground truth\n",
    "    y_measured = outputs_abs[inds_next]\n",
    "\n",
    "    # Update training arrays\n",
    "    inputs_train = np.append(inputs_train, x_next, axis=0)\n",
    "    y_train = np.append(y_train, y_measured)\n",
    "    inputs_unmeasured = np.delete(inputs_unmeasured, ids_next, axis=0)\n",
    "    indices_unmeasured = np.delete(indices_unmeasured, ids_next)"
   ]
  },
  {
   "cell_type": "code",
   "execution_count": 73,
   "id": "6991f020-3d3e-425d-89b3-5bc6c7d93a97",
   "metadata": {},
   "outputs": [],
   "source": [
    "y_mean, y_var = dkl_BO.predict_in_batches(  # make prediction batch-by-batch to avoid memory overflow\n",
    "            pred_key, inputs, batch_size=64)\n",
    "y_std = jnp.sqrt(y_var)\n",
    "\n",
    "y_mean_train, y_var_train = dkl_BO.predict_in_batches(  # make prediction batch-by-batch to avoid memory overflow\n",
    "            pred_key, inputs_train, batch_size=64)\n",
    "y_std_train = jnp.sqrt(y_var_train)\n",
    "\n",
    "rmse = np.sqrt(np.mean((outputs_abs - np.array(y_mean)) ** 2))"
   ]
  },
  {
   "cell_type": "code",
   "execution_count": 74,
   "id": "41bc2933-4345-461d-9c2a-5da3d398bb39",
   "metadata": {},
   "outputs": [
    {
     "data": {
      "image/png": "[encoded data removed]",
      "text/plain": [
       "<Figure size 500x500 with 1 Axes>"
      ]
     },
     "metadata": {},
     "output_type": "display_data"
    }
   ],
   "source": [
    "fig, ax = plt.subplots(figsize = (5,5))\n",
    "ax.scatter(outputs_abs, np.array(y_mean), c = 'b', s = 5)\n",
    "ax.scatter(y_train, np.array(y_mean_train), c = 'r', s = 7)\n",
    "ax.plot(np.linspace(4, 16, 100), np.linspace(4, 16, 100), c = 'k')\n",
    "ax.set_xlabel('ground truth')\n",
    "ax.set_ylabel('Predictions')\n",
    "ax.set_title('rmse: {:.2f}, avg_uncer: {:.2f}'.format(rmse, np.mean(np.array(y_std))))\n",
    "\n",
    "plt.savefig('policy1_mean.png', dpi = 300)"
   ]
  },
  {
   "cell_type": "markdown",
   "id": "2b4b7855-aae0-4399-8b99-8cc0e5b110f7",
   "metadata": {},
   "source": [
    "# Uncertainty Based"
   ]
  },
  {
   "cell_type": "code",
   "execution_count": 78,
   "id": "6b050de8-d7cd-454d-9be6-e18408728133",
   "metadata": {},
   "outputs": [],
   "source": [
    "# Let's start with selecting intial training dataset for all the cases\n",
    "inputs = X_input_10thgen\n",
    "outputs_abs = y_gt_10thgen\n",
    "np.random.seed(12)\n",
    "# We start by picking 10 random trajectorties as the initialization dataset\n",
    "idx = np.random.choice(np.arange(len(inputs)), size = 10, replace = False)"
   ]
  },
  {
   "cell_type": "code",
   "execution_count": 79,
   "id": "ecf9b97f-250c-491f-9734-7b5e17751d5e",
   "metadata": {},
   "outputs": [
    {
     "name": "stdout",
     "output_type": "stream",
     "text": [
      "8.97330506704132 15.678448096484642\n",
      "9.642672425172417 11.78337136341413\n"
     ]
    }
   ],
   "source": [
    "inputs_train = inputs[idx]\n",
    "inputs_unmeasured = np.delete(inputs, idx, axis=0)\n",
    "\n",
    "indices_total = np.arange(len(inputs))\n",
    "indices_train = indices_total[idx]\n",
    "y_train = outputs_abs[idx]\n",
    "indices_unmeasured = np.delete(indices_total, idx)\n",
    "\n",
    "print(np.min(outputs_abs), np.max(outputs_abs))\n",
    "print(np.min(y_train), np.max(y_train))"
   ]
  },
  {
   "cell_type": "code",
   "execution_count": 80,
   "id": "99399c8e-2f79-44a0-905d-89aba1d35843",
   "metadata": {},
   "outputs": [
    {
     "name": "stdout",
     "output_type": "stream",
     "text": [
      "\n",
      "Step 1\n"
     ]
    },
    {
     "name": "stderr",
     "output_type": "stream",
     "text": [
      "100%|█| 10000/10000 [00:11<00:00, 888.28it/s, init loss: 60353.2826, avg. loss [\n"
     ]
    },
    {
     "name": "stdout",
     "output_type": "stream",
     "text": [
      "\n",
      "Inferred GP kernel parameters\n",
      "k_length         [0.3679 0.31  ]\n",
      "k_scale          13.5892\n",
      "noise            0.101\n",
      "\n",
      "Step 2\n"
     ]
    },
    {
     "name": "stderr",
     "output_type": "stream",
     "text": [
      "100%|█| 10000/10000 [00:11<00:00, 884.05it/s, init loss: 60712.4502, avg. loss [\n"
     ]
    },
    {
     "name": "stdout",
     "output_type": "stream",
     "text": [
      "\n",
      "Inferred GP kernel parameters\n",
      "k_length         [0.7753 0.5839]\n",
      "k_scale          16.716900000000003\n",
      "noise            0.08080000000000001\n",
      "\n",
      "Step 3\n"
     ]
    },
    {
     "name": "stderr",
     "output_type": "stream",
     "text": [
      "100%|█| 10000/10000 [00:12<00:00, 810.33it/s, init loss: 61040.8910, avg. loss [\n"
     ]
    },
    {
     "name": "stdout",
     "output_type": "stream",
     "text": [
      "\n",
      "Inferred GP kernel parameters\n",
      "k_length         [0.6996 0.6625]\n",
      "k_scale          14.3506\n",
      "noise            0.1361\n",
      "\n",
      "Step 4\n"
     ]
    },
    {
     "name": "stderr",
     "output_type": "stream",
     "text": [
      "100%|█| 10000/10000 [00:14<00:00, 688.14it/s, init loss: 61336.1142, avg. loss [\n"
     ]
    },
    {
     "name": "stdout",
     "output_type": "stream",
     "text": [
      "\n",
      "Inferred GP kernel parameters\n",
      "k_length         [1.2257 1.1195]\n",
      "k_scale          13.425500000000001\n",
      "noise            0.07640000000000001\n",
      "\n",
      "Step 5\n"
     ]
    },
    {
     "name": "stderr",
     "output_type": "stream",
     "text": [
      "100%|█| 10000/10000 [00:15<00:00, 640.21it/s, init loss: 61665.1661, avg. loss [\n"
     ]
    },
    {
     "name": "stdout",
     "output_type": "stream",
     "text": [
      "\n",
      "Inferred GP kernel parameters\n",
      "k_length         [2.2636 1.5832]\n",
      "k_scale          12.5935\n",
      "noise            0.08560000000000001\n",
      "\n",
      "Step 6\n"
     ]
    },
    {
     "name": "stderr",
     "output_type": "stream",
     "text": [
      "100%|█| 10000/10000 [00:19<00:00, 523.16it/s, init loss: 61994.5387, avg. loss [\n"
     ]
    },
    {
     "name": "stdout",
     "output_type": "stream",
     "text": [
      "\n",
      "Inferred GP kernel parameters\n",
      "k_length         [2.5149 1.8645]\n",
      "k_scale          11.6174\n",
      "noise            0.083\n",
      "\n",
      "Step 7\n"
     ]
    },
    {
     "name": "stderr",
     "output_type": "stream",
     "text": [
      "100%|█| 10000/10000 [00:21<00:00, 457.51it/s, init loss: 62257.5979, avg. loss [\n"
     ]
    },
    {
     "name": "stdout",
     "output_type": "stream",
     "text": [
      "\n",
      "Inferred GP kernel parameters\n",
      "k_length         [2.6068 1.9274]\n",
      "k_scale          11.876000000000001\n",
      "noise            0.0729\n",
      "\n",
      "Step 8\n"
     ]
    },
    {
     "name": "stderr",
     "output_type": "stream",
     "text": [
      "100%|█| 10000/10000 [00:22<00:00, 440.64it/s, init loss: 62512.3037, avg. loss [\n"
     ]
    },
    {
     "name": "stdout",
     "output_type": "stream",
     "text": [
      "\n",
      "Inferred GP kernel parameters\n",
      "k_length         [4.0146 2.5734]\n",
      "k_scale          11.144300000000001\n",
      "noise            0.0656\n",
      "\n",
      "Step 9\n"
     ]
    },
    {
     "name": "stderr",
     "output_type": "stream",
     "text": [
      "100%|█| 10000/10000 [00:23<00:00, 423.13it/s, init loss: 62828.0393, avg. loss [\n"
     ]
    },
    {
     "name": "stdout",
     "output_type": "stream",
     "text": [
      "\n",
      "Inferred GP kernel parameters\n",
      "k_length         [3.3307 3.7075]\n",
      "k_scale          10.3369\n",
      "noise            0.0512\n",
      "\n",
      "Step 10\n"
     ]
    },
    {
     "name": "stderr",
     "output_type": "stream",
     "text": [
      "100%|█| 10000/10000 [00:24<00:00, 404.67it/s, init loss: 63016.0649, avg. loss [\n"
     ]
    },
    {
     "name": "stdout",
     "output_type": "stream",
     "text": [
      "\n",
      "Inferred GP kernel parameters\n",
      "k_length         [3.3229 4.5911]\n",
      "k_scale          10.8163\n",
      "noise            0.0465\n"
     ]
    }
   ],
   "source": [
    "exploration_steps = 10\n",
    "for e in range(exploration_steps):\n",
    "    print(\"\\nStep {}\".format(e+1))\n",
    "    # Obtain/update DKL posterior\n",
    "    rng_key, pred_key = gpax.utils.get_keys()\n",
    "    dkl_BO = gpax.viDKL(900, 2, 'RBF')\n",
    "    dkl_BO.fit(rng_key, inputs_train, y_train, nn = CustomCNN, num_steps = 10000, step_size = 5e-4)\n",
    "    # Compute acqusition function\n",
    "    y_mean, y_var = dkl_BO.predict_in_batches(  # make prediction batch-by-batch to avoid memory overflow\n",
    "        pred_key, inputs_unmeasured, batch_size=250)\n",
    "    y_std = jnp.sqrt(y_var)\n",
    "    obj = y_std  # UCB = mu + 10 * sigma\n",
    "\n",
    "    sort = np.argsort(obj)[::-1]\n",
    "    # Get the next 5 points to evaluate\n",
    "    ids_next = sort[0:10]\n",
    "\n",
    "    x_next = inputs_unmeasured[ids_next]\n",
    "    inds_next = indices_unmeasured[ids_next]\n",
    "    \n",
    "    \n",
    "    # run simulation to get the ground truth\n",
    "    y_measured = outputs_abs[inds_next]\n",
    "\n",
    "    # Update training arrays\n",
    "    inputs_train = np.append(inputs_train, x_next, axis=0)\n",
    "    y_train = np.append(y_train, y_measured)\n",
    "    inputs_unmeasured = np.delete(inputs_unmeasured, ids_next, axis=0)\n",
    "    indices_unmeasured = np.delete(indices_unmeasured, ids_next)"
   ]
  },
  {
   "cell_type": "code",
   "execution_count": 81,
   "id": "695eb8a4-a6f8-4eb9-acf5-f9e40352d574",
   "metadata": {},
   "outputs": [],
   "source": [
    "y_mean, y_var = dkl_BO.predict_in_batches(  # make prediction batch-by-batch to avoid memory overflow\n",
    "            pred_key, inputs, batch_size=64)\n",
    "y_std = jnp.sqrt(y_var)\n",
    "\n",
    "y_mean_train, y_var_train = dkl_BO.predict_in_batches(  # make prediction batch-by-batch to avoid memory overflow\n",
    "            pred_key, inputs_train, batch_size=64)\n",
    "y_std_train = jnp.sqrt(y_var_train)\n",
    "\n",
    "rmse = np.sqrt(np.mean((outputs_abs - np.array(y_mean)) ** 2))"
   ]
  },
  {
   "cell_type": "code",
   "execution_count": 82,
   "id": "8e0156bc-b7ed-4882-a942-75ed00a5d5c1",
   "metadata": {},
   "outputs": [
    {
     "data": {
      "image/png": "[encoded data removed]",
      "text/plain": [
       "<Figure size 500x500 with 1 Axes>"
      ]
     },
     "metadata": {},
     "output_type": "display_data"
    }
   ],
   "source": [
    "fig, ax = plt.subplots(figsize = (5,5))\n",
    "ax.scatter(outputs_abs, np.array(y_mean), c = 'b', s = 5)\n",
    "ax.scatter(y_train, np.array(y_mean_train), c = 'r', s = 7)\n",
    "ax.plot(np.linspace(4, 16, 100), np.linspace(4, 16, 100), c = 'k')\n",
    "ax.set_xlabel('ground truth')\n",
    "ax.set_ylabel('Predictions')\n",
    "ax.set_title('rmse: {:.2f}, avg_uncer: {:.2f}'.format(rmse, np.mean(np.array(y_std))))\n",
    "\n",
    "plt.savefig('policy1_std.png', dpi = 300)"
   ]
  },
  {
   "cell_type": "markdown",
   "id": "43fc847b-11cc-45ae-b77e-46b0e60a6ee9",
   "metadata": {},
   "source": [
    "# UCB Exploration"
   ]
  },
  {
   "cell_type": "code",
   "execution_count": 83,
   "id": "1f39f94f-ae1c-490a-b043-230a87ad641b",
   "metadata": {},
   "outputs": [],
   "source": [
    "# Let's start with selecting intial training dataset for all the cases\n",
    "inputs = X_input_10thgen\n",
    "outputs_abs = y_gt_10thgen\n",
    "np.random.seed(12)\n",
    "# We start by picking 10 random trajectorties as the initialization dataset\n",
    "idx = np.random.choice(np.arange(len(inputs)), size = 10, replace = False)"
   ]
  },
  {
   "cell_type": "code",
   "execution_count": 84,
   "id": "4a14392d-efc2-47e8-81ea-0f0eb28af8ae",
   "metadata": {},
   "outputs": [
    {
     "name": "stdout",
     "output_type": "stream",
     "text": [
      "8.97330506704132 15.678448096484642\n",
      "9.642672425172417 11.78337136341413\n"
     ]
    }
   ],
   "source": [
    "inputs_train = inputs[idx]\n",
    "inputs_unmeasured = np.delete(inputs, idx, axis=0)\n",
    "\n",
    "indices_total = np.arange(len(inputs))\n",
    "indices_train = indices_total[idx]\n",
    "y_train = outputs_abs[idx]\n",
    "indices_unmeasured = np.delete(indices_total, idx)\n",
    "\n",
    "print(np.min(outputs_abs), np.max(outputs_abs))\n",
    "print(np.min(y_train), np.max(y_train))"
   ]
  },
  {
   "cell_type": "code",
   "execution_count": 85,
   "id": "3a22b130-fb00-4241-8300-a06d6ebf8fc9",
   "metadata": {},
   "outputs": [
    {
     "name": "stdout",
     "output_type": "stream",
     "text": [
      "\n",
      "Step 1\n"
     ]
    },
    {
     "name": "stderr",
     "output_type": "stream",
     "text": [
      "100%|█| 10000/10000 [00:09<00:00, 1040.29it/s, init loss: 60353.2826, avg. loss \n"
     ]
    },
    {
     "name": "stdout",
     "output_type": "stream",
     "text": [
      "\n",
      "Inferred GP kernel parameters\n",
      "k_length         [0.3679 0.31  ]\n",
      "k_scale          13.5892\n",
      "noise            0.101\n",
      "\n",
      "Step 2\n"
     ]
    },
    {
     "name": "stderr",
     "output_type": "stream",
     "text": [
      "100%|█| 10000/10000 [00:11<00:00, 869.67it/s, init loss: 60730.8093, avg. loss [\n"
     ]
    },
    {
     "name": "stdout",
     "output_type": "stream",
     "text": [
      "\n",
      "Inferred GP kernel parameters\n",
      "k_length         [0.5315 0.5158]\n",
      "k_scale          16.7132\n",
      "noise            0.1057\n",
      "\n",
      "Step 3\n"
     ]
    },
    {
     "name": "stderr",
     "output_type": "stream",
     "text": [
      "100%|█| 10000/10000 [00:12<00:00, 823.50it/s, init loss: 61116.3258, avg. loss [\n"
     ]
    },
    {
     "name": "stdout",
     "output_type": "stream",
     "text": [
      "\n",
      "Inferred GP kernel parameters\n",
      "k_length         [0.8412 0.8897]\n",
      "k_scale          13.9876\n",
      "noise            0.1598\n",
      "\n",
      "Step 4\n"
     ]
    },
    {
     "name": "stderr",
     "output_type": "stream",
     "text": [
      "100%|█| 10000/10000 [00:14<00:00, 693.54it/s, init loss: 61607.1227, avg. loss [\n"
     ]
    },
    {
     "name": "stdout",
     "output_type": "stream",
     "text": [
      "\n",
      "Inferred GP kernel parameters\n",
      "k_length         [1.03  1.195]\n",
      "k_scale          11.603200000000001\n",
      "noise            0.14500000000000002\n",
      "\n",
      "Step 5\n"
     ]
    },
    {
     "name": "stderr",
     "output_type": "stream",
     "text": [
      "100%|█| 10000/10000 [00:15<00:00, 640.80it/s, init loss: 62000.4897, avg. loss [\n"
     ]
    },
    {
     "name": "stdout",
     "output_type": "stream",
     "text": [
      "\n",
      "Inferred GP kernel parameters\n",
      "k_length         [2.496  2.0879]\n",
      "k_scale          11.9778\n",
      "noise            0.062\n",
      "\n",
      "Step 6\n"
     ]
    },
    {
     "name": "stderr",
     "output_type": "stream",
     "text": [
      "100%|█| 10000/10000 [00:19<00:00, 502.19it/s, init loss: 62354.2030, avg. loss [\n"
     ]
    },
    {
     "name": "stdout",
     "output_type": "stream",
     "text": [
      "\n",
      "Inferred GP kernel parameters\n",
      "k_length         [2.1372 1.6893]\n",
      "k_scale          11.468900000000001\n",
      "noise            0.0682\n",
      "\n",
      "Step 7\n"
     ]
    },
    {
     "name": "stderr",
     "output_type": "stream",
     "text": [
      "100%|█| 10000/10000 [00:24<00:00, 401.73it/s, init loss: 62665.8457, avg. loss [\n"
     ]
    },
    {
     "name": "stdout",
     "output_type": "stream",
     "text": [
      "\n",
      "Inferred GP kernel parameters\n",
      "k_length         [1.9503 2.6004]\n",
      "k_scale          11.0174\n",
      "noise            0.08370000000000001\n",
      "\n",
      "Step 8\n"
     ]
    },
    {
     "name": "stderr",
     "output_type": "stream",
     "text": [
      "100%|█| 10000/10000 [00:25<00:00, 397.03it/s, init loss: 62865.5246, avg. loss [\n"
     ]
    },
    {
     "name": "stdout",
     "output_type": "stream",
     "text": [
      "\n",
      "Inferred GP kernel parameters\n",
      "k_length         [2.7892 3.3297]\n",
      "k_scale          11.075000000000001\n",
      "noise            0.0455\n",
      "\n",
      "Step 9\n"
     ]
    },
    {
     "name": "stderr",
     "output_type": "stream",
     "text": [
      "100%|█| 10000/10000 [00:27<00:00, 361.99it/s, init loss: 63067.8618, avg. loss [\n"
     ]
    },
    {
     "name": "stdout",
     "output_type": "stream",
     "text": [
      "\n",
      "Inferred GP kernel parameters\n",
      "k_length         [3.3073 2.9725]\n",
      "k_scale          10.7947\n",
      "noise            0.040400000000000005\n",
      "\n",
      "Step 10\n"
     ]
    },
    {
     "name": "stderr",
     "output_type": "stream",
     "text": [
      "100%|█| 10000/10000 [00:29<00:00, 338.97it/s, init loss: 63356.4845, avg. loss [\n"
     ]
    },
    {
     "name": "stdout",
     "output_type": "stream",
     "text": [
      "\n",
      "Inferred GP kernel parameters\n",
      "k_length         [4.0248 2.5877]\n",
      "k_scale          10.8971\n",
      "noise            0.0407\n"
     ]
    }
   ],
   "source": [
    "exploration_steps = 10\n",
    "for e in range(exploration_steps):\n",
    "    print(\"\\nStep {}\".format(e+1))\n",
    "    # Obtain/update DKL posterior\n",
    "    rng_key, pred_key = gpax.utils.get_keys()\n",
    "    dkl_BO = gpax.viDKL(900, 2, 'RBF')\n",
    "    dkl_BO.fit(rng_key, inputs_train, y_train, nn = CustomCNN, num_steps = 10000, step_size = 5e-4)\n",
    "    # Compute acqusition function\n",
    "    y_mean, y_var = dkl_BO.predict_in_batches(  # make prediction batch-by-batch to avoid memory overflow\n",
    "        pred_key, inputs_unmeasured, batch_size=250)\n",
    "    y_std = jnp.sqrt(y_var)\n",
    "    obj = y_mean + 10*y_std  # UCB = mu + 10 * sigma\n",
    "\n",
    "    sort = np.argsort(obj)[::-1]\n",
    "    # Get the next 5 points to evaluate\n",
    "    ids_next = sort[0:10]\n",
    "\n",
    "    x_next = inputs_unmeasured[ids_next]\n",
    "    inds_next = indices_unmeasured[ids_next]\n",
    "    \n",
    "    \n",
    "    # run simulation to get the ground truth\n",
    "    y_measured = outputs_abs[inds_next]\n",
    "\n",
    "    # Update training arrays\n",
    "    inputs_train = np.append(inputs_train, x_next, axis=0)\n",
    "    y_train = np.append(y_train, y_measured)\n",
    "    inputs_unmeasured = np.delete(inputs_unmeasured, ids_next, axis=0)\n",
    "    indices_unmeasured = np.delete(indices_unmeasured, ids_next)"
   ]
  },
  {
   "cell_type": "code",
   "execution_count": 86,
   "id": "1d6b177d-ccaf-4fe5-bc62-4b700980cf3f",
   "metadata": {},
   "outputs": [],
   "source": [
    "y_mean, y_var = dkl_BO.predict_in_batches(  # make prediction batch-by-batch to avoid memory overflow\n",
    "            pred_key, inputs, batch_size=64)\n",
    "y_std = jnp.sqrt(y_var)\n",
    "\n",
    "y_mean_train, y_var_train = dkl_BO.predict_in_batches(  # make prediction batch-by-batch to avoid memory overflow\n",
    "            pred_key, inputs_train, batch_size=64)\n",
    "y_std_train = jnp.sqrt(y_var_train)\n",
    "\n",
    "rmse = np.sqrt(np.mean((outputs_abs - np.array(y_mean)) ** 2))"
   ]
  },
  {
   "cell_type": "code",
   "execution_count": 87,
   "id": "c881b907-3354-49fc-9921-016b291f15bc",
   "metadata": {},
   "outputs": [
    {
     "data": {
      "image/png": "[encoded data removed]",
      "text/plain": [
       "<Figure size 500x500 with 1 Axes>"
      ]
     },
     "metadata": {},
     "output_type": "display_data"
    }
   ],
   "source": [
    "fig, ax = plt.subplots(figsize = (5,5))\n",
    "ax.scatter(outputs_abs, np.array(y_mean), c = 'b', s = 5)\n",
    "ax.scatter(y_train, np.array(y_mean_train), c = 'r', s = 7)\n",
    "ax.plot(np.linspace(4, 16, 100), np.linspace(4, 16, 100), c = 'k')\n",
    "ax.set_xlabel('ground truth')\n",
    "ax.set_ylabel('Predictions')\n",
    "ax.set_title('rmse: {:.2f}, avg_uncer: {:.2f}'.format(rmse, np.mean(np.array(y_std))))\n",
    "\n",
    "plt.savefig('policy1_ucb.png', dpi = 300)"
   ]
  },
  {
   "cell_type": "markdown",
   "id": "5c86cd41-c355-4def-af3a-c510b1ffa0f4",
   "metadata": {},
   "source": [
    "# EI Exploration"
   ]
  },
  {
   "cell_type": "code",
   "execution_count": 104,
   "id": "fbb3929e-3918-4005-8798-673e685b51ef",
   "metadata": {},
   "outputs": [],
   "source": [
    "# Let's start with selecting intial training dataset for all the cases\n",
    "inputs = X_input_10thgen\n",
    "outputs_abs = y_gt_10thgen\n",
    "np.random.seed(12)\n",
    "# We start by picking 10 random trajectorties as the initialization dataset\n",
    "idx = np.random.choice(np.arange(len(inputs)), size = 10, replace = False)"
   ]
  },
  {
   "cell_type": "code",
   "execution_count": 105,
   "id": "52e7a9b9-bed6-47fe-82a0-3af5d2478553",
   "metadata": {},
   "outputs": [
    {
     "name": "stdout",
     "output_type": "stream",
     "text": [
      "8.97330506704132 15.678448096484642\n",
      "9.642672425172417 11.78337136341413\n"
     ]
    }
   ],
   "source": [
    "inputs_train = inputs[idx]\n",
    "inputs_unmeasured = np.delete(inputs, idx, axis=0)\n",
    "\n",
    "indices_total = np.arange(len(inputs))\n",
    "indices_train = indices_total[idx]\n",
    "y_train = outputs_abs[idx]\n",
    "indices_unmeasured = np.delete(indices_total, idx)\n",
    "\n",
    "print(np.min(outputs_abs), np.max(outputs_abs))\n",
    "print(np.min(y_train), np.max(y_train))"
   ]
  },
  {
   "cell_type": "code",
   "execution_count": 106,
   "id": "e2698ea3-869e-4101-9d0e-65b415143b72",
   "metadata": {},
   "outputs": [
    {
     "name": "stdout",
     "output_type": "stream",
     "text": [
      "\n",
      "Step 1\n"
     ]
    },
    {
     "name": "stderr",
     "output_type": "stream",
     "text": [
      "100%|█| 10000/10000 [00:09<00:00, 1042.59it/s, init loss: 60353.2826, avg. loss \n"
     ]
    },
    {
     "name": "stdout",
     "output_type": "stream",
     "text": [
      "\n",
      "Inferred GP kernel parameters\n",
      "k_length         [0.3679 0.31  ]\n",
      "k_scale          13.5892\n",
      "noise            0.101\n",
      "\n",
      "Step 2\n"
     ]
    },
    {
     "name": "stderr",
     "output_type": "stream",
     "text": [
      "100%|█| 10000/10000 [00:11<00:00, 895.30it/s, init loss: 60693.8223, avg. loss [\n"
     ]
    },
    {
     "name": "stdout",
     "output_type": "stream",
     "text": [
      "\n",
      "Inferred GP kernel parameters\n",
      "k_length         [0.352  0.3886]\n",
      "k_scale          15.1165\n",
      "noise            0.0863\n",
      "\n",
      "Step 3\n"
     ]
    },
    {
     "name": "stderr",
     "output_type": "stream",
     "text": [
      "100%|█| 10000/10000 [00:12<00:00, 814.22it/s, init loss: 61080.9071, avg. loss [\n"
     ]
    },
    {
     "name": "stdout",
     "output_type": "stream",
     "text": [
      "\n",
      "Inferred GP kernel parameters\n",
      "k_length         [0.4388 0.4693]\n",
      "k_scale          13.2088\n",
      "noise            0.12010000000000001\n",
      "\n",
      "Step 4\n"
     ]
    },
    {
     "name": "stderr",
     "output_type": "stream",
     "text": [
      "100%|█| 10000/10000 [00:14<00:00, 695.81it/s, init loss: 61511.4145, avg. loss [\n"
     ]
    },
    {
     "name": "stdout",
     "output_type": "stream",
     "text": [
      "\n",
      "Inferred GP kernel parameters\n",
      "k_length         [1.0474 0.6645]\n",
      "k_scale          11.7629\n",
      "noise            0.0848\n",
      "\n",
      "Step 5\n"
     ]
    },
    {
     "name": "stderr",
     "output_type": "stream",
     "text": [
      "100%|█| 10000/10000 [00:15<00:00, 663.46it/s, init loss: 61881.7087, avg. loss [\n"
     ]
    },
    {
     "name": "stdout",
     "output_type": "stream",
     "text": [
      "\n",
      "Inferred GP kernel parameters\n",
      "k_length         [1.4423 0.9595]\n",
      "k_scale          11.531400000000001\n",
      "noise            0.0748\n",
      "\n",
      "Step 6\n"
     ]
    },
    {
     "name": "stderr",
     "output_type": "stream",
     "text": [
      "100%|█| 10000/10000 [00:18<00:00, 537.08it/s, init loss: 62212.6233, avg. loss [\n"
     ]
    },
    {
     "name": "stdout",
     "output_type": "stream",
     "text": [
      "\n",
      "Inferred GP kernel parameters\n",
      "k_length         [1.7932 2.7166]\n",
      "k_scale          10.956100000000001\n",
      "noise            0.050800000000000005\n",
      "\n",
      "Step 7\n"
     ]
    },
    {
     "name": "stderr",
     "output_type": "stream",
     "text": [
      "100%|█| 10000/10000 [00:22<00:00, 453.62it/s, init loss: 62595.4053, avg. loss [\n"
     ]
    },
    {
     "name": "stdout",
     "output_type": "stream",
     "text": [
      "\n",
      "Inferred GP kernel parameters\n",
      "k_length         [2.9574 1.8933]\n",
      "k_scale          11.4626\n",
      "noise            0.0616\n",
      "\n",
      "Step 8\n"
     ]
    },
    {
     "name": "stderr",
     "output_type": "stream",
     "text": [
      "100%|█| 10000/10000 [00:22<00:00, 452.35it/s, init loss: 62885.7909, avg. loss [\n"
     ]
    },
    {
     "name": "stdout",
     "output_type": "stream",
     "text": [
      "\n",
      "Inferred GP kernel parameters\n",
      "k_length         [3.2994 3.2782]\n",
      "k_scale          10.5325\n",
      "noise            0.056400000000000006\n",
      "\n",
      "Step 9\n"
     ]
    },
    {
     "name": "stderr",
     "output_type": "stream",
     "text": [
      "100%|█| 10000/10000 [00:22<00:00, 442.17it/s, init loss: 63176.9411, avg. loss [\n"
     ]
    },
    {
     "name": "stdout",
     "output_type": "stream",
     "text": [
      "\n",
      "Inferred GP kernel parameters\n",
      "k_length         [3.5229 3.1774]\n",
      "k_scale          10.307\n",
      "noise            0.049600000000000005\n",
      "\n",
      "Step 10\n"
     ]
    },
    {
     "name": "stderr",
     "output_type": "stream",
     "text": [
      "100%|█| 10000/10000 [00:24<00:00, 401.65it/s, init loss: 63498.7977, avg. loss [\n"
     ]
    },
    {
     "name": "stdout",
     "output_type": "stream",
     "text": [
      "\n",
      "Inferred GP kernel parameters\n",
      "k_length         [2.8966 2.6337]\n",
      "k_scale          13.2779\n",
      "noise            0.0454\n"
     ]
    }
   ],
   "source": [
    "exploration_steps = 10\n",
    "for e in range(exploration_steps):\n",
    "    print(\"\\nStep {}\".format(e+1))\n",
    "    # Obtain/update DKL posterior\n",
    "    rng_key, pred_key = gpax.utils.get_keys()\n",
    "    dkl_BO = gpax.viDKL(900, 2, 'RBF')\n",
    "    dkl_BO.fit(rng_key, inputs_train, y_train, nn = CustomCNN, num_steps = 10000, step_size = 5e-4)\n",
    "    # Compute acqusition function\n",
    "    y_mean, y_var = dkl_BO.predict_in_batches(  # make prediction batch-by-batch to avoid memory overflow\n",
    "        pred_key, inputs_unmeasured, batch_size=250)\n",
    "    y_std = jnp.sqrt(y_var)\n",
    "\n",
    "    # EI aacquisition function\n",
    "    obj = gpax.acquisition.EI(pred_key,\n",
    "        dkl_BO,\n",
    "        inputs_unmeasured,\n",
    "        best_f = np.max(y_train),\n",
    "        n = 12,\n",
    "        maximize=True,\n",
    "        noiseless=True\n",
    "    )\n",
    "\n",
    "    sort = np.argsort(obj)[::-1]\n",
    "    # Get the next 5 points to evaluate\n",
    "    ids_next = sort[0:10]\n",
    "\n",
    "    x_next = inputs_unmeasured[ids_next]\n",
    "    inds_next = indices_unmeasured[ids_next]\n",
    "    \n",
    "    \n",
    "    # run simulation to get the ground truth\n",
    "    y_measured = outputs_abs[inds_next]\n",
    "\n",
    "    # Update training arrays\n",
    "    inputs_train = np.append(inputs_train, x_next, axis=0)\n",
    "    y_train = np.append(y_train, y_measured)\n",
    "    inputs_unmeasured = np.delete(inputs_unmeasured, ids_next, axis=0)\n",
    "    indices_unmeasured = np.delete(indices_unmeasured, ids_next)"
   ]
  },
  {
   "cell_type": "code",
   "execution_count": 107,
   "id": "c9d88aa4-05a4-46e1-adc6-b53c6170b549",
   "metadata": {},
   "outputs": [],
   "source": [
    "y_mean, y_var = dkl_BO.predict_in_batches(  # make prediction batch-by-batch to avoid memory overflow\n",
    "            pred_key, inputs, batch_size=64)\n",
    "y_std = jnp.sqrt(y_var)\n",
    "\n",
    "y_mean_train, y_var_train = dkl_BO.predict_in_batches(  # make prediction batch-by-batch to avoid memory overflow\n",
    "            pred_key, inputs_train, batch_size=64)\n",
    "y_std_train = jnp.sqrt(y_var_train)\n",
    "\n",
    "rmse = np.sqrt(np.mean((outputs_abs - np.array(y_mean)) ** 2))"
   ]
  },
  {
   "cell_type": "code",
   "execution_count": 108,
   "id": "50d22856-6cc7-419f-9311-b6eebb9fe3c4",
   "metadata": {},
   "outputs": [
    {
     "data": {
      "image/png": "[encoded data removed]",
      "text/plain": [
       "<Figure size 500x500 with 1 Axes>"
      ]
     },
     "metadata": {},
     "output_type": "display_data"
    }
   ],
   "source": [
    "fig, ax = plt.subplots(figsize = (5,5))\n",
    "ax.scatter(outputs_abs, np.array(y_mean), c = 'b', s = 5)\n",
    "ax.scatter(y_train, np.array(y_mean_train), c = 'r', s = 7)\n",
    "ax.plot(np.linspace(4, 16, 100), np.linspace(4, 16, 100), c = 'k')\n",
    "ax.set_xlabel('ground truth')\n",
    "ax.set_ylabel('Predictions')\n",
    "ax.set_title('rmse: {:.2f}, avg_uncer: {:.2f}'.format(rmse, np.mean(np.array(y_std))))\n",
    "\n",
    "plt.savefig('policy1_ei.png', dpi = 300)"
   ]
  },
  {
   "cell_type": "markdown",
   "id": "711a6bd9-1eca-47ad-b9dc-d9f039bf2f8a",
   "metadata": {},
   "source": [
    "# POI Exploration"
   ]
  },
  {
   "cell_type": "code",
   "execution_count": 109,
   "id": "7d5447f4-f296-41e4-ba15-de4968387530",
   "metadata": {},
   "outputs": [],
   "source": [
    "# Let's start with selecting intial training dataset for all the cases\n",
    "inputs = X_input_10thgen\n",
    "outputs_abs = y_gt_10thgen\n",
    "np.random.seed(12)\n",
    "# We start by picking 10 random trajectorties as the initialization dataset\n",
    "idx = np.random.choice(np.arange(len(inputs)), size = 10, replace = False)"
   ]
  },
  {
   "cell_type": "code",
   "execution_count": 110,
   "id": "aa53cb02-4b55-419c-9c0f-429f8e9b8099",
   "metadata": {},
   "outputs": [
    {
     "name": "stdout",
     "output_type": "stream",
     "text": [
      "8.97330506704132 15.678448096484642\n",
      "9.642672425172417 11.78337136341413\n"
     ]
    }
   ],
   "source": [
    "inputs_train = inputs[idx]\n",
    "inputs_unmeasured = np.delete(inputs, idx, axis=0)\n",
    "\n",
    "indices_total = np.arange(len(inputs))\n",
    "indices_train = indices_total[idx]\n",
    "y_train = outputs_abs[idx]\n",
    "indices_unmeasured = np.delete(indices_total, idx)\n",
    "\n",
    "print(np.min(outputs_abs), np.max(outputs_abs))\n",
    "print(np.min(y_train), np.max(y_train))"
   ]
  },
  {
   "cell_type": "code",
   "execution_count": 111,
   "id": "3c4c5f49-b9dd-46f1-a8b2-110056d4a8d2",
   "metadata": {},
   "outputs": [
    {
     "name": "stdout",
     "output_type": "stream",
     "text": [
      "\n",
      "Step 1\n"
     ]
    },
    {
     "name": "stderr",
     "output_type": "stream",
     "text": [
      "100%|█| 10000/10000 [00:09<00:00, 1044.67it/s, init loss: 60353.2826, avg. loss \n"
     ]
    },
    {
     "name": "stdout",
     "output_type": "stream",
     "text": [
      "\n",
      "Inferred GP kernel parameters\n",
      "k_length         [0.3679 0.31  ]\n",
      "k_scale          13.5892\n",
      "noise            0.101\n",
      "\n",
      "Step 2\n"
     ]
    },
    {
     "name": "stderr",
     "output_type": "stream",
     "text": [
      "100%|█| 10000/10000 [00:11<00:00, 901.36it/s, init loss: 60710.3247, avg. loss [\n"
     ]
    },
    {
     "name": "stdout",
     "output_type": "stream",
     "text": [
      "\n",
      "Inferred GP kernel parameters\n",
      "k_length         [0.369  0.3425]\n",
      "k_scale          14.6195\n",
      "noise            0.0782\n",
      "\n",
      "Step 3\n"
     ]
    },
    {
     "name": "stderr",
     "output_type": "stream",
     "text": [
      "100%|█| 10000/10000 [00:11<00:00, 882.67it/s, init loss: 61127.5825, avg. loss [\n"
     ]
    },
    {
     "name": "stdout",
     "output_type": "stream",
     "text": [
      "\n",
      "Inferred GP kernel parameters\n",
      "k_length         [0.7614 0.8568]\n",
      "k_scale          14.4747\n",
      "noise            0.1101\n",
      "\n",
      "Step 4\n"
     ]
    },
    {
     "name": "stderr",
     "output_type": "stream",
     "text": [
      "100%|█| 10000/10000 [00:13<00:00, 718.57it/s, init loss: 61489.9243, avg. loss [\n"
     ]
    },
    {
     "name": "stdout",
     "output_type": "stream",
     "text": [
      "\n",
      "Inferred GP kernel parameters\n",
      "k_length         [1.2904 1.3818]\n",
      "k_scale          13.0645\n",
      "noise            0.0689\n",
      "\n",
      "Step 5\n"
     ]
    },
    {
     "name": "stderr",
     "output_type": "stream",
     "text": [
      "100%|█| 10000/10000 [00:15<00:00, 631.76it/s, init loss: 61775.5194, avg. loss [\n"
     ]
    },
    {
     "name": "stdout",
     "output_type": "stream",
     "text": [
      "\n",
      "Inferred GP kernel parameters\n",
      "k_length         [1.4371 2.0003]\n",
      "k_scale          11.6118\n",
      "noise            0.08320000000000001\n",
      "\n",
      "Step 6\n"
     ]
    },
    {
     "name": "stderr",
     "output_type": "stream",
     "text": [
      "100%|█| 10000/10000 [00:19<00:00, 503.98it/s, init loss: 62188.3863, avg. loss [\n"
     ]
    },
    {
     "name": "stdout",
     "output_type": "stream",
     "text": [
      "\n",
      "Inferred GP kernel parameters\n",
      "k_length         [2.4975 1.8189]\n",
      "k_scale          10.9623\n",
      "noise            0.0718\n",
      "\n",
      "Step 7\n"
     ]
    },
    {
     "name": "stderr",
     "output_type": "stream",
     "text": [
      "100%|█| 10000/10000 [00:24<00:00, 408.27it/s, init loss: 62614.1333, avg. loss [\n"
     ]
    },
    {
     "name": "stdout",
     "output_type": "stream",
     "text": [
      "\n",
      "Inferred GP kernel parameters\n",
      "k_length         [3.1598 2.0924]\n",
      "k_scale          11.5466\n",
      "noise            0.0512\n",
      "\n",
      "Step 8\n"
     ]
    },
    {
     "name": "stderr",
     "output_type": "stream",
     "text": [
      "100%|█| 10000/10000 [00:25<00:00, 391.41it/s, init loss: 62982.0137, avg. loss [\n"
     ]
    },
    {
     "name": "stdout",
     "output_type": "stream",
     "text": [
      "\n",
      "Inferred GP kernel parameters\n",
      "k_length         [2.9793 2.797 ]\n",
      "k_scale          12.555100000000001\n",
      "noise            0.053200000000000004\n",
      "\n",
      "Step 9\n"
     ]
    },
    {
     "name": "stderr",
     "output_type": "stream",
     "text": [
      "100%|█| 10000/10000 [00:26<00:00, 378.66it/s, init loss: 63249.1320, avg. loss [\n"
     ]
    },
    {
     "name": "stdout",
     "output_type": "stream",
     "text": [
      "\n",
      "Inferred GP kernel parameters\n",
      "k_length         [2.4231 2.6711]\n",
      "k_scale          12.6462\n",
      "noise            0.0543\n",
      "\n",
      "Step 10\n"
     ]
    },
    {
     "name": "stderr",
     "output_type": "stream",
     "text": [
      "100%|█| 10000/10000 [00:29<00:00, 336.08it/s, init loss: 63428.9066, avg. loss [\n"
     ]
    },
    {
     "name": "stdout",
     "output_type": "stream",
     "text": [
      "\n",
      "Inferred GP kernel parameters\n",
      "k_length         [3.025  1.6739]\n",
      "k_scale          14.9069\n",
      "noise            0.0475\n"
     ]
    }
   ],
   "source": [
    "exploration_steps = 10\n",
    "for e in range(exploration_steps):\n",
    "    print(\"\\nStep {}\".format(e+1))\n",
    "    # Obtain/update DKL posterior\n",
    "    rng_key, pred_key = gpax.utils.get_keys()\n",
    "    dkl_BO = gpax.viDKL(900, 2, 'RBF')\n",
    "    dkl_BO.fit(rng_key, inputs_train, y_train, nn = CustomCNN, num_steps = 10000, step_size = 5e-4)\n",
    "    # Compute acqusition function\n",
    "    y_mean, y_var = dkl_BO.predict_in_batches(  # make prediction batch-by-batch to avoid memory overflow\n",
    "        pred_key, inputs_unmeasured, batch_size=250)\n",
    "    y_std = jnp.sqrt(y_var)\n",
    "\n",
    "    # EI aacquisition function\n",
    "    obj = gpax.acquisition.POI(pred_key,\n",
    "        dkl_BO,\n",
    "        inputs_unmeasured,\n",
    "        best_f = np.max(y_train),\n",
    "        n = 12,\n",
    "        maximize=True,\n",
    "        noiseless=True\n",
    "    )\n",
    "\n",
    "    sort = np.argsort(obj)[::-1]\n",
    "    # Get the next 5 points to evaluate\n",
    "    ids_next = sort[0:10]\n",
    "\n",
    "    x_next = inputs_unmeasured[ids_next]\n",
    "    inds_next = indices_unmeasured[ids_next]\n",
    "    \n",
    "    \n",
    "    # run simulation to get the ground truth\n",
    "    y_measured = outputs_abs[inds_next]\n",
    "\n",
    "    # Update training arrays\n",
    "    inputs_train = np.append(inputs_train, x_next, axis=0)\n",
    "    y_train = np.append(y_train, y_measured)\n",
    "    inputs_unmeasured = np.delete(inputs_unmeasured, ids_next, axis=0)\n",
    "    indices_unmeasured = np.delete(indices_unmeasured, ids_next)"
   ]
  },
  {
   "cell_type": "code",
   "execution_count": 112,
   "id": "0a4a5a2c-bcd8-46bc-b27a-3860be3b8327",
   "metadata": {},
   "outputs": [],
   "source": [
    "y_mean, y_var = dkl_BO.predict_in_batches(  # make prediction batch-by-batch to avoid memory overflow\n",
    "            pred_key, inputs, batch_size=64)\n",
    "y_std = jnp.sqrt(y_var)\n",
    "\n",
    "y_mean_train, y_var_train = dkl_BO.predict_in_batches(  # make prediction batch-by-batch to avoid memory overflow\n",
    "            pred_key, inputs_train, batch_size=64)\n",
    "y_std_train = jnp.sqrt(y_var_train)\n",
    "\n",
    "rmse = np.sqrt(np.mean((outputs_abs - np.array(y_mean)) ** 2))"
   ]
  },
  {
   "cell_type": "code",
   "execution_count": 113,
   "id": "78e1758f-acbb-4e70-ba91-b9a1b1214a0f",
   "metadata": {},
   "outputs": [
    {
     "data": {
      "image/png": "[encoded data removed]",
      "text/plain": [
       "<Figure size 500x500 with 1 Axes>"
      ]
     },
     "metadata": {},
     "output_type": "display_data"
    }
   ],
   "source": [
    "fig, ax = plt.subplots(figsize = (5,5))\n",
    "ax.scatter(outputs_abs, np.array(y_mean), c = 'b', s = 5)\n",
    "ax.scatter(y_train, np.array(y_mean_train), c = 'r', s = 7)\n",
    "ax.plot(np.linspace(4, 16, 100), np.linspace(4, 16, 100), c = 'k')\n",
    "ax.set_xlabel('ground truth')\n",
    "ax.set_ylabel('Predictions')\n",
    "ax.set_title('rmse: {:.2f}, avg_uncer: {:.2f}'.format(rmse, np.mean(np.array(y_std))))\n",
    "\n",
    "plt.savefig('policy1_poi.png', dpi = 300)"
   ]
  },
  {
   "cell_type": "code",
   "execution_count": null,
   "id": "3fafccbd-5047-4adc-9073-42173507e686",
   "metadata": {},
   "outputs": [],
   "source": []
  }
 ],
 "metadata": {
  "kernelspec": {
   "display_name": "Python 3 (ipykernel)",
   "language": "python",
   "name": "python3"
  },
  "language_info": {
   "codemirror_mode": {
    "name": "ipython",
    "version": 3
   },
   "file_extension": ".py",
   "mimetype": "text/x-python",
   "name": "python",
   "nbconvert_exporter": "python",
   "pygments_lexer": "ipython3",
   "version": "3.9.19"
  }
 },
 "nbformat": 4,
 "nbformat_minor": 5
}
