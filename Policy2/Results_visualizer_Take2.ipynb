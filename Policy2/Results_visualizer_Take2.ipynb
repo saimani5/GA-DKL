{
 "cells": [
  {
   "cell_type": "code",
   "execution_count": 1,
   "id": "4e352512-601d-4f6f-88e2-83d4cad0f190",
   "metadata": {},
   "outputs": [
    {
     "name": "stderr",
     "output_type": "stream",
     "text": [
      "/nfs/home/svalleti/anaconda3/envs/ferrosim/lib/python3.9/site-packages/tqdm/auto.py:21: TqdmWarning: IProgress not found. Please update jupyter and ipywidgets. See https://ipywidgets.readthedocs.io/en/stable/user_install.html\n",
      "  from .autonotebook import tqdm as notebook_tqdm\n"
     ]
    }
   ],
   "source": [
    "import numpy as np\n",
    "import matplotlib.pyplot as plt\n",
    "from ferrosim import Ferro2DSim\n",
    "# import torch\n",
    "import joblib\n",
    "from joblib import Parallel, delayed, parallel_backend\n",
    "import time\n",
    "np.random.seed(512)\n",
    "import pandas as pd\n",
    "# from sklearn.model_selection import train_test_split\n",
    "from scipy.stats import halfnorm, norm\n",
    "import pickle\n",
    "\n",
    "import gpax\n",
    "import jax.numpy as jnp\n",
    "gpax.utils.enable_x64()\n",
    "import jax"
   ]
  },
  {
   "cell_type": "code",
   "execution_count": 2,
   "id": "198e1e6c-7104-4f1e-9e1a-9eb906578009",
   "metadata": {},
   "outputs": [],
   "source": [
    "dataset = np.load('dataset.npy')   # 7,500 electric fields, the generation of these will be discussed below\n",
    "curls = np.load('curls.npy')   # Polarization matrices at the end of FerroSIM simulations for the electric fields downloaded\n",
    "defects = np.load('defect_list_seed.npy')   # Defects used in ferroSIM simulations\n",
    "defect_list = list(defects)\n",
    "\n",
    "t_vec_dummy = np.linspace(0,4,1200)\n",
    "t_vec = t_vec_dummy[0:900]  #Time used in rvae  \n",
    "t_vec_ext = t_vec_dummy[0:950]    #Time used in ferrosim\n",
    "\n",
    "np.random.seed(521)\n",
    "dummy = np.random.choice(np.arange(len(dataset)), size = 1000, replace = False)\n",
    "X0 = np.copy(dataset)[dummy]\n",
    "y0_abs = np.copy(curls)[dummy]"
   ]
  },
  {
   "cell_type": "code",
   "execution_count": 9,
   "id": "b69875fc-5f20-40e3-baec-9d57c2496651",
   "metadata": {},
   "outputs": [],
   "source": [
    "with open('allgens_data_policy2_variance_take2.pickle', 'rb') as f:\n",
    "    data_gens = pickle.load(f)"
   ]
  },
  {
   "cell_type": "code",
   "execution_count": 10,
   "id": "745e61fa-9cf0-4e66-9155-abf456abfed8",
   "metadata": {},
   "outputs": [
    {
     "name": "stdout",
     "output_type": "stream",
     "text": [
      "14.993999259870808\n",
      "14.718485336096474\n",
      "14.836228504526963\n",
      "14.836228504526963\n",
      "10.954120912427461\n",
      "11.122662326642024\n",
      "12.666887152525197\n",
      "12.666887152525197\n",
      "12.666887152525197\n",
      "12.863485829532763\n",
      "11.31309006102757\n",
      "13.767200832651447\n",
      "13.767200832651447\n",
      "13.767200832651447\n",
      "13.767200832651447\n",
      "13.767200832651447\n",
      "13.767200832651447\n",
      "13.767200832651447\n",
      "13.767200832651447\n",
      "13.767200832651447\n"
     ]
    }
   ],
   "source": [
    "for i in data_gens.keys():\n",
    "    print(np.nanmax(data_gens[i]['y_abs']))"
   ]
  },
  {
   "cell_type": "code",
   "execution_count": 11,
   "id": "d0f2e234-736a-41c2-970b-9b341aaf29bd",
   "metadata": {},
   "outputs": [
    {
     "data": {
      "text/plain": [
       "Text(0, 0.5, 'target function Maximum')"
      ]
     },
     "execution_count": 11,
     "metadata": {},
     "output_type": "execute_result"
    },
    {
     "data": {
      "image/png": "[encoded data removed]",
      "text/plain": [
       "<Figure size 700x400 with 1 Axes>"
      ]
     },
     "metadata": {},
     "output_type": "display_data"
    }
   ],
   "source": [
    "max_values = []\n",
    "for i in range(20):\n",
    "    max_values.append(np.nanmax(data_gens[i]['y_abs']))\n",
    "\n",
    "fig, ax = plt.subplots(figsize = (7,4))\n",
    "ax.plot(np.arange(20), max_values)\n",
    "ax.set_xlabel('Generations')\n",
    "ax.set_ylabel('target function Maximum')\n",
    "\n",
    "# plt.savefig('ThompsonPolicy_targetfuncmax_take2.png', dpi = 300)"
   ]
  },
  {
   "cell_type": "code",
   "execution_count": 6,
   "id": "065b252a-9126-4028-a948-aa241ea4d7f5",
   "metadata": {},
   "outputs": [
    {
     "name": "stderr",
     "output_type": "stream",
     "text": [
      "/tmp/ipykernel_1271839/1431395037.py:26: DeprecationWarning: Starting with ImageIO v3 the behavior of this function will switch to that of iio.v3.imread. To keep the current behavior (and make this warning disappear) use `import imageio.v2 as imageio` or call `imageio.v2.imread` directly.\n",
      "  image = imageio.imread(f\"{image_dir}plot_{i:03d}.png\")\n"
     ]
    },
    {
     "name": "stdout",
     "output_type": "stream",
     "text": [
      "Video creation complete.\n"
     ]
    }
   ],
   "source": [
    "import imageio\n",
    "\n",
    "# Directory to store images\n",
    "image_dir = 'ThompsonPolicyplots/'\n",
    "video_filename = 'ThompsonPolicy_gtgenerationvideo.gif'\n",
    "bins = np.arange(7, 19, 0.75)\n",
    "# Create images from plots\n",
    "for i in data_gens.keys():\n",
    "    data = data_gens[i]\n",
    "    plt.figure(figsize=(10, 6))\n",
    "    plt.hist(y0_abs, bins = bins, color = 'red', alpha = 0.3)\n",
    "    plt.hist(data['y_abs'], bins=bins, color='blue', alpha=0.5)\n",
    "    \n",
    "    plt.xlim([5, 19])\n",
    "    plt.ylim([0, 80])\n",
    "    plt.xlabel('Curl')\n",
    "    plt.ylabel('Counts')\n",
    "    plt.title(f'Generation {i}')\n",
    "    plt.grid(True)\n",
    "    plt.savefig(f\"{image_dir}plot_{i:03d}.png\", dpi = 300)\n",
    "    plt.close()\n",
    "\n",
    "# Create a video from images\n",
    "with imageio.get_writer(video_filename, mode='I', fps=3) as writer:\n",
    "    for i in range(20):\n",
    "        image = imageio.imread(f\"{image_dir}plot_{i:03d}.png\")\n",
    "        \n",
    "        writer.append_data(image)\n",
    "\n",
    "print(\"Video creation complete.\")"
   ]
  },
  {
   "cell_type": "code",
   "execution_count": 7,
   "id": "201ea1d9-a688-48eb-bc0c-348362ed74ad",
   "metadata": {},
   "outputs": [
    {
     "name": "stderr",
     "output_type": "stream",
     "text": [
      "/tmp/ipykernel_1271839/1388200772.py:25: DeprecationWarning: Starting with ImageIO v3 the behavior of this function will switch to that of iio.v3.imread. To keep the current behavior (and make this warning disappear) use `import imageio.v2 as imageio` or call `imageio.v2.imread` directly.\n",
      "  image = imageio.imread(f\"{image_dir}fitnessplot_{i:03d}.png\")\n"
     ]
    },
    {
     "name": "stdout",
     "output_type": "stream",
     "text": [
      "Video creation complete.\n"
     ]
    }
   ],
   "source": [
    "import imageio\n",
    "\n",
    "# Directory to store images\n",
    "image_dir = 'ThompsonPolicyplots/'\n",
    "video_filename = 'ThompsonPolicy_predmeanvideo.gif'\n",
    "bins = np.arange(0, 22, 1)\n",
    "# Create images from plots\n",
    "for i in data_gens.keys():\n",
    "    data = data_gens[i]\n",
    "    plt.figure(figsize=(10, 6))\n",
    "    plt.hist(y0_abs, bins=bins, color='red', alpha=0.3)\n",
    "    plt.hist(data['pred_mean'], bins=bins, color='blue', alpha=0.5)\n",
    "    plt.xlim([5, 18])\n",
    "    plt.ylim([0, 700])\n",
    "    plt.xlabel('Curl')\n",
    "    plt.ylabel('Counts')\n",
    "    plt.title(f'Generation {i}')\n",
    "    plt.grid(True)\n",
    "    plt.savefig(f\"{image_dir}fitnessplot_{i:03d}.png\", dpi = 300)\n",
    "    plt.close()\n",
    "\n",
    "# Create a video from images\n",
    "with imageio.get_writer(video_filename, mode='I', fps=3) as writer:\n",
    "    for i in range(20):\n",
    "        image = imageio.imread(f\"{image_dir}fitnessplot_{i:03d}.png\")\n",
    "        \n",
    "        writer.append_data(image)\n",
    "\n",
    "print(\"Video creation complete.\")"
   ]
  },
  {
   "cell_type": "code",
   "execution_count": null,
   "id": "90f84193-7e99-4d29-a044-8a3f25605656",
   "metadata": {},
   "outputs": [],
   "source": []
  }
 ],
 "metadata": {
  "kernelspec": {
   "display_name": "Python 3 (ipykernel)",
   "language": "python",
   "name": "python3"
  },
  "language_info": {
   "codemirror_mode": {
    "name": "ipython",
    "version": 3
   },
   "file_extension": ".py",
   "mimetype": "text/x-python",
   "name": "python",
   "nbconvert_exporter": "python",
   "pygments_lexer": "ipython3",
   "version": "3.9.19"
  }
 },
 "nbformat": 4,
 "nbformat_minor": 5
}
